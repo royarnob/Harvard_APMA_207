{
 "cells": [
  {
   "cell_type": "markdown",
   "metadata": {},
   "source": [
    "# Homework #1 (Due 09/17/2020, 11:59pm)\n",
    "## Maximum Likelihood Learning and Bayesian Inference\n",
    "\n",
    "**AM 207: Advanced Scientific Computing**<br>\n",
    "**Instructor: Weiwei Pan**<br>\n",
    "**Fall 2020**"
   ]
  },
  {
   "cell_type": "markdown",
   "metadata": {},
   "source": [
    "**Name:** Arnob Roy\n",
    "\n",
    "**Students collaborators:** I spoke with Ansuman Praty (I hope that is how you spell his name) mostly about part 2. He mentioned that he had already submitted his work by the time I asked him."
   ]
  },
  {
   "cell_type": "markdown",
   "metadata": {},
   "source": [
    "### Instructions:\n",
    "\n",
    "**Submission Format:** Use this notebook as a template to complete your homework. Please intersperse text blocks (using Markdown cells) amongst `python` code and results -- format your submission for maximum readability. Your assignments will be graded for correctness as well as clarity of exposition and presentation -- a “right” answer by itself without an explanation or is presented with a difficult to follow format will receive no credit.\n",
    "\n",
    "**Code Check:** Before submitting, you must do a \"Restart and Run All\" under \"Kernel\" in the Jupyter or colab menu. Portions of your submission that contains syntactic or run-time errors will not be graded.\n",
    "\n",
    "**Libraries and packages:** Unless a problems specifically asks you to implement from scratch, you are welcomed to use any `python` library package in the standard Anaconda distribution."
   ]
  },
  {
   "cell_type": "code",
   "execution_count": null,
   "metadata": {},
   "outputs": [],
   "source": [
    "### Import basic libraries\n",
    "import numpy as np\n",
    "import pandas as pd\n",
    "import sklearn as sk\n",
    "import scipy as sp\n",
    "from scipy.stats import mode\n",
    "from scipy.stats import dirichlet\n",
    "from sklearn.linear_model import LinearRegression\n",
    "import matplotlib\n",
    "import matplotlib.pyplot as plt\n",
    "%matplotlib inline"
   ]
  },
  {
   "cell_type": "code",
   "execution_count": 15,
   "metadata": {},
   "outputs": [],
   "source": [
    "def plot_beta_prior(a, b, color, ax):\n",
    "    '''--------  plot_beta_prior\n",
    "    A function to visualize a beta pdf on a set of axes\n",
    "    Input: \n",
    "         a (parameter controlling shape of beta prior)\n",
    "         b (parameter controlling shape of beta prior)\n",
    "         color (color of beta pdf)\n",
    "         ax (axes on which to plot pdf)\n",
    "    Returns: \n",
    "         ax (axes with plot of beta pdf)\n",
    "    '''\n",
    "    \n",
    "    #Create a beta-distributed random variable with shape a, b\n",
    "    rv = sp.stats.beta(a, b)\n",
    "    #Create values from 0 to 1\n",
    "    x = np.linspace(0, 1, 100)\n",
    "    #Plot the beta pdf for values from 0 to 1\n",
    "    ax.plot(x, rv.pdf(x), '-', lw=2, color=color, label='a=' + str(a) + ', b=' + str(b))\n",
    "    #Set title, legend etc\n",
    "    ax.set_title('Beta prior with a=' + str(a) + ', b=' + str(b))\n",
    "    ax.legend(loc='best')\n",
    "    \n",
    "    return ax\n",
    "\n",
    "## CREDIT: https://docs.scipy.org/doc/scipy/reference/generated/scipy.stats.dirichlet.html\n",
    "def plot_dir_prior(a, b, color, ax):\n",
    "\n",
    "    rv = sp.stats.dirichlet(a, b)\n",
    "   \n",
    "    x = np.linspace(0, 1, 100)\n",
    "    \n",
    "    ax.plot(x, rv.pdf(x), '-', lw=2, color=color, label='a=' + str(a) + ', b=' + str(b))\n",
    "   \n",
    "    ax.set_title('Beta prior with a=' + str(a) + ', b=' + str(b))\n",
    "    ax.legend(loc='best')\n",
    "    \n",
    "    return ax\n",
    "\n",
    "def sample_posterior(a, b, likes, ratings, n_samples):\n",
    "    '''--------  sample_posterior\n",
    "    A function that samples points from the posterior over a movie's \n",
    "    likability, given a binomial likelihood function and beta prior\n",
    "    Input: \n",
    "         a (parameter controlling shape of beta prior)\n",
    "         b (parameter controlling shape of beta prior)\n",
    "         likes (the number of likes in likelihood)\n",
    "         ratings (total number of ratings in likelihood)\n",
    "         n_samples (number of samples to take from posterior)\n",
    "    Returns: \n",
    "         post_samples (a array of points from the posterior)\n",
    "    '''\n",
    "    #Samples points from a beta distribution \n",
    "    #(the posterior of a binomial likelihood and a beta prior is a beta distribution!)\n",
    "    post_samples = np.random.beta(a + likes, b + ratings - likes, n_samples)\n",
    "    return post_samples\n",
    "\n",
    "## CREDIT: https://numpy.org/doc/stable/reference/random/generated/numpy.random.dirichlet.html\n",
    "def sample_dir_posterior(a, n_samples):\n",
    "\n",
    "    post_samples = np.random.dirichlet(a, n_samples)\n",
    "    \n",
    "    return post_samples\n",
    "\n",
    "\n",
    "def find_mode(values, num_bins):\n",
    "    '''--------  find_mode\n",
    "    A function that approximates the mode of a distribution given a sample from the distribution\n",
    "    Input: \n",
    "         values (samples from the distribution)\n",
    "         num_bins (number of bins to use in approximating histogram)\n",
    "    Returns: \n",
    "         mode (the approximate mode of the distribution)\n",
    "    '''\n",
    "    \n",
    "    #Make an approximation (histogram) of the distribution using the samples\n",
    "    bins, edges = np.histogram(values, bins=num_bins)\n",
    "    #Find the bin in the histogram with the max height\n",
    "    max_height_index = np.argmax(bins)\n",
    "    #Find the sample corresponding to the bin with the max height (the mode)\n",
    "    mode = (edges[max_height_index] + edges[max_height_index + 1]) / 2.\n",
    "    \n",
    "    return mode"
   ]
  },
  {
   "cell_type": "markdown",
   "metadata": {},
   "source": [
    "## Problem Description\n",
    "In the competitive rubber chicken retail market, the success of a company is built on satisfying the exacting standards of a consumer base with refined and discriminating taste. In particular, customer product reviews are all important. But how should we judge the quality of a product based on customer reviews?\n",
    "\n",
    "On Amazon, the first customer review statistic displayed for a product is the ***average rating***. The following are the main product pages for two competing rubber chicken products, manufactured by Lotus World and Toysmith respectively:\n",
    "\n",
    "\n",
    "Lotus World |  Toysmith\n",
    "- |  - \n",
    "![alt](lotus1.png) |  ![alt](toysmith1.png)\n",
    "\n",
    "Clicking on the 'customer review' link on the product pages takes us to a detailed break-down of the reviews. In particular, we can now see the number of times a product is rated a given rating (between 1 and 5 stars).\n",
    "\n",
    "Lotus World |  Toysmith\n",
    "- |  - \n",
    "![alt](lotus2.png) |  ![alt](toysmith2.png)\n",
    "\n",
    "\n",
    "In the following, we will ask you to build statistical models to compare these two products using the observed rating. Larger versions of the images are available in the data set accompanying this notebook.\n",
    "\n",
    "\n",
    "\n",
    "## Part I: A Maximum Likelihood Model\n",
    "1. **(Model Building)** Suppose that for each product, we can model the probability of the value each new rating as the following vector:\n",
    "$$\n",
    "\\theta = [\\theta_1, \\theta_2, \\theta_3, \\theta_4, \\theta_5]\n",
    "$$\n",
    "  where $\\theta_i$ is the probability that a given customer will give the product $i$ number of stars. That is, each new rating (a value between 1 and 5) has a categorical distribution $Cat(\\theta)$. Represent the observed ratings of an Amazon product as a vector $R = [r_1, r_2, r_3, r_4, r_5]$ where, for example, $r_4$ is the number of $4$-star reviews out of a total of $N$ ratings. Write down the likelihood of $R$. That is, what is $p(R| \\theta)$?\n",
    "\n",
    "  **Note:** The observed ratings for each product should be read off the image files included in the dataset."
   ]
  },
  {
   "cell_type": "markdown",
   "metadata": {},
   "source": [
    "***My Answer Attempt.***\n",
    "\n",
    "Let the outcome be modeled by,\n",
    "$$\n",
    "Y \\sim Cat(\\theta) : \\theta=[\\theta_1, \\theta_2,\\dots,\\theta_5] \\to \\sum^5_{i=1} \\theta_i = 1: \\mathbb{P}(i)=\\theta_i\n",
    "$$\n",
    "\n",
    "From the \"Die Roll\" slide of the lecture 3 notebook, it seems as though this example best follows the multinomial model where there is a $N$ number of independent and identically distributed outcomes $R_1,\\dots R_n \\sim p(R|\\theta)$ observations of Amazon product ratings represented as vector $R=[r_1,r_2,r_3,r_4,r_5$.\n",
    "\n",
    "The probability mass function of a multinomial distribution can be defined as,\n",
    "$$\n",
    "p(R_1=r_1, \\dots, R_5=r_5)=\\dfrac{n!}{r_1!\\cdots r_5!}p_1^{r_1}\\cdots p_5^{r_5}: n\\in\\mathbb{N}\n",
    "$$\n",
    "Credit: https://en.wikipedia.org/wiki/Multinomial_distribution\n",
    "\n",
    "Thus, the likelihood function of $R$ can be written as,\n",
    "$$\n",
    "\\mathcal{L}(\\theta)=\\prod^N_{n=1} p(R|\\theta)=\\prod^N_{n=1} \\dfrac{n!}{r_1!\\cdots r_5!}p_1^{r_1}\\cdots p_5^{r_5}\n",
    "$$\n",
    "\n",
    "For the Loftus World rubber chicken ratings, $N=162$ and $R=[r_1=(6\\%*162),r_2=(4\\%*162),r_3=(6\\%*162),r_4=(17\\%*162),r_5=(67\\%*162)]$\n",
    "$$\n",
    "\\to R=[9.72, 6.48, 9.72, 27.54, 108.54]\n",
    "$$\n",
    "\n",
    "Then the likelihood function for the Loftus World ratings can be written as,\n",
    "$$\n",
    "\\mathcal{L}(\\theta)=\\prod^N_{n=1} p(R|\\theta)=\\prod^N_{n=1} \\dfrac{162!}{9.72!\\ 6.48!\\ 9.72!\\ 27.54!\\ 108.54!}p_1^{9.72!}\\cdots p_5^{108.54!}\n",
    "$$\n",
    "\n",
    "For the Toysmith rubber chicken ratings, $N=410$ and $R=[r_1=(14\\%*410), r_2=(8\\%*410), r_3=(7\\%*410), r_4=(11\\%*410), r_5=(60\\%*410)]$\n",
    "$$\n",
    "\\to R=[57.40, 32.8, 28.7, 45.1, 246.0]\n",
    "$$\n",
    "\n",
    "Then the likelihood function for the Toysmith World ratings can be written as,\n",
    "$$\n",
    "\\mathcal{L}(\\theta)=\\prod^N_{n=1} p(R|\\theta)=\\prod^N_{n=1} \\dfrac{410!}{57.4!\\ 32.8!\\ 28.7!\\ 45.1!\\ 246!}p_1^{57.40!}\\cdots p_5^{246!}\n",
    "$$"
   ]
  },
  {
   "cell_type": "code",
   "execution_count": 7,
   "metadata": {},
   "outputs": [
    {
     "name": "stdout",
     "output_type": "stream",
     "text": [
      "[9.719999999999999, 6.48, 9.719999999999999, 27.540000000000003, 108.54]\n",
      "[57.400000000000006, 32.8, 28.700000000000003, 45.1, 246.0]\n"
     ]
    }
   ],
   "source": [
    "# Some simple calculation\n",
    "\n",
    "#Loftus World, R Vector\n",
    "loftus = [0.06*162, 0.04*162, 0.06*162, 0.17*162, 0.67*162]\n",
    "\n",
    "#Toysmith, R Vector\n",
    "toysmith = [0.14*410, 0.08*410, 0.07*410, 0.11*410, 0.6*410]\n",
    "\n",
    "print(loftus)\n",
    "print(toysmith)\n"
   ]
  },
  {
   "cell_type": "markdown",
   "metadata": {},
   "source": [
    "2. **(Model Fitting)** Find the maximum likelihood estimator of $\\theta$ for the Lotus World model; find the MLE of $\\theta$ for the Toysmith model. You need to make a reasonably mathematical argument for why your estimate actually maximizes the likelihood (i.e. recall the criteria for a point to be a global optima of a function).\n",
    "\n",
    "  *Note:* I recommend deriving the MLE using the general expression of the likelihood. That is, derive the posterior using the variable $R$, then afterwards plug in your specific values of $R$ for each product."
   ]
  },
  {
   "cell_type": "markdown",
   "metadata": {},
   "source": [
    "The general expression of my likelihood was,\n",
    "$$\n",
    "\\mathcal{L}(\\theta)=\\prod^N_{n=1} p(R|\\theta)=\\prod^N_{n=1} \\dfrac{n!}{r_1!\\cdots r_5!}p_1^{r_1}\\cdots p_5^{r_5}\n",
    "$$\n",
    "\n",
    "Re-write more general form,\n",
    "$$\n",
    "\\mathcal{L}(\\theta)=\\prod^N_{n=1} \\dfrac{n!(p_i^{r_i)}}{r_i!}\n",
    "$$\n",
    "credit: https://blog.jakuba.net/maximum-likelihood-for-multinomial-distribution/\n",
    "\n",
    "To find MLE, we take the derivative of the likelihood function with respect to its parameters and find its critical points. Here $\\theta$ represents the true probability of each type of rating $i$ (i.e. 1-star, 2-star...). Thus, I am most interested in finding $p_1^{MLE}, p_2^{MLE},...,p_5^{MLE}.$\n",
    "\n",
    "\n",
    "Thus,\n",
    "$$\n",
    "p_1^{MLE}, p_2^{MLE},...,p_5^{MLE}=\\arg\\max_{p_1, p_2, \\dots, p_5} n! \\prod^N_{n=1} \\dfrac{p_1^{r_1}\\cdots p_5^{r_5}}{r_1!\\cdots r_5!}\n",
    "$$\n",
    "\n",
    "But first, consider log-likelihood since this is a monotonically increasing multiplicative function,\n",
    "$$\n",
    "\\log \\mathcal{L}(\\theta)=\\log n! \\prod^N_{n=1} \\dfrac{p_i^{r_i}}{r_i!}\n",
    "$$\n",
    "\n",
    "Which simplifies to,\n",
    "$$\n",
    "\\log \\mathcal{L}(\\theta)=\\log n! + \\sum ^N_{n=1} r_i \\log p_i -  \\sum ^N_{n=1} r_i!\n",
    "$$\n",
    "\n",
    "This optimization problem has the constraint,\n",
    "$$\n",
    "\\sum^N_{n=1}p_i=1\n",
    "$$\n",
    "\n",
    "Credit to Jakub Arnold (linked above) who derived the MLE for the multinomial distribution in his blog. He differentiated the lagrangian with respect to the true probability $p_i$ (in his blog it was $\\pi_i$) and with the previously mentioned constraint,\n",
    "\n",
    "$$\n",
    "\\dfrac{\\partial}{\\partial p_i} \\mathcal{L} (p, \\lambda)= \\dfrac{\\partial}{\\partial p_i} \\mathcal{L} (p) + \\dfrac{\\partial}{\\partial p_i} \\mathcal{L} (\\lambda) (1-\\sum^N_{n=1}p_i) \\longrightarrow p_i=\\dfrac{r_i}{\\lambda}\n",
    "$$\n",
    "\n",
    "Then he solved for $\\lambda$ using the given constraint\n",
    "\n",
    "$$\n",
    "p_i=\\dfrac{r_i}{\\lambda} \\longrightarrow p_i=\\dfrac{r_i}{n}\n",
    "$$\n",
    "\n",
    "A reasonably mathematical argument for why this estimate would maximize the likelihood can be shown using definition 4.2 of \"Convex Optimization Overview\" (Kolter). The definition states that $\\text{a point }x\\text{ is globally optimal if it is feasible and }\\forall\\text{ feasible points }z, f(x)\\le f(z).$ Now, if this is a convex optimization problem, all locally optimal points are globally optimal. (Page 8, Kolter)\n",
    "\n",
    "So the MLE for Loftus World for each $p_i$:\n",
    "$$\n",
    "p_1=\\frac{9.72}{162}=0.06,\\ p_2=\\frac{6.48}{162}=0.04,\\ p_3=\\frac{9.72}{162}=0.06,\\ p_4=\\frac{27.54}{162}=0.17,\\ p_5=\\frac{108.54}{162}=0.67\n",
    "$$\n",
    "\n",
    "And the MLE for Toysmith for each $p_i$:\n",
    "$$\n",
    "p_1=\\frac{57.4}{410}=0.14,\\ p_2=\\frac{32.8}{410}=0.08,\\ p_3=\\frac{28.7}{410}=0.07,\\ p_4=\\frac{45.1}{410}=0.11,\\ p_5=\\frac{246.0}{410}=0.6\n",
    "$$"
   ]
  },
  {
   "cell_type": "code",
   "execution_count": 4,
   "metadata": {},
   "outputs": [
    {
     "name": "stdout",
     "output_type": "stream",
     "text": [
      "[0.060000000000000005, 0.04, 0.060000000000000005, 0.16999999999999998, 0.67]\n",
      "[0.13999999999999999, 0.07999999999999999, 0.06999999999999999, 0.11, 0.6]\n"
     ]
    }
   ],
   "source": [
    "loftus_mle = [9.72/162, 6.48/162, 9.72/162, 27.54/162, 108.54/162]\n",
    "toysmith_mle = [57.4/410, 32.8/410, 28.7/410, 45.1/410, 246/410]\n",
    "\n",
    "print(loftus_mle)\n",
    "print(toysmith_mle)"
   ]
  },
  {
   "cell_type": "markdown",
   "metadata": {},
   "source": [
    "3. **(Model Interpretation)** Based on your MLE of $\\theta$'s for both models, do you feel confident deciding if one product is superior to another? Why or why not?"
   ]
  },
  {
   "cell_type": "markdown",
   "metadata": {},
   "source": [
    "I am still unsure if MLE has really given me much more information than I had observed from the ratings page.\n",
    "\n",
    "I am not sure how consistent or biased the MLE is for the ratings, so I am not much more confident than I was before.\n",
    "\n",
    "While there are many more ratings for the Toysmith ($N=410$), MLE tells me that the true probability of a 5-star rating is 60% and 4-star rating is 11%. While there are less rating for Loftus World ($N=162$) MLE tells me that the true probability of a 5-star rating is 67% and 4-star rating is 17%.\n",
    "\n",
    "It seems that the Loftus World rating is \"higher\" but is this rating biased? Is the rating higher because it was a less expensive rubber chicken (before shipping, and still slightly less after shipping) and customers expected less? The Toysmith rubber chicken has Amazon Prime shipping, does this alter customer's expectations. In reality, there may be many confounding variables that we are unaware of, and given the limited information provided for the vector $R$, we have not \"sampled\" the ratings of many different \"samples of customers\" to get the best possible answer to our question here. Thus, I cannot fully determine if one product is \"superior\" to another, simply based on average customer ratings.\n",
    "\n",
    "There may be other methods of analyzing the ratings to better account of customer expectations which may help us decide in the future. We have also not checked for outliers, as MLE can be sensitive to outliers; i.e. a customer giving 1-star due to bad shipping service which is unrelated to the product, or giving a 5-star review because he or she is associated with the business selling the rubber chickens."
   ]
  },
  {
   "cell_type": "markdown",
   "metadata": {},
   "source": [
    "## Part II: A Bayesian Model\n",
    "\n",
    "1. **(Model Building)** Suppose you are told that customer opinions are very polarized in the retail world of rubber chickens, that is, most reviews will be 5 stars or 1 stars (with little middle ground). What would be an appropriate $\\alpha$ for the Dirichlet prior on $\\theta$? Recall that the Dirichlet pdf is given by:\n",
    "$$\n",
    "p_{\\Theta}(\\theta) = \\frac{1}{B(\\alpha)} \\prod_{i=1}^k \\theta_i^{\\alpha_i - 1}, \\quad B(\\alpha) = \\frac{\\prod_{i=1}^k\\Gamma(\\alpha_i)}{\\Gamma\\left(\\sum_{i=1}^k\\alpha_i\\right)},\n",
    "$$\n",
    "where $\\theta_i \\in (0, 1)$ and $\\sum_{i=1}^k \\theta_i = 1$, $\\alpha_i > 0 $ for $i = 1, \\ldots, k$."
   ]
  },
  {
   "cell_type": "markdown",
   "metadata": {},
   "source": [
    "Credit: https://en.wikipedia.org/wiki/Dirichlet_distribution\n",
    "\n",
    "Useful fact: The Dirichlet distribution is conjugate prior to the categorical/multinomial distribution\n",
    "\n",
    "An appropriate $\\alpha$ could possibly be $\\alpha=0.5$. I say this because in the Beta-distribution an $\\alpha=\\beta=0.5$ gives a distribution where there is \"little middle ground,\" and the Dirichlet distribution can be thought of as a multivariate beta distribution."
   ]
  },
  {
   "cell_type": "code",
   "execution_count": 5,
   "metadata": {},
   "outputs": [
    {
     "data": {
      "image/png": "[encoded data removed]",
      "text/plain": [
       "<Figure size 1440x288 with 2 Axes>"
      ]
     },
     "metadata": {
      "needs_background": "light"
     },
     "output_type": "display_data"
    }
   ],
   "source": [
    "fig, ax = plt.subplots(1, 2, figsize=(20, 4))\n",
    "\n",
    "ax_ind = 0\n",
    "\n",
    "plot_beta_prior(0.5, 0.5, 'blue', ax[ax_ind])\n",
    "\n",
    "plt.tight_layout()    \n",
    "plt.show() "
   ]
  },
  {
   "cell_type": "markdown",
   "metadata": {},
   "source": [
    "2. **(Inference)** Analytically derive the posterior distribution (using the likelihoods you derived in Part I) for each product.\n",
    "\n",
    "  *Note:* I recommend deriving the posterior using the general expression of a Dirichelet pdf. That is, derive the posterior using the variable $\\alpha$, then afterwards plug in your specific values of $\\alpha$ when you need to."
   ]
  },
  {
   "cell_type": "markdown",
   "metadata": {},
   "source": [
    "Recall:\n",
    "\n",
    "\\begin{aligned}\n",
    "p(\\theta | Y) = \\frac{\\overbrace{p(Y| \\theta)}^{\\text{likelihood}} \\overbrace{p(\\theta)}^{\\text{prior}}}{\\underbrace{p(Y)}_{\\text{marginal data likelihood}}} = \\frac{p(Y, \\theta)}{\\int p(Y, \\theta) d\\theta}\n",
    "\\end{aligned}\n",
    "\n",
    "Then, from part I:\n",
    "\n",
    "$$\n",
    "\\longrightarrow \\dfrac{\\mathcal{L}(\\theta)p_\\Theta(\\theta)}{p(Y)}=  \\dfrac{\\prod^N_{n=1} \\dfrac{n!(p_i^{r_i})}{r_i!} \\frac{1}{B(\\alpha)} \\prod_{i=1}^k \\theta_i^{\\alpha_i - 1}}{p(Y)}\n",
    "\\longrightarrow \\dfrac{\\prod^N_{n=1} \\dfrac{n!(p_i^{r_i})}{r_i!} \\frac{1}{B(\\alpha)} \\prod_{i=1}^k \\theta_i^{\\alpha_i - 1}}{\\int \\prod^N_{n=1} \\dfrac{n!(p_i^{r_i})}{r_i!} \\frac{1}{B(\\alpha)} \\prod_{i=1}^k \\theta_i^{\\alpha_i - 1} d\\theta}\n",
    "$$\n",
    "\n",
    "Since $P(Y, \\theta)$ is monotonically increasing, consider taking the logarithm,\n",
    "\n",
    "$$\n",
    "\\dfrac{\\log(\\prod^N_{n=1} \\dfrac{n!(p_i^{r_i})}{r_i!} \\frac{1}{B(\\alpha)} \\prod_{i=1}^k \\theta_i^{\\alpha_i - 1})}{\\int \\log n! + \\sum ^N_{n=1} r_i \\log p_i -  \\sum ^N_{n=1} r_i! \\log (\\frac{1}{B(\\alpha)} \\prod_{i=1}^k \\theta_i^{\\alpha_i - 1}) d\\theta} \\longrightarrow \\dfrac{\\log(\\prod^N_{n=1} \\dfrac{n!(p_i^{r_i})}{r_i!} \\frac{1}{B(\\alpha)} \\prod_{i=1}^k \\theta_i^{\\alpha_i - 1})}{\\int \\log n! + \\sum ^N_{n=1} r_i \\log p_i -  \\sum ^N_{n=1} r_i! \\log (\\frac{1}{B(\\alpha)} \\prod_{i=1}^k \\theta_i^{\\alpha_i - 1}) d\\theta} \n",
    "$$\n",
    "\n",
    "Finish taking the logarithm and plug in the paramaters for $\\theta_i$,\n",
    "\n",
    "$$\n",
    "\\longrightarrow \\dfrac{\\log n! + \\sum ^N_{n=1} r_i \\log p_i -  \\sum ^N_{n=1} r_i! + \\log (\\frac{1}{B(\\alpha)}) + \\log \\sum_{i=1}^k (\\alpha_i - 1)(p_i))}{\\int \\log n! + \\sum ^N_{n=1} r_i \\log p_i -  \\sum ^N_{n=1} r_i! + \\log (\\frac{1}{B(\\alpha)}) + \\log \\sum_{i=1}^k (\\alpha_i - 1)(p_i)) d\\theta}\n",
    "$$\n",
    "\n",
    "$$\n",
    "\\longrightarrow \\dfrac{\\log n! + \\sum ^N_{n=1} r_i \\log p_i -  \\sum ^N_{n=1} r_i! + \\log (1)-\\log B(\\alpha) + \\log \\sum_{i=1}^k (\\alpha_i - 1)(p_i))}{\\int \\log n! + \\sum ^N_{n=1} r_i \\log p_i -  \\sum ^N_{n=1} r_i! + \\log (1)-\\log B(\\alpha) + \\log \\sum_{i=1}^k (\\alpha_i - 1)(p_i)) d\\theta}\n",
    "$$\n",
    "\n",
    "$$\n",
    "\\longrightarrow \\dfrac{\\log n! + \\sum ^N_{n=1} r_i \\log p_i -  \\sum ^N_{n=1} r_i! + 0 -\\log B(\\alpha) + \\log \\sum_{i=1}^k (\\alpha_i - 1)(p_i))}{\\int \\log n! + \\sum ^N_{n=1} r_i \\log p_i -  \\sum ^N_{n=1} r_i! + 0 -\\log B(\\alpha) + \\log \\sum_{i=1}^k (\\alpha_i - 1)(p_i)) d\\theta}\n",
    "$$"
   ]
  },
  {
   "cell_type": "markdown",
   "metadata": {},
   "source": [
    "3. **(The Maximum A Posterior Estimate)** Analytically or empirically compute the MAP estimate of $\\theta$ for each product, using the $\\alpha$'s you chose in Problem 1. How do these estimates compare with the MLE? Just for this problem, compute the MAP estimate of $\\theta$ for each product using a Dirichelet prior with hyperparameters $\\alpha = [1, 1, 1, 1, 1]$. Make a conjecture about the effect of the prior on the difference between the MAP estimates and the MLE's of $\\theta$.\n"
   ]
  },
  {
   "cell_type": "markdown",
   "metadata": {},
   "source": [
    "My code does not seem to work despite renaming the functions from the in-class exercise 3 to the respective Dirichlet ones from SciPy and NumPy.\n",
    "\n",
    "Analytically,\n",
    "\n",
    "$$\n",
    "\\theta_{\\text{MAP}} = \\mathrm{argmax}_{\\theta} p(\\theta|Y)\n",
    "$$\n",
    "\n",
    "$$\n",
    "\\nabla_\\theta \\dfrac{\\log n! + \\sum ^N_{n=1} r_i \\log p_i -  \\sum ^N_{n=1} r_i! -\\log B(\\alpha) + \\log \\sum_{i=1}^k (\\alpha_i - 1)(p_i))}{\\int \\log n! + \\sum ^N_{n=1} r_i \\log p_i -  \\sum ^N_{n=1} r_i! -\\log B(\\alpha) + \\log \\sum_{i=1}^k (\\alpha_i - 1)(p_i)) d\\theta}\n",
    "$$"
   ]
  },
  {
   "cell_type": "code",
   "execution_count": 25,
   "metadata": {},
   "outputs": [
    {
     "ename": "ValueError",
     "evalue": "color kwarg must have one color per data set. 5 data sets and 1 colors were provided",
     "output_type": "error",
     "traceback": [
      "\u001b[0;31m---------------------------------------------------------------------------\u001b[0m",
      "\u001b[0;31mValueError\u001b[0m                                Traceback (most recent call last)",
      "\u001b[0;32m<ipython-input-25-93185ca21e01>\u001b[0m in \u001b[0;36m<module>\u001b[0;34m\u001b[0m\n\u001b[1;32m     11\u001b[0m \u001b[0;34m\u001b[0m\u001b[0m\n\u001b[1;32m     12\u001b[0m \u001b[0;31m# Approximate the posterior with a histogram of these samples\u001b[0m\u001b[0;34m\u001b[0m\u001b[0;34m\u001b[0m\u001b[0;34m\u001b[0m\u001b[0m\n\u001b[0;32m---> 13\u001b[0;31m \u001b[0max\u001b[0m\u001b[0;34m[\u001b[0m\u001b[0max_ind\u001b[0m\u001b[0;34m]\u001b[0m\u001b[0;34m.\u001b[0m\u001b[0mhist\u001b[0m\u001b[0;34m(\u001b[0m\u001b[0mpost_samples\u001b[0m\u001b[0;34m,\u001b[0m \u001b[0mbins\u001b[0m\u001b[0;34m=\u001b[0m\u001b[0;36m30\u001b[0m\u001b[0;34m,\u001b[0m \u001b[0mcolor\u001b[0m\u001b[0;34m=\u001b[0m\u001b[0;34m'red'\u001b[0m\u001b[0;34m,\u001b[0m \u001b[0malpha\u001b[0m\u001b[0;34m=\u001b[0m\u001b[0;36m0.5\u001b[0m\u001b[0;34m)\u001b[0m\u001b[0;34m\u001b[0m\u001b[0;34m\u001b[0m\u001b[0m\n\u001b[0m\u001b[1;32m     14\u001b[0m \u001b[0;34m\u001b[0m\u001b[0m\n\u001b[1;32m     15\u001b[0m \u001b[0;31m# Find the approximate mode of the posterior\u001b[0m\u001b[0;34m\u001b[0m\u001b[0;34m\u001b[0m\u001b[0;34m\u001b[0m\u001b[0m\n",
      "\u001b[0;32m~/opt/anaconda3/lib/python3.8/site-packages/matplotlib/__init__.py\u001b[0m in \u001b[0;36minner\u001b[0;34m(ax, data, *args, **kwargs)\u001b[0m\n\u001b[1;32m   1563\u001b[0m     \u001b[0;32mdef\u001b[0m \u001b[0minner\u001b[0m\u001b[0;34m(\u001b[0m\u001b[0max\u001b[0m\u001b[0;34m,\u001b[0m \u001b[0;34m*\u001b[0m\u001b[0margs\u001b[0m\u001b[0;34m,\u001b[0m \u001b[0mdata\u001b[0m\u001b[0;34m=\u001b[0m\u001b[0;32mNone\u001b[0m\u001b[0;34m,\u001b[0m \u001b[0;34m**\u001b[0m\u001b[0mkwargs\u001b[0m\u001b[0;34m)\u001b[0m\u001b[0;34m:\u001b[0m\u001b[0;34m\u001b[0m\u001b[0;34m\u001b[0m\u001b[0m\n\u001b[1;32m   1564\u001b[0m         \u001b[0;32mif\u001b[0m \u001b[0mdata\u001b[0m \u001b[0;32mis\u001b[0m \u001b[0;32mNone\u001b[0m\u001b[0;34m:\u001b[0m\u001b[0;34m\u001b[0m\u001b[0;34m\u001b[0m\u001b[0m\n\u001b[0;32m-> 1565\u001b[0;31m             \u001b[0;32mreturn\u001b[0m \u001b[0mfunc\u001b[0m\u001b[0;34m(\u001b[0m\u001b[0max\u001b[0m\u001b[0;34m,\u001b[0m \u001b[0;34m*\u001b[0m\u001b[0mmap\u001b[0m\u001b[0;34m(\u001b[0m\u001b[0msanitize_sequence\u001b[0m\u001b[0;34m,\u001b[0m \u001b[0margs\u001b[0m\u001b[0;34m)\u001b[0m\u001b[0;34m,\u001b[0m \u001b[0;34m**\u001b[0m\u001b[0mkwargs\u001b[0m\u001b[0;34m)\u001b[0m\u001b[0;34m\u001b[0m\u001b[0;34m\u001b[0m\u001b[0m\n\u001b[0m\u001b[1;32m   1566\u001b[0m \u001b[0;34m\u001b[0m\u001b[0m\n\u001b[1;32m   1567\u001b[0m         \u001b[0mbound\u001b[0m \u001b[0;34m=\u001b[0m \u001b[0mnew_sig\u001b[0m\u001b[0;34m.\u001b[0m\u001b[0mbind\u001b[0m\u001b[0;34m(\u001b[0m\u001b[0max\u001b[0m\u001b[0;34m,\u001b[0m \u001b[0;34m*\u001b[0m\u001b[0margs\u001b[0m\u001b[0;34m,\u001b[0m \u001b[0;34m**\u001b[0m\u001b[0mkwargs\u001b[0m\u001b[0;34m)\u001b[0m\u001b[0;34m\u001b[0m\u001b[0;34m\u001b[0m\u001b[0m\n",
      "\u001b[0;32m~/opt/anaconda3/lib/python3.8/site-packages/matplotlib/axes/_axes.py\u001b[0m in \u001b[0;36mhist\u001b[0;34m(self, x, bins, range, density, weights, cumulative, bottom, histtype, align, orientation, rwidth, log, color, label, stacked, **kwargs)\u001b[0m\n\u001b[1;32m   6614\u001b[0m                     \u001b[0;34m\"color kwarg must have one color per data set. %d data \"\u001b[0m\u001b[0;34m\u001b[0m\u001b[0;34m\u001b[0m\u001b[0m\n\u001b[1;32m   6615\u001b[0m                     \"sets and %d colors were provided\" % (nx, len(color)))\n\u001b[0;32m-> 6616\u001b[0;31m                 \u001b[0;32mraise\u001b[0m \u001b[0mValueError\u001b[0m\u001b[0;34m(\u001b[0m\u001b[0merror_message\u001b[0m\u001b[0;34m)\u001b[0m\u001b[0;34m\u001b[0m\u001b[0;34m\u001b[0m\u001b[0m\n\u001b[0m\u001b[1;32m   6617\u001b[0m \u001b[0;34m\u001b[0m\u001b[0m\n\u001b[1;32m   6618\u001b[0m         \u001b[0mhist_kwargs\u001b[0m \u001b[0;34m=\u001b[0m \u001b[0mdict\u001b[0m\u001b[0;34m(\u001b[0m\u001b[0;34m)\u001b[0m\u001b[0;34m\u001b[0m\u001b[0;34m\u001b[0m\u001b[0m\n",
      "\u001b[0;31mValueError\u001b[0m: color kwarg must have one color per data set. 5 data sets and 1 colors were provided"
     ]
    },
    {
     "data": {
      "image/png": "[encoded data removed]",
      "text/plain": [
       "<Figure size 1440x288 with 2 Axes>"
      ]
     },
     "metadata": {
      "needs_background": "light"
     },
     "output_type": "display_data"
    }
   ],
   "source": [
    "param = [1,2,3,4,5]\n",
    "\n",
    "# Number of samples to use when approximating our posterior\n",
    "n_samples = 10000\n",
    "\n",
    "# Plot the posterior corresponding to each prior\n",
    "fig, ax = plt.subplots(1, 2, figsize=(20, 4))\n",
    "\n",
    "# Draw samples from the posterior corresponding to a particular beta prior\n",
    "post_samples = np.random.dirichlet(param, 10000)\n",
    "\n",
    "# Approximate the posterior with a histogram of these samples\n",
    "ax[ax_ind].hist(post_samples, bins=30, color='red', alpha=0.5)\n",
    "\n",
    "# Find the approximate mode of the posterior\n",
    "mode = find_mode(post_samples, 30)\n",
    "\n",
    "# Plot the mode as a vertical line\n",
    "ax[ax_ind].axvline(x=mode, linewidth=3, label='Posterior mode')\n",
    "    \n",
    "# Set title, legends etc\n",
    "ax[ax_ind].set_title('Posterior, with Beta prior (a={}, b={})'.format(a, b))\n",
    "ax[ax_ind].legend(loc='best')\n",
    "\n",
    "# Increment the subplot index\n",
    "ax_ind += 1\n",
    "\n",
    "plt.tight_layout()\n",
    "plt.show() "
   ]
  },
  {
   "cell_type": "markdown",
   "metadata": {},
   "source": [
    "4. **(The Posterior Mean Estimate)** Analytically or empirically compute the posterior mean estimate of $\\theta$ for each product, using the $\\alpha$'s you chose in Problem 1. How do these estimates compare with the MAP estimates and the MLE?"
   ]
  },
  {
   "cell_type": "markdown",
   "metadata": {},
   "source": [
    "Since my code is not working, analytically,\n",
    "\n",
    "$$\n",
    "\\theta_{\\text{post mean}} = \\mathbb{E}_{\\theta\\sim p(\\theta|Y)}\\left[ \\theta|Y \\right] = \\int \\theta p(\\theta|Y) d\\theta\n",
    "$$\n",
    "\n",
    "$$\n",
    "\\longrightarrow \\int \\theta \\dfrac{\\log n! + \\sum ^N_{n=1} r_i \\log p_i -  \\sum ^N_{n=1} r_i! -\\log B(\\alpha) + \\log \\sum_{i=1}^k (\\alpha_i - 1)(p_i))}{\\int \\log n! + \\sum ^N_{n=1} r_i \\log p_i -  \\sum ^N_{n=1} r_i! -\\log B(\\alpha) + \\log \\sum_{i=1}^k (\\alpha_i - 1)(p_i)) d\\theta} d\\theta\n",
    "$$\n"
   ]
  },
  {
   "cell_type": "markdown",
   "metadata": {},
   "source": [
    "5. **(The Posterior Predictive Estimate)** Sample 1000 rating vectors from the posterior predictive for each product, using the $\\alpha$'s you chose in Problem 1. Use the average of the posterior predictive samples to estimate $\\theta$. How do these estimates compare with the MAP, MLE, posterior mean estimate of $\\theta$?"
   ]
  },
  {
   "cell_type": "markdown",
   "metadata": {},
   "source": [
    "Since code not working, analytically,\n",
    "\n",
    "$$\n",
    "p(Y^*|Y) = \\int_\\Theta p(Y^*, \\theta|Y) d\\theta = \\int_\\Theta p(Y^* | \\theta) p(\\theta | Y) d\\theta\n",
    "$$\n",
    "\n",
    "$$\n",
    "\\int_\\Theta p(Y^* | \\theta) \\dfrac{\\log n! + \\sum ^N_{n=1} r_i \\log p_i -  \\sum ^N_{n=1} r_i! -\\log B(\\alpha) + \\log \\sum_{i=1}^k (\\alpha_i - 1)(p_i))}{\\int \\log n! + \\sum ^N_{n=1} r_i \\log p_i -  \\sum ^N_{n=1} r_i! -\\log B(\\alpha) + \\log \\sum_{i=1}^k (\\alpha_i - 1)(p_i)) d\\theta} d\\theta\n",
    "$$"
   ]
  },
  {
   "cell_type": "code",
   "execution_count": 29,
   "metadata": {},
   "outputs": [
    {
     "ename": "ValueError",
     "evalue": "Parameter vector 'a' must be one dimensional, but a.shape = ().",
     "output_type": "error",
     "traceback": [
      "\u001b[0;31m---------------------------------------------------------------------------\u001b[0m",
      "\u001b[0;31mValueError\u001b[0m                                Traceback (most recent call last)",
      "\u001b[0;32m<ipython-input-29-7783d86b686c>\u001b[0m in \u001b[0;36m<module>\u001b[0;34m\u001b[0m\n\u001b[1;32m     35\u001b[0m \u001b[0mtheta\u001b[0m \u001b[0;34m=\u001b[0m \u001b[0;36m0.3\u001b[0m\u001b[0;34m\u001b[0m\u001b[0;34m\u001b[0m\u001b[0m\n\u001b[1;32m     36\u001b[0m \u001b[0;34m\u001b[0m\u001b[0m\n\u001b[0;32m---> 37\u001b[0;31m \u001b[0mprior\u001b[0m\u001b[0;34m,\u001b[0m \u001b[0mposterior\u001b[0m\u001b[0;34m,\u001b[0m \u001b[0mH\u001b[0m\u001b[0;34m,\u001b[0m \u001b[0mposterior_alpha\u001b[0m\u001b[0;34m,\u001b[0m \u001b[0mposterior_beta\u001b[0m \u001b[0;34m=\u001b[0m \u001b[0mmake_models\u001b[0m\u001b[0;34m(\u001b[0m\u001b[0;36m1\u001b[0m\u001b[0;34m,\u001b[0m \u001b[0malpha\u001b[0m\u001b[0;34m,\u001b[0m \u001b[0mN\u001b[0m\u001b[0;34m,\u001b[0m \u001b[0mtheta\u001b[0m\u001b[0;34m)\u001b[0m\u001b[0;34m\u001b[0m\u001b[0;34m\u001b[0m\u001b[0m\n\u001b[0m",
      "\u001b[0;32m<ipython-input-29-7783d86b686c>\u001b[0m in \u001b[0;36mmake_models\u001b[0;34m(q, alpha, N, theta)\u001b[0m\n\u001b[1;32m      4\u001b[0m \u001b[0;32mdef\u001b[0m \u001b[0mmake_models\u001b[0m\u001b[0;34m(\u001b[0m\u001b[0mq\u001b[0m\u001b[0;34m,\u001b[0m \u001b[0malpha\u001b[0m\u001b[0;34m,\u001b[0m \u001b[0mN\u001b[0m\u001b[0;34m,\u001b[0m \u001b[0mtheta\u001b[0m\u001b[0;34m)\u001b[0m\u001b[0;34m:\u001b[0m\u001b[0;34m\u001b[0m\u001b[0;34m\u001b[0m\u001b[0m\n\u001b[1;32m      5\u001b[0m     \u001b[0;31m#prior definition: beta distribution\u001b[0m\u001b[0;34m\u001b[0m\u001b[0;34m\u001b[0m\u001b[0;34m\u001b[0m\u001b[0m\n\u001b[0;32m----> 6\u001b[0;31m     \u001b[0mprior\u001b[0m \u001b[0;34m=\u001b[0m \u001b[0msp\u001b[0m\u001b[0;34m.\u001b[0m\u001b[0mstats\u001b[0m\u001b[0;34m.\u001b[0m\u001b[0mdirichlet\u001b[0m\u001b[0;34m(\u001b[0m\u001b[0mq\u001b[0m\u001b[0;34m,\u001b[0m \u001b[0malpha\u001b[0m\u001b[0;34m)\u001b[0m\u001b[0;34m.\u001b[0m\u001b[0mpdf\u001b[0m\u001b[0;34m\u001b[0m\u001b[0;34m\u001b[0m\u001b[0m\n\u001b[0m\u001b[1;32m      7\u001b[0m \u001b[0;34m\u001b[0m\u001b[0m\n\u001b[1;32m      8\u001b[0m     \u001b[0;31m#sample data\u001b[0m\u001b[0;34m\u001b[0m\u001b[0;34m\u001b[0m\u001b[0;34m\u001b[0m\u001b[0m\n",
      "\u001b[0;32m~/opt/anaconda3/lib/python3.8/site-packages/scipy/stats/_multivariate.py\u001b[0m in \u001b[0;36m__call__\u001b[0;34m(self, alpha, seed)\u001b[0m\n\u001b[1;32m   1422\u001b[0m \u001b[0;34m\u001b[0m\u001b[0m\n\u001b[1;32m   1423\u001b[0m     \u001b[0;32mdef\u001b[0m \u001b[0m__call__\u001b[0m\u001b[0;34m(\u001b[0m\u001b[0mself\u001b[0m\u001b[0;34m,\u001b[0m \u001b[0malpha\u001b[0m\u001b[0;34m,\u001b[0m \u001b[0mseed\u001b[0m\u001b[0;34m=\u001b[0m\u001b[0;32mNone\u001b[0m\u001b[0;34m)\u001b[0m\u001b[0;34m:\u001b[0m\u001b[0;34m\u001b[0m\u001b[0;34m\u001b[0m\u001b[0m\n\u001b[0;32m-> 1424\u001b[0;31m         \u001b[0;32mreturn\u001b[0m \u001b[0mdirichlet_frozen\u001b[0m\u001b[0;34m(\u001b[0m\u001b[0malpha\u001b[0m\u001b[0;34m,\u001b[0m \u001b[0mseed\u001b[0m\u001b[0;34m=\u001b[0m\u001b[0mseed\u001b[0m\u001b[0;34m)\u001b[0m\u001b[0;34m\u001b[0m\u001b[0;34m\u001b[0m\u001b[0m\n\u001b[0m\u001b[1;32m   1425\u001b[0m \u001b[0;34m\u001b[0m\u001b[0m\n\u001b[1;32m   1426\u001b[0m     \u001b[0;32mdef\u001b[0m \u001b[0m_logpdf\u001b[0m\u001b[0;34m(\u001b[0m\u001b[0mself\u001b[0m\u001b[0;34m,\u001b[0m \u001b[0mx\u001b[0m\u001b[0;34m,\u001b[0m \u001b[0malpha\u001b[0m\u001b[0;34m)\u001b[0m\u001b[0;34m:\u001b[0m\u001b[0;34m\u001b[0m\u001b[0;34m\u001b[0m\u001b[0m\n",
      "\u001b[0;32m~/opt/anaconda3/lib/python3.8/site-packages/scipy/stats/_multivariate.py\u001b[0m in \u001b[0;36m__init__\u001b[0;34m(self, alpha, seed)\u001b[0m\n\u001b[1;32m   1579\u001b[0m \u001b[0;32mclass\u001b[0m \u001b[0mdirichlet_frozen\u001b[0m\u001b[0;34m(\u001b[0m\u001b[0mmulti_rv_frozen\u001b[0m\u001b[0;34m)\u001b[0m\u001b[0;34m:\u001b[0m\u001b[0;34m\u001b[0m\u001b[0;34m\u001b[0m\u001b[0m\n\u001b[1;32m   1580\u001b[0m     \u001b[0;32mdef\u001b[0m \u001b[0m__init__\u001b[0m\u001b[0;34m(\u001b[0m\u001b[0mself\u001b[0m\u001b[0;34m,\u001b[0m \u001b[0malpha\u001b[0m\u001b[0;34m,\u001b[0m \u001b[0mseed\u001b[0m\u001b[0;34m=\u001b[0m\u001b[0;32mNone\u001b[0m\u001b[0;34m)\u001b[0m\u001b[0;34m:\u001b[0m\u001b[0;34m\u001b[0m\u001b[0;34m\u001b[0m\u001b[0m\n\u001b[0;32m-> 1581\u001b[0;31m         \u001b[0mself\u001b[0m\u001b[0;34m.\u001b[0m\u001b[0malpha\u001b[0m \u001b[0;34m=\u001b[0m \u001b[0m_dirichlet_check_parameters\u001b[0m\u001b[0;34m(\u001b[0m\u001b[0malpha\u001b[0m\u001b[0;34m)\u001b[0m\u001b[0;34m\u001b[0m\u001b[0;34m\u001b[0m\u001b[0m\n\u001b[0m\u001b[1;32m   1582\u001b[0m         \u001b[0mself\u001b[0m\u001b[0;34m.\u001b[0m\u001b[0m_dist\u001b[0m \u001b[0;34m=\u001b[0m \u001b[0mdirichlet_gen\u001b[0m\u001b[0;34m(\u001b[0m\u001b[0mseed\u001b[0m\u001b[0;34m)\u001b[0m\u001b[0;34m\u001b[0m\u001b[0;34m\u001b[0m\u001b[0m\n\u001b[1;32m   1583\u001b[0m \u001b[0;34m\u001b[0m\u001b[0m\n",
      "\u001b[0;32m~/opt/anaconda3/lib/python3.8/site-packages/scipy/stats/_multivariate.py\u001b[0m in \u001b[0;36m_dirichlet_check_parameters\u001b[0;34m(alpha)\u001b[0m\n\u001b[1;32m   1241\u001b[0m         \u001b[0;32mraise\u001b[0m \u001b[0mValueError\u001b[0m\u001b[0;34m(\u001b[0m\u001b[0;34m\"All parameters must be greater than 0\"\u001b[0m\u001b[0;34m)\u001b[0m\u001b[0;34m\u001b[0m\u001b[0;34m\u001b[0m\u001b[0m\n\u001b[1;32m   1242\u001b[0m     \u001b[0;32melif\u001b[0m \u001b[0malpha\u001b[0m\u001b[0;34m.\u001b[0m\u001b[0mndim\u001b[0m \u001b[0;34m!=\u001b[0m \u001b[0;36m1\u001b[0m\u001b[0;34m:\u001b[0m\u001b[0;34m\u001b[0m\u001b[0;34m\u001b[0m\u001b[0m\n\u001b[0;32m-> 1243\u001b[0;31m         raise ValueError(\"Parameter vector 'a' must be one dimensional, \"\n\u001b[0m\u001b[1;32m   1244\u001b[0m                          \"but a.shape = %s.\" % (alpha.shape, ))\n\u001b[1;32m   1245\u001b[0m     \u001b[0;32mreturn\u001b[0m \u001b[0malpha\u001b[0m\u001b[0;34m\u001b[0m\u001b[0;34m\u001b[0m\u001b[0m\n",
      "\u001b[0;31mValueError\u001b[0m: Parameter vector 'a' must be one dimensional, but a.shape = ()."
     ]
    }
   ],
   "source": [
    "## ATTEMPT 2 USING LECTURE PYTHON CODE\n",
    "\n",
    "#a function for computing the prior and the posterior (after simulating data)\n",
    "def make_models(q, alpha, N, theta):\n",
    "    #prior definition: beta distribution\n",
    "    prior = sp.stats.dirichlet(q, alpha).pdf\n",
    "    \n",
    "    #sample data\n",
    "    H = np.random.dirichlet(N, theta)\n",
    "    \n",
    "    #update posterior: beta distribution\n",
    "    posterior_alpha = H + alpha\n",
    "    posterior_beta = N - H + beta\n",
    "    posterior = sp.stats.beta(posterior_alpha, posterior_beta).pdf\n",
    "    \n",
    "    return prior, posterior, H, posterior_alpha, posterior_beta\n",
    "\n",
    "# a function for ploting the prior and posterior distribution\n",
    "def plot_prior_posterior(ax, prior, posterior, H, N):\n",
    "    x = np.linspace(0, 1, 100)\n",
    "    \n",
    "    ax[0].plot(x, prior(x), color='blue')\n",
    "    ax[0].set_title('Prior distribution')\n",
    "    ax[1].plot(x, posterior(x), color='red')\n",
    "    ax[1].set_title('Posterior distribution after seeing {} Heads/{} Flips'.format(H, N))\n",
    "    return ax\n",
    "\n",
    "#prior definition: beta distribution\n",
    "#try: alpha = beta = 0.5, 1, 10; try: alpha=10, beta=1; try: alpha=1, beta=10\n",
    "alpha = 1\n",
    "q = [2.5, 97.5]\n",
    "beta = 0.5\n",
    "#data: binomial distribution\n",
    "N = 10\n",
    "theta = 0.3\n",
    "\n",
    "prior, posterior, H, posterior_alpha, posterior_beta = make_models(1, alpha, N, theta)"
   ]
  },
  {
   "cell_type": "markdown",
   "metadata": {},
   "source": [
    "6. **(Model Evaluation)** Compute the 95% credible interval of $\\theta$ for each product (*Hint: compute the 95% credible interval for each $\\theta_i$, $i=1, \\ldots, 5$*). For which product is the posterior mean and MAP estimate more reliable and why? "
   ]
  },
  {
   "cell_type": "markdown",
   "metadata": {},
   "source": [
    "I would assume that the maximum a posterior estimate was more reliable since it took into account our Dirichlet prior. I wish my code was working."
   ]
  },
  {
   "cell_type": "markdown",
   "metadata": {},
   "source": [
    "## Part III: Comparison\n",
    "1. **(Summarizing Customer Ratings)** Recall that on Amazon, the first customer review statistic displayed for a product is the average rating. Name at least one problem with ranking products based on the average customer rating."
   ]
  },
  {
   "cell_type": "markdown",
   "metadata": {},
   "source": [
    "An immediate comment on the \"average customer rating\" I can make is that we do not have all of the information regarding what matters to the customer, and what types of outliers there may be. Estimation such as MLE is quite sensitive to outliers and weakens the realiability of the estimates it spits out."
   ]
  },
  {
   "cell_type": "markdown",
   "metadata": {},
   "source": [
    "2. **(Comparison of Point Estimates)** Which point estimate (MAP, MLE, posterior mean or posterior predictive estimate) of $\\theta$, if any, would you feel choose to rank the two Amazon products? Why? \n",
    "\n",
    "  *Hint: think about which of these estimates are equivalent (if any). If they are not equivalent, what are the special properties of each estimate? What aspect of the data or the model is each estimate good at capturing?*\n",
    "  \n",
    "   **Note:** we're not looking for \"the correct answer\" here. We are looking for a sound decision based on a statistically correct interpretation of your models."
   ]
  },
  {
   "cell_type": "markdown",
   "metadata": {},
   "source": [
    "Out of the four estimation methods, I would suggest that MLE has some weaknesses. Particularly with since we did not verify that it is unbiased and consistent, and that there were no outliers. I would suggest that when we considered a prior belief where there was \"no middle ground,\" we thought customers either loved or hated the product, thus we were able to create better estimators based on this prior belief. I would say that the estimators incorporating Bayesian Analysis were more resilient to MLE's weaknesses."
   ]
  },
  {
   "cell_type": "code",
   "execution_count": null,
   "metadata": {},
   "outputs": [],
   "source": []
  }
 ],
 "metadata": {
  "kernelspec": {
   "display_name": "Python 3",
   "language": "python",
   "name": "python3"
  },
  "language_info": {
   "codemirror_mode": {
    "name": "ipython",
    "version": 3
   },
   "file_extension": ".py",
   "mimetype": "text/x-python",
   "name": "python",
   "nbconvert_exporter": "python",
   "pygments_lexer": "ipython3",
   "version": "3.8.3"
  }
 },
 "nbformat": 4,
 "nbformat_minor": 2
}
