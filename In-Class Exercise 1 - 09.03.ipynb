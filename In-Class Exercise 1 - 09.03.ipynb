{
 "cells": [
  {
   "cell_type": "markdown",
   "metadata": {
    "colab_type": "text",
    "id": "Mu3nKbKu07FD"
   },
   "source": [
    "# DAY 1: Regression\n",
    "\n",
    "\n",
    "### AM207: Advanced Scientific Computing\n",
    "\n",
    "#### Instructor: Weiwei Pan\n",
    "\n",
    "#### Due: September 3rd, 11:59pm EST"
   ]
  },
  {
   "cell_type": "markdown",
   "metadata": {
    "colab_type": "text",
    "id": "D5IW6vvob4Wd"
   },
   "source": [
    "**Names of Group Members**: Chi Zhang, Arthur Young, Arnob Roy, Salma Abdel Magid, Ansuman Prusty, Weiru Chen\n",
    "\n"
   ]
  },
  {
   "cell_type": "markdown",
   "metadata": {
    "colab_type": "text",
    "id": "WPPQ80UZoPjm"
   },
   "source": [
    "## Learning Goals:\n",
    "\n",
    "1. become familiar with using `sklearn` and `numpy` for Linear and Bayesian Linear Regression\n",
    "2. explore the difference between probabilistic and non-probabilistic models for linear regression\n",
    "3. learn how to interpret and evaluate probabilistic models\n",
    "4. explore the difference between Bayesian and non-Bayesian probabilistic models for linear regression\n",
    "4. lean how to interpret and evaluate Bayesian models"
   ]
  },
  {
   "cell_type": "code",
   "execution_count": 15,
   "metadata": {
    "colab": {},
    "colab_type": "code",
    "id": "vyabblMA07FF"
   },
   "outputs": [],
   "source": [
    "# import the necessary python libraries\n",
    "import numpy as np\n",
    "import matplotlib.pyplot as plt\n",
    "\n",
    "from sklearn.model_selection import train_test_split\n",
    "from sklearn.linear_model import LinearRegression\n",
    "from sklearn.preprocessing import PolynomialFeatures\n",
    "from sklearn.metrics import mean_squared_error"
   ]
  },
  {
   "cell_type": "markdown",
   "metadata": {
    "colab_type": "text",
    "id": "YUBdYcQF07FJ"
   },
   "source": [
    "### We include some auxiliary functions that we will need to use later."
   ]
  },
  {
   "cell_type": "code",
   "execution_count": 1,
   "metadata": {
    "colab": {},
    "colab_type": "code",
    "id": "2idNCje907FK"
   },
   "outputs": [],
   "source": [
    "def generate_toy_data(n_points=20, noise_std=0.05):\n",
    "    ''' Function to generate a toy dataset '''\n",
    "    x = np.linspace(-5, 5, n_points)\n",
    "    x_test = np.linspace(-5, 5, 50)\n",
    "\n",
    "    #define a function relating input to output\n",
    "    f = lambda x: 0.01 * x**3\n",
    "\n",
    "    #generate noisy training labels\n",
    "    y = f(x) + np.array([np.random.normal(0, noise_std * x_n**2) for x_n in x])\n",
    "    y_test = f(x_test) + np.array([np.random.normal(0, noise_std * x_n**2) for x_n in x_test])\n",
    "    \n",
    "    return x, y, x_test, y_test\n",
    "\n",
    "def get_posterior_samples(w0_prior_var, w1_prior_var, noise_var, x_matrix, y_matrix, x_test_matrix, samples=100):\n",
    "  ''' Function to generate samples from the posterior and posterior predictive of a Bayesian linear model '''\n",
    "  #define the variances of the normal priors for w_0 and w_1\n",
    "  #note that rather than treating the normal priors for w_0 and w_1 separately,\n",
    "  #we can jointly express this prior as a bivariate normal distribution with a diagonal covariance matrix\n",
    "  prior_variance = np.diag([w0_prior_var, w1_prior_var])\n",
    "  #define the inverse of the prior variance, this is called the precision\n",
    "  prior_precision = np.linalg.inv(prior_variance)\n",
    "\n",
    "  #this 'epsilon' offsett is sometimes needed to ensure numerical stability of the matrix inverse operation\n",
    "  epsilon = 1e-5\n",
    "\n",
    "  #compute the posterior precision matrix\n",
    "  posterior_precision = prior_precision + x_matrix.T.dot(x_matrix) / noise_var\n",
    "  #invert the precision matrix to get the posterior covariance matrix\n",
    "  posterior_variance = np.linalg.inv(posterior_precision + epsilon * np.ones(x_matrix.shape[1])) \n",
    "  #compute hte posterior mean\n",
    "  posterior_mean = posterior_variance.dot(x_matrix.T.dot(y_matrix)) / noise_var\n",
    "\n",
    "  #sampling 100 points from the posterior distribution over w_0 and w_1\n",
    "  posterior_samples = np.random.multivariate_normal(posterior_mean.flatten(), posterior_variance, size=samples)\n",
    "\n",
    "  #take posterior predictive samples\n",
    "  posterior_predictions = np.dot(posterior_samples, x_test_matrix.T) \n",
    "  posterior_predictive_samples = posterior_predictions[np.newaxis, :, :] + np.random.normal(0, noise_var**0.5, size=(100, posterior_predictions.shape[0], posterior_predictions.shape[1]))\n",
    "  posterior_predictive_samples = posterior_predictive_samples.reshape((100 * posterior_predictions.shape[0], posterior_predictions.shape[1]))\n",
    "\n",
    "  return posterior_samples, posterior_predictions, posterior_predictive_samples"
   ]
  },
  {
   "cell_type": "markdown",
   "metadata": {
    "colab_type": "text",
    "id": "lMTw4qD6S7Ev"
   },
   "source": [
    "## 1. Non-Probabilistic Models: Choosing a Loss Function \n",
    "In this problem, you are going to explore the difference between the different possible loss functions for fitting a linear model to a data set.\n",
    "\n",
    "1. **(Max absolute deviation)** Count only the biggest \"error\"\n",
    "$$\n",
    "\\max_n |y_n - \\hat{y}_n| \n",
    "$$\n",
    "2. **(Sum of absolute deviations)** Add up all the \"errors\"\n",
    "$$\n",
    "\\sum_n |y_n - \\hat{y}_n| \n",
    "$$\n",
    "3. **(Sum of squared errors)** Add up the squares of the \"errors\"\n",
    "$$\n",
    "\\sum_n |y_n - \\hat{y}_n|^2 \n",
    "$$\n",
    "4. **(Mean squared error)** We can also average the squared \"errors\".\n",
    "$$\n",
    "\\frac{1}{N}\\sum_{n=1}^N |y_n - \\hat{y}_n|^2 \n",
    "$$\n",
    "\n",
    "Again, $y_n$ is the observed target, $\\hat{y}_n$ is the predicted target.\n",
    "\n",
    "Fitting a linear model \n",
    "$$\n",
    "y = w_1x + w_0\n",
    "$$\n",
    "to the data using one of these loss functions is a non-probablistic approach, since our model does not explicitly model the observation noise. Note that the choice of the mean squared error implies a probabilistic model (this is something you'll explore in HW0)."
   ]
  },
  {
   "cell_type": "markdown",
   "metadata": {
    "colab_type": "text",
    "id": "sNJVQbMQaOYU"
   },
   "source": [
    "**Exercise 1:** Describe one real-life application wherein it would be more appropriate to use max absolute deviation rather than mean squared error.\n",
    "\n",
    "**Exercise 2:** Describe one real-life application wherein it would be more appropriate to use sum of squared errors rather than max absolute deviation.\n",
    "\n",
    "**Exercise 3:** Describe why it might be more preferable to use mean squared error rather than sum of squared errors.\n",
    "\n",
    "**Exercise 4:** Describe qualitatively the difference between penalizing sum of absolute deviations and sum of squared errors. \n",
    "\n",
    "***Hint:*** think about which kinds of errors are heavily penalized under each loss function and which kinds of errors are 'tolerated' by each loss function."
   ]
  },
  {
   "cell_type": "markdown",
   "metadata": {
    "colab_type": "text",
    "id": "-b__quYRZyNu"
   },
   "source": [
    "1, max absolute deviation penalize the maxium of the error.This applies to models with errors deviate from guassian. It can be used to find outliers, that's not possible with MSE. If the risk of prediction error is really high stake, for example high financial impact, matter of life and death, we may prefer to use max absolute deviation.    \n",
    "2, sum of squared errors penalize the overall error and is most commonly used for guassian errors. It can be used to compare performance of different models using the same dataset. For example, comparing performance of Randomforest classifier vs SVM classifier.  Real life application is an example of fitting a line where we need to find prices of properties for a given square-feet. If we are evaluating the average performance, we may prefer sum squared error.     \n",
    "3, Mean squared error can be used to compare models with different number of samples. For example, comparing model performance of training vs testing set. Sum squared error is proportional to sample size.    \n",
    "4, If there are large variations, the squared error would penalize more on data that have large devidations from the model compared to absolute error. Absolute error would be less sensitive to outliers. L1 is not differentiable, L2 is and has a closed-form solution. \n"
   ]
  },
  {
   "cell_type": "markdown",
   "metadata": {
    "colab_type": "text",
    "id": "_WwldKjWeGfU"
   },
   "source": [
    "---"
   ]
  },
  {
   "cell_type": "markdown",
   "metadata": {
    "colab_type": "text",
    "id": "G0bswK4opWje"
   },
   "source": [
    "## 2. Probabilistic Models: Linear Regression\n",
    "\n",
    "In this problem, you are given a dataset with a single predictor $X$ and a single outcome $y$, and your task is to fit a linear model to the data. \n",
    "\n",
    "Assume that the outcome $y$ can be modeled by the following **probabilistic** or **statistical** model (so called because we explicitly model the observation noise $\\epsilon$):\n",
    "\\begin{aligned}\n",
    "y &= f(x) + \\epsilon = w_1x + w_0 + \\epsilon, \\quad \\epsilon \\sim \\mathcal{N}(0, 0.5)\n",
    "\\end{aligned}\n",
    "where $w_1$ and $w_0$, the *parameters* of the function $f$, are unknown constants. \n",
    "\n",
    "We learn the maximum likelihood estimates of the slope $w_1$ and the intercept $w_0$ (using `sklearn`), and visualize the resulting MLE linear model.\n"
   ]
  },
  {
   "cell_type": "code",
   "execution_count": 3,
   "metadata": {
    "colab": {},
    "colab_type": "code",
    "id": "cAoUHvgL3CKW"
   },
   "outputs": [],
   "source": [
    "# Step 0. generate a data set for doing regression\n",
    "x_train, y_train, x_test, y_test = generate_toy_data(n_points=200) "
   ]
  },
  {
   "cell_type": "code",
   "execution_count": 4,
   "metadata": {
    "colab": {
     "base_uri": "https://localhost:8080/",
     "height": 336
    },
    "colab_type": "code",
    "executionInfo": {
     "elapsed": 759,
     "status": "ok",
     "timestamp": 1599156019006,
     "user": {
      "displayName": "Chi Zhang",
      "photoUrl": "https://lh3.googleusercontent.com/a-/AOh14GgSIyWP3kmRCXr-fR5-ZuYDqYJMBMlSFnfOInKZYEc=s64",
      "userId": "04460928861387587293"
     },
     "user_tz": 240
    },
    "id": "9Wwwda6I07Fb",
    "outputId": "1dafa4de-0ca9-4cfa-eb00-400a95b98a9c"
   },
   "outputs": [
    {
     "data": {
      "image/png": "[encoded data removed]",
      "text/plain": [
       "<Figure size 720x360 with 1 Axes>"
      ]
     },
     "metadata": {
      "needs_background": "light"
     },
     "output_type": "display_data"
    }
   ],
   "source": [
    "# Step 1. Instantiate an Linear Regression model object\n",
    "linear_regressor = LinearRegression()\n",
    "\n",
    "# Step 2. Fit model to the training data\n",
    "linear_regressor.fit(x_train.reshape(-1,1),y_train.reshape(-1,1))\n",
    "\n",
    "# Step 3. Make predictions on training data \n",
    "y_train_pred = linear_regressor.predict(x_train.reshape(-1,1))\n",
    "\n",
    "# Step 4. Extract the MLE for slope\n",
    "slope_mle = np.round(linear_regressor.coef_[0][0], 2)\n",
    "\n",
    "# Step 5. Extract the MLE for intercept\n",
    "intercept_mle = np.round(linear_regressor.intercept_[0], 2)\n",
    "\n",
    "# Step 6. Visualize results\n",
    "\n",
    "fig, ax = plt.subplots(1, 1, figsize=(10, 5))\n",
    "# make a figure with one row and one column of size 10x5\n",
    "\n",
    "ax.scatter(x_train, y_train, label='training data')\n",
    "# scatter plot the training data\n",
    "\n",
    "ax.plot(x_train, y_train_pred, 'r', label='MLE Model: y = {}x + {}'.format(slope_mle, intercept_mle))\n",
    "# plot the learned linear regression function by plotting the predictions\n",
    "\n",
    "ax.set_title('Visualization of the MLE model and training data')\n",
    "\n",
    "ax.legend(loc='best')\n",
    "# display legend\n",
    "\n",
    "plt.show()\n",
    "# display the figure"
   ]
  },
  {
   "cell_type": "markdown",
   "metadata": {
    "colab_type": "text",
    "id": "CYJMeI8rfaIP"
   },
   "source": [
    "**Exercise 5:** Compute the Mean Square Error (MSE) of your model on the training dataset and on the testing dataset.\n",
    "\n",
    "Compute the residuals on the training data. Visualize these residuals in a histogram. "
   ]
  },
  {
   "cell_type": "code",
   "execution_count": 5,
   "metadata": {
    "colab": {
     "base_uri": "https://localhost:8080/",
     "height": 52
    },
    "colab_type": "code",
    "executionInfo": {
     "elapsed": 719,
     "status": "ok",
     "timestamp": 1599156054999,
     "user": {
      "displayName": "Chi Zhang",
      "photoUrl": "https://lh3.googleusercontent.com/a-/AOh14GgSIyWP3kmRCXr-fR5-ZuYDqYJMBMlSFnfOInKZYEc=s64",
      "userId": "04460928861387587293"
     },
     "user_tz": 240
    },
    "id": "rhcusuTLgq1R",
    "outputId": "8e7f693b-0977-4dab-b021-74effee7b619"
   },
   "outputs": [
    {
     "name": "stdout",
     "output_type": "stream",
     "text": [
      "MSE on training data is: 0.36425591026397686\n",
      "MSE on test data is: 0.47853633637436443\n"
     ]
    }
   ],
   "source": [
    "# Hint: you can use a pre-defined MSE function in the library documentation at: \n",
    "# https://scikit-learn.org/stable/modules/generated/sklearn.metrics.mean_squared_error.html\n",
    "#\n",
    "## COMPLETE\n",
    "from sklearn.metrics import mean_squared_error\n",
    "\n",
    "training_mse = mean_squared_error(y_train, y_train_pred)\n",
    "y_test_pred = linear_regressor.predict(x_test.reshape(-1,1))\n",
    "test_mse = mean_squared_error(y_test, y_test_pred)\n",
    "#\n",
    "print('MSE on training data is: {}'.format(training_mse))\n",
    "print('MSE on test data is: {}'.format(test_mse))"
   ]
  },
  {
   "cell_type": "code",
   "execution_count": 6,
   "metadata": {
    "colab": {
     "base_uri": "https://localhost:8080/",
     "height": 336
    },
    "colab_type": "code",
    "executionInfo": {
     "elapsed": 525,
     "status": "ok",
     "timestamp": 1599011432589,
     "user": {
      "displayName": "Chi Zhang",
      "photoUrl": "https://lh3.googleusercontent.com/a-/AOh14GgSIyWP3kmRCXr-fR5-ZuYDqYJMBMlSFnfOInKZYEc=s64",
      "userId": "04460928861387587293"
     },
     "user_tz": 240
    },
    "id": "ftPmh43bVgbS",
    "outputId": "ecb7b0c8-026e-4b14-a4b1-57157234ec64"
   },
   "outputs": [
    {
     "data": {
      "image/png": "[encoded data removed]",
      "text/plain": [
       "<Figure size 720x360 with 1 Axes>"
      ]
     },
     "metadata": {
      "needs_background": "light"
     },
     "output_type": "display_data"
    }
   ],
   "source": [
    "## COMPLETE\n",
    "# Compute residuals\n",
    "residuals = y_train.reshape(-1,1) - y_train_pred\n",
    "#\n",
    "# Visualize residuals\n",
    "fig, ax = plt.subplots(1, 1, figsize=(10, 5)) # make a figure with one row and one column of size 10x5\n",
    "#\n",
    "# see documentation for the '.hist()' plotting function here:\n",
    "# https://matplotlib.org/api/_as_gen/matplotlib.pyplot.hist.html\n",
    "ax.hist(residuals, bins=30)\n",
    "#\n",
    "ax.set_title('Histogram of Residuals on Training Data')\n",
    "plt.show()"
   ]
  },
  {
   "cell_type": "markdown",
   "metadata": {
    "colab_type": "text",
    "id": "CbTr2Zmmechj"
   },
   "source": [
    "**Exercise 6:** Is a linear model appropriate for this data? Is our linear probabilistic model appropriate for this data? Why or why not? \n",
    "\n",
    "Based on your answer, suggest a way to improve our probabilistic model.\n",
    "\n",
    "Support your answer using concepts you learned from lecture, the visualizations of the data and the model, the resicual, the MSE etc.\n",
    "\n",
    "\n",
    "**Exercise 7:** Based on your explorations, compare the paradigms of non-probabilistic and probablistic modeling. What are the pros and cons of each approach (what are the advantages of explicitly modeling the observation noise? when should we pick a loss function that does not arise from an explicit noise model?)? "
   ]
  },
  {
   "cell_type": "markdown",
   "metadata": {
    "colab_type": "text",
    "id": "-MIwwIQvgxjB"
   },
   "source": [
    "6, Linear model is not appropriate. We can see that the data points close to x=0 fits the model well but data close to the two ends have large residuals. The linear model assumes the error should be independent of x levels.   \n",
    "To improve, we can do polynomial regression. Even if we fit a cubic function, the error would still be large. We may think about restrict the domain to x close to 0. We may also need a different error model to explictly model the noise to be related to x levels         \n",
    "The residue histogram looks normal or heavy tail T distribution.     \n",
    "7, The advantage of explicitly modeling the observation noise is that when the noise model is correctly specified, the model would be give us accurate predictions and give us the ability to do inferences on p values and confidence intervals. When the observation error do not fit any models, it's best to pick a loss function that does not arise from explicit noise model, although we won't get the benefit of getting p values and confidence intervals. And it is easier to compare models with explicit error models. The predictions would be more robust this way. Also some noise can be difficult to model and non-linear and we may need to directly pick a loss function. Another pro for error modeling is it can incorporate prior beliefs about your noise (posteriors)\n"
   ]
  },
  {
   "cell_type": "markdown",
   "metadata": {
    "colab_type": "text",
    "id": "EVqWsrb9eH8B"
   },
   "source": [
    "---\n",
    "\n",
    "## 3. Bayesian Models: Bayesian Linear Regression\n",
    "\n",
    "In this problem, your task is to perform Bayesian linear regression on the same dataset as in Problem 2.\n",
    "\n",
    "Assume that the outcome $y$ can be modeled by the following process:\n",
    "\\begin{aligned}\n",
    "y &= f(x) + \\epsilon = w_1x + w_0 + \\epsilon, \\quad \\epsilon \\sim \\mathcal{N}(0, 0.5)\\\\\n",
    "w_0 &\\sim \\mathcal{N}(0, 1)\\\\\n",
    "w_1 &\\sim \\mathcal{N}(0, 0.5)\n",
    "\\end{aligned}\n",
    "In this model, we assume the same likelihood as in Part I, but we also include priors for $w_0$ and $w_1$: $p(w_0) = \\mathcal{N}(0, 1)$, $p(w_1) = \\mathcal{N}(0, 0.5)$.\n",
    "\n",
    "In HW0, you'll verify that the posterior over $w_1$ and $w_0$, jointly, is also a (multivariate) normal or **Gaussian** distribution:\n",
    "$$p(w_1, w_0 | y_1, \\ldots y_n, x_1, \\ldots, x_n) = \\mathcal{N}(\\mu, \\Sigma)$$\n",
    "where $\\Sigma = \n",
    "\\left[\\begin{matrix}\n",
    "\\sigma_{w_0}^2 & \\rho\\\\\n",
    "\\rho & \\sigma_{w_1}^2\\\\\n",
    "\\end{matrix}\\right]$ and $\\mu$ are determined by the prior variances, the observation noise variance and the data.\n",
    "\n",
    "**Exercise 8:** Visualize samples from the posterior $p(w_1, w_0 | y_1, \\ldots y_n, x_1, \\ldots, x_n)$. Use this and your understanding of Gaussian distributions to ***very roughly*** estimate $\\sigma_{w_0}^2, \\sigma_{w_1}^2, \\rho$. \n",
    "\n",
    "The quantities $\\sigma_{w_0}^2, \\sigma_{w_1}$ are often said to quantify the uncertainty we have about our estimate of $w_0$ and $w_1$. Why does this intuitively make sense? Given the visualization of the posterior samples which parameter are we more certain about?\n",
    "\n",
    "Discuss what $\\rho$ tells us about the relationship between $w_0$ and $w_1$ in the posterior. Why is it important to model $\\rho$, instead of just $\\sigma_{w_0}^2, \\sigma_{w_1}$?"
   ]
  },
  {
   "cell_type": "code",
   "execution_count": 7,
   "metadata": {
    "colab": {},
    "colab_type": "code",
    "id": "rG9S-EzeeIZP"
   },
   "outputs": [],
   "source": [
    "# Step 1: define the observation noise variance\n",
    "noise_variance = 0.5\n",
    "# Step 2: define the variance of the normal priors on w_0 and w_1\n",
    "w0_prior_var = 1.\n",
    "w1_prior_var = 0.5\n",
    "# Step 3: define the number of samples to draw from the posterior\n",
    "samples = 100\n",
    "# Step 4: concatenate a column of 1's to the training data so that inference computations can be cast as matrix operations (this increases efficiency)\n",
    "# we do this using the PolynomialFeatures model from sklearn\n",
    "poly = PolynomialFeatures(1)\n",
    "x_train_poly = poly.fit_transform(x_train.reshape((-1, 1)))\n",
    "x_test_poly = poly.fit_transform(x_test.reshape((-1, 1)))\n",
    "\n",
    "# Step 5: get samples from the posterior distribution over w_0 and w_1\n",
    "posterior_samples, posterior_predictions, posterior_predictive_samples = get_posterior_samples(w0_prior_var, w1_prior_var, noise_variance, x_train_poly, y_train.reshape((-1, 1)), x_train_poly, samples)"
   ]
  },
  {
   "cell_type": "code",
   "execution_count": 8,
   "metadata": {
    "colab": {
     "base_uri": "https://localhost:8080/",
     "height": 351
    },
    "colab_type": "code",
    "executionInfo": {
     "elapsed": 613,
     "status": "ok",
     "timestamp": 1599157719280,
     "user": {
      "displayName": "Chi Zhang",
      "photoUrl": "https://lh3.googleusercontent.com/a-/AOh14GgSIyWP3kmRCXr-fR5-ZuYDqYJMBMlSFnfOInKZYEc=s64",
      "userId": "04460928861387587293"
     },
     "user_tz": 240
    },
    "id": "4fhZkDIBmpYu",
    "outputId": "f05934bf-5e07-40a0-be52-231a237988e9"
   },
   "outputs": [
    {
     "data": {
      "image/png": "[encoded data removed]",
      "text/plain": [
       "<Figure size 720x360 with 1 Axes>"
      ]
     },
     "metadata": {
      "needs_background": "light"
     },
     "output_type": "display_data"
    }
   ],
   "source": [
    "# Step 6. Visualize the posterior samples\n",
    "fig, ax = plt.subplots(1, 1, figsize=(10, 5)) # make a figure with one row and one column of size 10x5\n",
    "ax.scatter(posterior_samples[:, 0], posterior_samples[:, 1], label='training data') # scatter plot the training data\n",
    "ax.set_title('Samples from the Posterior Distribution over w_0 and w_1')\n",
    "ax.legend(loc='best') # display legend\n",
    "ax.set_xlabel('w_0') # set the x-axis label\n",
    "ax.set_ylabel('w_1') # set the y-axis label\n",
    "plt.show() # display the figure"
   ]
  },
  {
   "cell_type": "markdown",
   "metadata": {
    "colab_type": "text",
    "id": "wev3X7Y4la34"
   },
   "source": [
    "8, Total of 100 points, remove 5 most extreme points, the range would be 4*std.    \n",
    "$\\sigma_{w_0}^2$ is roughly ((0.07+0.14)/4)^2 = 0.0028, $\\sigma_{w_1}^2$ is roughly ((0.2-0.13)/4)^2 = 0.00031, $\\rho$ is roughly 0 because the two variables do not show correlation on the plot.  \n",
    "We are more certain about $w_1$ because the variance is smaller.   \n",
    "We need model $\\rho$ because in the multivariate guassian, $\\rho$ determines the covariance of the two parameters and this is not captured by marginal distributions of each variable, which is determined by $\\sigma^2$. \n",
    "\n"
   ]
  },
  {
   "cell_type": "markdown",
   "metadata": {
    "colab_type": "text",
    "id": "uboKZXq8pBE2"
   },
   "source": [
    "In Bayesian linear regression, we obtain a distribution over possible parameters given the data, $p(w_1, w_0 | y, x)$, rather than a single ***point-estimate*** of the 'best' parameters. This means that when we predict an outcome for, say, $x=2$ we get a distribution over possible values of $y$ rather than a single $y$. The distribution over the predicted $y$ for a given $x$ is called the ***posterior predictive***, and is denoted $p(y|x)$\n",
    "\n",
    "**Exercise 9:** Visualize the **95% posterior predictive interval** (this is the interval that includes 95% of the posterior predictive values) for the training data -- this is usually visualized as a shaded tube containing the 95% of the posterior predictive values for each test $x$-value. \n",
    "\n",
    "The width of the 95% posterior predictive interval is said to quantify the uncertainty of the Bayeisan model at each input $x$. Why is this reasonable?\n",
    "\n",
    "Compare the 95% posterior predictive interval of our model with the data, are our uncertainties sensible? Are they what you want them to be (you might interpret higher uncertainty at an $x$ to tell you that the model is less confident in it's prediction at $x$)?"
   ]
  },
  {
   "cell_type": "code",
   "execution_count": 30,
   "metadata": {
    "colab": {},
    "colab_type": "code",
    "id": "O6nsMPlTkTUU"
   },
   "outputs": [
    {
     "name": "stdout",
     "output_type": "stream",
     "text": [
      "[0.54750018 0.54518011 0.59140537 0.57214367 0.59187068 0.5724201\n",
      " 0.56855922 0.56815568 0.58449515 0.60233852 0.63722323 0.62806009\n",
      " 0.64781715 0.62544549 0.66966239 0.63884275 0.69870894 0.67850282\n",
      " 0.72456914 0.70333874 0.74115134 0.71501545 0.7171365  0.78028158\n",
      " 0.73578819 0.77899689 0.80082505 0.79546907 0.77254845 0.77768927\n",
      " 0.77425772 0.83670146 0.82590296 0.83811167 0.87664779 0.90192566\n",
      " 0.82988269 0.87089656 0.90550553 0.90152427 0.87499322 0.90175573\n",
      " 0.90708767 0.93811265 0.97374903 0.90695375 0.9829884  0.94471678\n",
      " 0.95338085 0.98263396 0.96442529 0.96495026 0.99298393 1.00212946\n",
      " 1.0143893  1.06551024 1.02632141 1.05716349 1.04142557 1.04597316\n",
      " 1.10453081 1.08690981 1.09560617 1.11031503 1.12010466 1.09049173\n",
      " 1.14955751 1.13971262 1.11582253 1.14592774 1.17040479 1.18620755\n",
      " 1.18761372 1.19444023 1.17703438 1.20014238 1.22746523 1.20161251\n",
      " 1.23081321 1.2098745  1.20781708 1.24673705 1.28393672 1.31062027\n",
      " 1.29389135 1.25694506 1.30570723 1.3420783  1.31613576 1.34098102\n",
      " 1.33219042 1.33086266 1.35638634 1.3861821  1.3962196  1.37977073\n",
      " 1.37927551 1.3644672  1.432713   1.41489651 1.44156196 1.42820761\n",
      " 1.48190607 1.44705043 1.49030621 1.46833166 1.52014582 1.47261264\n",
      " 1.50734053 1.55497859 1.5264481  1.53745151 1.52927238 1.55400053\n",
      " 1.56052453 1.57584022 1.55781551 1.59458295 1.59444622 1.62843467\n",
      " 1.59516626 1.62691337 1.61943871 1.6300184  1.65107023 1.66977247\n",
      " 1.65260366 1.68037262 1.6929424  1.69978891 1.68410214 1.70313615\n",
      " 1.71694943 1.74282532 1.75069148 1.76644159 1.75858145 1.76957677\n",
      " 1.80533088 1.772664   1.77659514 1.79983661 1.80201122 1.82332154\n",
      " 1.85062844 1.8388869  1.88562492 1.86617274 1.88913954 1.82753666\n",
      " 1.87504322 1.89119243 1.90683461 1.91697138 1.9262192  1.92077012\n",
      " 1.94826754 1.96885979 1.990788   1.99372444 1.97041148 1.98905327\n",
      " 1.95308014 2.00007407 2.02260807 2.03552948 2.01378421 2.05221352\n",
      " 2.04722016 2.07732656 2.0447022  2.06988461 2.09381698 2.06390661\n",
      " 2.10977141 2.13950071 2.13011451 2.13010737 2.14077328 2.16056651\n",
      " 2.15281046 2.20425074 2.19576279 2.20772736 2.2025399  2.22628166\n",
      " 2.22088436 2.25331647 2.24206118 2.21998547 2.24081217 2.28085106\n",
      " 2.25753535 2.26771202 2.30868754 2.31112182 2.30733542 2.31657052\n",
      " 2.31750676 2.3651411 ]\n",
      "[-2.26039519 -2.24901797 -2.20920394 -2.21328667 -2.19797342 -2.22729991\n",
      " -2.1852601  -2.20439568 -2.16932945 -2.19298175 -2.13654386 -2.13159856\n",
      " -2.19316624 -2.12016551 -2.13476071 -2.10683856 -2.10554177 -2.10273135\n",
      " -2.06424783 -2.07132031 -2.07824844 -2.06795662 -2.07907173 -2.06593733\n",
      " -2.02177411 -2.05354909 -2.02029454 -2.00954861 -1.99701259 -1.99586085\n",
      " -1.97421374 -1.98095679 -2.00254549 -1.9595017  -1.96900472 -1.92999774\n",
      " -1.92327415 -1.91763312 -1.8966715  -1.91233079 -1.89339702 -1.90320566\n",
      " -1.88749611 -1.83106777 -1.82839219 -1.83647902 -1.81919649 -1.82581845\n",
      " -1.81277828 -1.8364515  -1.78877401 -1.79406842 -1.81279791 -1.75727858\n",
      " -1.76245001 -1.744836   -1.7321081  -1.72921178 -1.73569604 -1.74330451\n",
      " -1.68812952 -1.70058965 -1.70370554 -1.66592565 -1.69808784 -1.65319007\n",
      " -1.67170811 -1.64603732 -1.64744044 -1.63020582 -1.61625497 -1.60642645\n",
      " -1.57356915 -1.60156797 -1.57172978 -1.55423175 -1.55461828 -1.5721112\n",
      " -1.53746227 -1.54393367 -1.54111274 -1.52056662 -1.47827924 -1.49658978\n",
      " -1.50452669 -1.4718815  -1.48688581 -1.48806734 -1.44749104 -1.45344558\n",
      " -1.43275657 -1.43846411 -1.41098677 -1.3854871  -1.43235202 -1.39813831\n",
      " -1.37232777 -1.36499382 -1.36269909 -1.33750348 -1.33687877 -1.35574283\n",
      " -1.33164288 -1.31878461 -1.32993801 -1.34997756 -1.27934158 -1.31181983\n",
      " -1.26393481 -1.29144498 -1.26053639 -1.25393031 -1.23931733 -1.25116443\n",
      " -1.21790544 -1.20334596 -1.18948017 -1.1707651  -1.19727323 -1.18717966\n",
      " -1.1592659  -1.15378371 -1.1332545  -1.12749405 -1.14620511 -1.10013285\n",
      " -1.12474706 -1.10306606 -1.08971455 -1.07745156 -1.093833   -1.08505971\n",
      " -1.04592425 -1.05143093 -1.06211415 -1.02904003 -1.03486536 -1.01297613\n",
      " -0.98018383 -1.00058109 -0.98345999 -0.98059449 -0.97184694 -0.99057921\n",
      " -0.94755954 -0.92489374 -0.92730684 -0.94390324 -0.92072829 -0.95210585\n",
      " -0.88177158 -0.88712563 -0.85398846 -0.8546569  -0.86111684 -0.84828901\n",
      " -0.83478119 -0.86200308 -0.81436509 -0.8418057  -0.80182587 -0.79222624\n",
      " -0.78127029 -0.79925834 -0.78158531 -0.77815929 -0.7479751  -0.73953231\n",
      " -0.77429186 -0.72510159 -0.73422578 -0.7140846  -0.69220661 -0.72274484\n",
      " -0.67217698 -0.65702312 -0.64577078 -0.678568   -0.6855137  -0.66198063\n",
      " -0.6317111  -0.62246762 -0.64745107 -0.62373019 -0.581303   -0.59989186\n",
      " -0.58602096 -0.57735118 -0.56637303 -0.57157109 -0.56554894 -0.53219261\n",
      " -0.54671901 -0.50073052 -0.50810619 -0.51084651 -0.47562125 -0.45436591\n",
      " -0.47792998 -0.48203904]\n",
      "[-0.85543703 -0.85645959 -0.84037876 -0.8321667  -0.82831038 -0.83308183\n",
      " -0.80975225 -0.79864707 -0.79004787 -0.79024733 -0.76232024 -0.75171769\n",
      " -0.76966633 -0.73746317 -0.72842004 -0.73396879 -0.71482084 -0.70191555\n",
      " -0.68487584 -0.69110506 -0.67627    -0.67913517 -0.66113223 -0.65964981\n",
      " -0.63623681 -0.63707278 -0.60690212 -0.6058455  -0.61202526 -0.59200725\n",
      " -0.58986775 -0.57795465 -0.57404443 -0.55516741 -0.5563351  -0.53493603\n",
      " -0.54165442 -0.5181564  -0.52621286 -0.49872506 -0.49922175 -0.49001149\n",
      " -0.48910255 -0.47179704 -0.4427032  -0.4607935  -0.43774264 -0.43086822\n",
      " -0.43087175 -0.42924714 -0.42046752 -0.40704922 -0.39006835 -0.3866209\n",
      " -0.36965853 -0.34905933 -0.35618618 -0.34263866 -0.33557983 -0.33242464\n",
      " -0.30274008 -0.30912018 -0.30238309 -0.2927415  -0.28649385 -0.29027361\n",
      " -0.25790473 -0.25220446 -0.25463536 -0.23952511 -0.22050725 -0.22268681\n",
      " -0.20326727 -0.20523779 -0.18270531 -0.18480363 -0.16576469 -0.17811346\n",
      " -0.15100237 -0.15181796 -0.15089625 -0.13647404 -0.11956694 -0.10194015\n",
      " -0.10202477 -0.10978015 -0.08400801 -0.06617853 -0.06399457 -0.05942025\n",
      " -0.04326938 -0.03826989 -0.03325779 -0.0209576  -0.00917906 -0.00378593\n",
      "  0.02239085  0.01241138  0.03254129  0.05069437  0.0524078   0.04336603\n",
      "  0.06288098  0.06611111  0.07565874  0.08500981  0.09545974  0.10470084\n",
      "  0.12536614  0.13206792  0.12805931  0.13856822  0.14976739  0.14604322\n",
      "  0.17156621  0.18099059  0.18252046  0.21150614  0.21829399  0.22258934\n",
      "  0.21604564  0.23785396  0.25089456  0.24704146  0.26501183  0.28784002\n",
      "  0.27343178  0.2859771   0.29773519  0.31108393  0.30422643  0.31628371\n",
      "  0.34009164  0.34954761  0.35573607  0.36973873  0.37251922  0.37462612\n",
      "  0.39769489  0.39474069  0.40295614  0.40874516  0.42119967  0.43583377\n",
      "  0.44238004  0.4541802   0.4606153   0.4709537   0.4753402   0.47147862\n",
      "  0.49656156  0.49654173  0.51068112  0.5252217   0.54961952  0.54517317\n",
      "  0.54824147  0.56016257  0.56585737  0.58157363  0.58454129  0.5931115\n",
      "  0.60045161  0.61411542  0.6206068   0.63598149  0.63574994  0.64867679\n",
      "  0.65631662  0.67252428  0.66317262  0.67122318  0.68939461  0.69840221\n",
      "  0.7234771   0.72074376  0.72691002  0.73012049  0.74797258  0.75139858\n",
      "  0.76190635  0.78004861  0.7901625   0.78960198  0.80480244  0.80479722\n",
      "  0.81565899  0.82877946  0.84083181  0.84030336  0.85613659  0.86022233\n",
      "  0.86073221  0.89010434  0.89789935  0.89779986  0.90578192  0.93121471\n",
      "  0.91959849  0.93194667]\n"
     ]
    }
   ],
   "source": [
    "# Step 1: compute the 97.5 th percentile of the posterior predictive predictions\n",
    "pp_upper = np.percentile(posterior_predictive_samples, 97.5, axis=0)\n",
    "print(pp_upper)\n",
    "\n",
    "# Step 2: compute the 2.5 th percentile of the posterior predictive predictions\n",
    "pp_lower = np.percentile(posterior_predictive_samples, 2.5, axis=0)\n",
    "print(pp_lower)\n",
    "\n",
    "# Step 3: compute the 50 th percentile of the posterior predictive predictions\n",
    "pp_mean = np.mean(posterior_predictive_samples, axis=0)\n",
    "print(pp_mean)"
   ]
  },
  {
   "cell_type": "code",
   "execution_count": 27,
   "metadata": {
    "colab": {
     "base_uri": "https://localhost:8080/",
     "height": 336
    },
    "colab_type": "code",
    "executionInfo": {
     "elapsed": 6094,
     "status": "ok",
     "timestamp": 1599013678046,
     "user": {
      "displayName": "Chi Zhang",
      "photoUrl": "https://lh3.googleusercontent.com/a-/AOh14GgSIyWP3kmRCXr-fR5-ZuYDqYJMBMlSFnfOInKZYEc=s64",
      "userId": "04460928861387587293"
     },
     "user_tz": 240
    },
    "id": "dSAjjoXInbog",
    "outputId": "7ac64b3d-01f7-48b4-ad56-809bc81c3c3d"
   },
   "outputs": [
    {
     "data": {
      "image/png": "[encoded data removed]",
      "text/plain": [
       "<Figure size 1440x360 with 2 Axes>"
      ]
     },
     "metadata": {
      "needs_background": "light"
     },
     "output_type": "display_data"
    }
   ],
   "source": [
    "# Step 4: Visualize the posterior predictive distribution\n",
    "fig, ax = plt.subplots(1, 2, figsize=(20, 5))\n",
    "\n",
    "# visualize the training data \n",
    "ax[0].scatter(x_train, y_train, color='black', label='training data') \n",
    "\n",
    "# visualize each model from the posterior\n",
    "for sample in posterior_predictions:\n",
    "    ax[0].plot(x_train, sample, color='red', alpha=0.05)\n",
    "\n",
    "ax[0].set_ylim([-5, 5])\n",
    "ax[0].set_title('visualization of {} linear models from the posterior'.format(samples))\n",
    "\n",
    "# visualize the mean of the posterior predictive\n",
    "ax[1].plot(x_train, pp_mean, color='red', label='posterior predictive mean')\n",
    "# visualize the 95% posterior predictive interval\n",
    "ax[1].fill_between(x_train, pp_upper, pp_lower, color='red', alpha=0.4, label='posterior predictive 95% interval')\n",
    "# visualize the training data\n",
    "ax[1].scatter(x_train, y_train, color='black', label='training data')\n",
    "\n",
    "ax[1].legend(loc='best')\n",
    "ax[1].set_title('posterior predictive of Bayesian linear model')\n",
    "ax[1].set_ylim([-5, 5])\n",
    "plt.show()"
   ]
  },
  {
   "cell_type": "markdown",
   "metadata": {
    "colab_type": "text",
    "id": "7PcRgUPwqcWq"
   },
   "source": [
    "The width of 95% posterior predictive interval quantify the uncertainty at each input x because the data were generated using the specified model and if the model was correct, the posterior distribution should mimic true data.    \n",
    "In this case, the posterior sampling do not mimic real data. We can see that at points close to x=0, real data have little variability, the variability at two ends are much greater. The simulated data, however, has same variability for all x levels. "
   ]
  }
 ],
 "metadata": {
  "colab": {
   "collapsed_sections": [],
   "name": "In-Class Exercise 1 - Sept 3.ipynb",
   "provenance": [
    {
     "file_id": "1QMrgJtCDl6wI8qfIHeubeeVY1I3e6DNV",
     "timestamp": 1599695740058
    },
    {
     "file_id": "1C_gSySQ-YZQ8tAITc0bylZqMJLJRL28t",
     "timestamp": 1599014374467
    },
    {
     "file_id": "17Z4DnW688_9Gn0maaraf-N9JKW3607OR",
     "timestamp": 1597797180223
    },
    {
     "file_id": "1E-6nZ56omtz1uRLgmd2rruTAiPf_49sW",
     "timestamp": 1590768111813
    }
   ],
   "toc_visible": true
  },
  "kernelspec": {
   "display_name": "Python 3",
   "language": "python",
   "name": "python3"
  },
  "language_info": {
   "codemirror_mode": {
    "name": "ipython",
    "version": 3
   },
   "file_extension": ".py",
   "mimetype": "text/x-python",
   "name": "python",
   "nbconvert_exporter": "python",
   "pygments_lexer": "ipython3",
   "version": "3.8.3"
  }
 },
 "nbformat": 4,
 "nbformat_minor": 1
}
