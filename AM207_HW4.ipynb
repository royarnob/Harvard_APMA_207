{
 "cells": [
  {
   "cell_type": "markdown",
   "metadata": {},
   "source": [
    "# Homework #4 (Due 10/08/2020, 11:59pm)\n",
    "## EM for Data Augmentation; MCMC Sampling\n",
    "\n",
    "**AM 207: Advanced Scientific Computing**<br>\n",
    "**Instructor: Weiwei Pan**<br>\n",
    "**Fall 2020**"
   ]
  },
  {
   "cell_type": "markdown",
   "metadata": {},
   "source": [
    "**Name:** Arnob Roy ***NOTE:*** I was unable to achieve working code and was unable to completely finish some questions.\n",
    "\n",
    "**Students collaborators:**"
   ]
  },
  {
   "cell_type": "markdown",
   "metadata": {},
   "source": [
    "### Instructions:\n",
    "\n",
    "**Submission Format:** Use this notebook as a template to complete your homework. Please intersperse text blocks (using Markdown cells) amongst `python` code and results -- format your submission for maximum readability. Your assignments will be graded for correctness as well as clarity of exposition and presentation -- a “right” answer by itself without an explanation or is presented with a difficult to follow format will receive no credit.\n",
    "\n",
    "**Code Check:** Before submitting, you must do a \"Restart and Run All\" under \"Kernel\" in the Jupyter or colab menu. Portions of your submission that contains syntactic or run-time errors will not be graded.\n",
    "\n",
    "**Libraries and packages:** Unless a problems specifically asks you to implement from scratch, you are welcomed to use any `python` library package in the standard Anaconda distribution."
   ]
  },
  {
   "cell_type": "code",
   "execution_count": 2,
   "metadata": {},
   "outputs": [],
   "source": [
    "### Import basic libraries\n",
    "import numpy as np\n",
    "import pandas as pd\n",
    "import sklearn as sk\n",
    "import scipy as sp\n",
    "from sklearn.linear_model import LinearRegression\n",
    "import matplotlib.pyplot as plt\n",
    "%matplotlib inline"
   ]
  },
  {
   "cell_type": "markdown",
   "metadata": {},
   "source": [
    "---\n",
    "\n",
    "# Problem Description: Latent Variables for Data Augmentation\n",
    "\n",
    "A botany research lab in Cambridge is exprimentally cross-breeding two types of hibiscus flowers: blue and pink. The goal is to study the genetic factor that creates an exotic flower whose petals are pink with a ring of blue on each. \n",
    "\n",
    "There are four types of child plant that can result from this cross-breeding: \n",
    "\n",
    "  - Type 1: blue petals\n",
    "  - Type 2: pink petals \n",
    "  - Type 3: purple petals\n",
    "  - Type 4: pink petals with a blue ring on each. \n",
    "\n",
    "Out of 197 initial cross-breedings, the nursery obtained the following counts of the four types of child plants:\n",
    "\n",
    "$$Y = (y_1, y_2, y_3, y_4) = (125, 18, 20, 34)$$\n",
    "\n",
    "where $y_i$ represents the number of child plants that are of type $i$.\n",
    "\n",
    "The geneticist in the lab knows that the probability of obtaining each type of child plant in any single breeding experiment is correlated by the inheritability $\\theta$ of a specific genetic factor. That is, the probabilities of obtaining the four subtypes are as follows:\n",
    "\n",
    "$$ \\frac{\\theta+2}{4}, \\frac{1-\\theta}{4}, \\frac{1-\\theta}{4}, \\frac{\\theta}{4},$$\n",
    "\n",
    "where $\\theta \\in [0, 1]$ is unknown.\n",
    "\n",
    "The lab chose to model the observed data using a multinomial model:\n",
    "\n",
    "\\begin{align}\n",
    "Y & \\sim Mult\\left(197, \\left[\\frac{\\theta+2}{4}, \\frac{1 - \\theta}{4}, \\frac{1 - \\theta}{4}, \\frac{\\theta}{4} \\right]\\right)\n",
    "\\end{align}\n",
    "\n",
    "The aim of this problem is to estimate $\\theta$ from the observed counts."
   ]
  },
  {
   "cell_type": "markdown",
   "metadata": {},
   "source": [
    "## Part I: MLE Through Latent Variable Augmentation and EM\n",
    "In models where directly computing the MLE is hard (you can think about if that is the case here), the optimization of the likelihood can often be simplified by introducing a latent variable into the model and then optimize the likelihood using EM - this process is called ***data augmentation***.\n",
    "\n",
    "The nursery augmented the data with a new variable $Z$ such that:\n",
    "$$Z + (y_1 - Z) = y_1.$$\n",
    "That is, using $Z$, they are breaking $y_1$, the number of Type I child plants, into two subtypes, with $Z$ being the count of Subtype #1 and $(y_1-Z)$ being the count of Subtype #2. The lab posited the probability of obtain the two subtype $\\theta/4$ and $1/2$, respectively.\n",
    "\n",
    "The augmented model (which includes the observed data $y$ and the latent variable $z$ they introduced) they derived is as follows:\n",
    "\n",
    "\\begin{aligned}\n",
    "Z | Y, \\theta &\\sim Bin\\left(y_1, \\frac{\\theta}{2 + \\theta}\\right)\\\\\n",
    "Y & \\sim Mult\\left(197, \\left[\\frac{1}{2} + \\frac{\\theta}{4}, \\frac{1 - \\theta}{4}, \\frac{1 - \\theta}{4}, \\frac{\\theta}{4} \\right]\\right)\n",
    "\\end{aligned}"
   ]
  },
  {
   "cell_type": "markdown",
   "metadata": {},
   "source": [
    "1. Show that the assumptions the lab made about $Z$ implies that $Z | Y, \\theta \\sim Bin\\left(y_1, \\frac{\\theta}{2 + \\theta}\\right)$.<br><br>\n",
    "***My Answer Attempt.***\n",
    "\n",
    "Recalling from lecture 9, although there are four types of child plants, there are two \"subtypes\" which represent the two classes for the latent variable $Z.$ Therefore, when $Z$ is distributed by a binomial variable, $y_1$ represents the probability of a Type 1 childplant and $\\frac{\\theta}{2+\\theta}$ represents the probability of any of the other types of child plant.\n",
    "\n",
    "Each observation $Y_i$ has a class membership in $Z\\sim Cat(y_1, ({y_2, y_3, y_4}))$, whereas we dont have the class membership of $Z$ in $Y$. Therefore, $Z$ is a latent variable."
   ]
  },
  {
   "cell_type": "markdown",
   "metadata": {},
   "source": [
    "2. Derive the EM updates for the augmented latent variable model.<br><br>\n",
    "***My Answer Attempt.***\n",
    "\n",
    "To derive the updates for the parameters of $Z$ which is $y$ and $\\theta$, $\\mu$ (weighted sample mean), and $\\Sigma$ (weighted sample covariance, we do the following steps for EM:\n",
    "\n",
    "1. Expectation (E-step)\n",
    "$$\n",
    "q_{\\text{new}} = p(Z_n|y_n, \\theta_{\\text{old}}, \\mu_{\\text{old}}, \\Sigma_{\\text{old}}) = \\frac{p(y_n|Z_n, \\mu_{\\text{old}}, \\Sigma_{\\text{old}})p(Z_n|\\theta_{\\text{old}})}{\\int p(y_n|z_n, \\mu_{\\text{old}}, \\Sigma_{\\text{old}})p(z_n|\\theta_{\\text{old}}) dz_n}\n",
    "$$\n",
    "\n",
    "2. Maximiation (M-step)\n",
    "\n",
    "$$\n",
    "\\mu_{\\text{new}}, \\Sigma_{\\text{new}}, \\theta_{\\text{new}} = \\underset{\\mu, \\Sigma, \\theta}{\\mathrm{argmax}}\\, \\sum_{n=1}^N\\mathbb{E}_{Z_n\\sim p(Z_n|Y_n, \\mu_{\\text{old}}, \\Sigma_{\\text{old}}, \\theta_{\\text{old}})}\\left[\\log \\left( p(y_n, Z_n | \\mu, \\sigma \\right) \\right]\\\\\n",
    "$$"
   ]
  },
  {
   "cell_type": "markdown",
   "metadata": {},
   "source": [
    "3. Implement the EM algorithm to estimate the MLE of $\\theta$. Choose an appropriate initialization point and an appropriate stopping condition.<br><br>\n",
    "***My Answer Attempt.***"
   ]
  },
  {
   "cell_type": "code",
   "execution_count": 20,
   "metadata": {},
   "outputs": [
    {
     "name": "stdout",
     "output_type": "stream",
     "text": [
      "iteration  0\n"
     ]
    },
    {
     "name": "stderr",
     "output_type": "stream",
     "text": [
      "<ipython-input-20-d1461f8cc980>:34: RuntimeWarning: divide by zero encountered in true_divide\n",
      "  r = r_unnormalized / r_unnormalized.sum(axis=1).reshape((-1, 1))\n",
      "<ipython-input-20-d1461f8cc980>:34: RuntimeWarning: invalid value encountered in true_divide\n",
      "  r = r_unnormalized / r_unnormalized.sum(axis=1).reshape((-1, 1))\n"
     ]
    },
    {
     "ename": "ValueError",
     "evalue": "color kwarg must have one color per data set. 3 data sets and 1 colors were provided",
     "output_type": "error",
     "traceback": [
      "\u001b[1;31m---------------------------------------------------------------------------\u001b[0m",
      "\u001b[1;31mValueError\u001b[0m                                Traceback (most recent call last)",
      "\u001b[1;32m<ipython-input-20-d1461f8cc980>\u001b[0m in \u001b[0;36m<module>\u001b[1;34m\u001b[0m\n\u001b[0;32m     60\u001b[0m \u001b[1;33m\u001b[0m\u001b[0m\n\u001b[0;32m     61\u001b[0m \u001b[0mfig\u001b[0m\u001b[1;33m,\u001b[0m \u001b[0max\u001b[0m \u001b[1;33m=\u001b[0m \u001b[0mplt\u001b[0m\u001b[1;33m.\u001b[0m\u001b[0msubplots\u001b[0m\u001b[1;33m(\u001b[0m\u001b[1;36m1\u001b[0m\u001b[1;33m,\u001b[0m \u001b[1;36m1\u001b[0m\u001b[1;33m,\u001b[0m \u001b[0mfigsize\u001b[0m\u001b[1;33m=\u001b[0m\u001b[1;33m(\u001b[0m\u001b[1;36m10\u001b[0m\u001b[1;33m,\u001b[0m \u001b[1;36m5\u001b[0m\u001b[1;33m)\u001b[0m\u001b[1;33m)\u001b[0m\u001b[1;33m\u001b[0m\u001b[1;33m\u001b[0m\u001b[0m\n\u001b[1;32m---> 62\u001b[1;33m \u001b[0max\u001b[0m\u001b[1;33m.\u001b[0m\u001b[0mhist\u001b[0m\u001b[1;33m(\u001b[0m\u001b[0my\u001b[0m\u001b[1;33m,\u001b[0m \u001b[0mbins\u001b[0m\u001b[1;33m=\u001b[0m\u001b[1;36m60\u001b[0m\u001b[1;33m,\u001b[0m \u001b[0mdensity\u001b[0m\u001b[1;33m=\u001b[0m\u001b[1;32mTrue\u001b[0m\u001b[1;33m,\u001b[0m \u001b[0mcolor\u001b[0m\u001b[1;33m=\u001b[0m\u001b[1;34m'gray'\u001b[0m\u001b[1;33m,\u001b[0m \u001b[0malpha\u001b[0m\u001b[1;33m=\u001b[0m\u001b[1;36m0.5\u001b[0m\u001b[1;33m,\u001b[0m \u001b[0mlabel\u001b[0m\u001b[1;33m=\u001b[0m\u001b[1;34m'histogram of birth weights'\u001b[0m\u001b[1;33m)\u001b[0m\u001b[1;33m\u001b[0m\u001b[1;33m\u001b[0m\u001b[0m\n\u001b[0m\u001b[0;32m     63\u001b[0m \u001b[0max\u001b[0m\u001b[1;33m.\u001b[0m\u001b[0mplot\u001b[0m\u001b[1;33m(\u001b[0m\u001b[0mx\u001b[0m\u001b[1;33m,\u001b[0m \u001b[0mpi_current\u001b[0m\u001b[1;33m[\u001b[0m\u001b[1;36m0\u001b[0m\u001b[1;33m]\u001b[0m \u001b[1;33m*\u001b[0m \u001b[0msp\u001b[0m\u001b[1;33m.\u001b[0m\u001b[0mstats\u001b[0m\u001b[1;33m.\u001b[0m\u001b[0mnorm\u001b[0m\u001b[1;33m(\u001b[0m\u001b[0mmu_current\u001b[0m\u001b[1;33m[\u001b[0m\u001b[1;36m0\u001b[0m\u001b[1;33m]\u001b[0m\u001b[1;33m,\u001b[0m \u001b[0msigma_current\u001b[0m\u001b[1;33m[\u001b[0m\u001b[1;36m0\u001b[0m\u001b[1;33m]\u001b[0m\u001b[1;33m**\u001b[0m\u001b[1;36m0.5\u001b[0m\u001b[1;33m)\u001b[0m\u001b[1;33m.\u001b[0m\u001b[0mpdf\u001b[0m\u001b[1;33m(\u001b[0m\u001b[0mx\u001b[0m\u001b[1;33m)\u001b[0m\u001b[1;33m,\u001b[0m \u001b[0mcolor\u001b[0m\u001b[1;33m=\u001b[0m\u001b[1;34m'red'\u001b[0m\u001b[1;33m,\u001b[0m \u001b[0mlabel\u001b[0m\u001b[1;33m=\u001b[0m\u001b[1;34m'First Gaussian'\u001b[0m\u001b[1;33m)\u001b[0m\u001b[1;33m\u001b[0m\u001b[1;33m\u001b[0m\u001b[0m\n\u001b[0;32m     64\u001b[0m \u001b[0max\u001b[0m\u001b[1;33m.\u001b[0m\u001b[0mplot\u001b[0m\u001b[1;33m(\u001b[0m\u001b[0mx\u001b[0m\u001b[1;33m,\u001b[0m \u001b[0mpi_current\u001b[0m\u001b[1;33m[\u001b[0m\u001b[1;36m1\u001b[0m\u001b[1;33m]\u001b[0m \u001b[1;33m*\u001b[0m \u001b[0msp\u001b[0m\u001b[1;33m.\u001b[0m\u001b[0mstats\u001b[0m\u001b[1;33m.\u001b[0m\u001b[0mnorm\u001b[0m\u001b[1;33m(\u001b[0m\u001b[0mmu_current\u001b[0m\u001b[1;33m[\u001b[0m\u001b[1;36m1\u001b[0m\u001b[1;33m]\u001b[0m\u001b[1;33m,\u001b[0m \u001b[0msigma_current\u001b[0m\u001b[1;33m[\u001b[0m\u001b[1;36m1\u001b[0m\u001b[1;33m]\u001b[0m\u001b[1;33m**\u001b[0m\u001b[1;36m0.5\u001b[0m\u001b[1;33m)\u001b[0m\u001b[1;33m.\u001b[0m\u001b[0mpdf\u001b[0m\u001b[1;33m(\u001b[0m\u001b[0mx\u001b[0m\u001b[1;33m)\u001b[0m\u001b[1;33m,\u001b[0m \u001b[0mcolor\u001b[0m\u001b[1;33m=\u001b[0m\u001b[1;34m'blue'\u001b[0m\u001b[1;33m,\u001b[0m \u001b[0mlabel\u001b[0m\u001b[1;33m=\u001b[0m\u001b[1;34m'Second Gaussian'\u001b[0m\u001b[1;33m)\u001b[0m\u001b[1;33m\u001b[0m\u001b[1;33m\u001b[0m\u001b[0m\n",
      "\u001b[1;32mC:\\ProgramData\\Anaconda3\\lib\\site-packages\\matplotlib\\__init__.py\u001b[0m in \u001b[0;36minner\u001b[1;34m(ax, data, *args, **kwargs)\u001b[0m\n\u001b[0;32m   1563\u001b[0m     \u001b[1;32mdef\u001b[0m \u001b[0minner\u001b[0m\u001b[1;33m(\u001b[0m\u001b[0max\u001b[0m\u001b[1;33m,\u001b[0m \u001b[1;33m*\u001b[0m\u001b[0margs\u001b[0m\u001b[1;33m,\u001b[0m \u001b[0mdata\u001b[0m\u001b[1;33m=\u001b[0m\u001b[1;32mNone\u001b[0m\u001b[1;33m,\u001b[0m \u001b[1;33m**\u001b[0m\u001b[0mkwargs\u001b[0m\u001b[1;33m)\u001b[0m\u001b[1;33m:\u001b[0m\u001b[1;33m\u001b[0m\u001b[1;33m\u001b[0m\u001b[0m\n\u001b[0;32m   1564\u001b[0m         \u001b[1;32mif\u001b[0m \u001b[0mdata\u001b[0m \u001b[1;32mis\u001b[0m \u001b[1;32mNone\u001b[0m\u001b[1;33m:\u001b[0m\u001b[1;33m\u001b[0m\u001b[1;33m\u001b[0m\u001b[0m\n\u001b[1;32m-> 1565\u001b[1;33m             \u001b[1;32mreturn\u001b[0m \u001b[0mfunc\u001b[0m\u001b[1;33m(\u001b[0m\u001b[0max\u001b[0m\u001b[1;33m,\u001b[0m \u001b[1;33m*\u001b[0m\u001b[0mmap\u001b[0m\u001b[1;33m(\u001b[0m\u001b[0msanitize_sequence\u001b[0m\u001b[1;33m,\u001b[0m \u001b[0margs\u001b[0m\u001b[1;33m)\u001b[0m\u001b[1;33m,\u001b[0m \u001b[1;33m**\u001b[0m\u001b[0mkwargs\u001b[0m\u001b[1;33m)\u001b[0m\u001b[1;33m\u001b[0m\u001b[1;33m\u001b[0m\u001b[0m\n\u001b[0m\u001b[0;32m   1566\u001b[0m \u001b[1;33m\u001b[0m\u001b[0m\n\u001b[0;32m   1567\u001b[0m         \u001b[0mbound\u001b[0m \u001b[1;33m=\u001b[0m \u001b[0mnew_sig\u001b[0m\u001b[1;33m.\u001b[0m\u001b[0mbind\u001b[0m\u001b[1;33m(\u001b[0m\u001b[0max\u001b[0m\u001b[1;33m,\u001b[0m \u001b[1;33m*\u001b[0m\u001b[0margs\u001b[0m\u001b[1;33m,\u001b[0m \u001b[1;33m**\u001b[0m\u001b[0mkwargs\u001b[0m\u001b[1;33m)\u001b[0m\u001b[1;33m\u001b[0m\u001b[1;33m\u001b[0m\u001b[0m\n",
      "\u001b[1;32mC:\\ProgramData\\Anaconda3\\lib\\site-packages\\matplotlib\\axes\\_axes.py\u001b[0m in \u001b[0;36mhist\u001b[1;34m(self, x, bins, range, density, weights, cumulative, bottom, histtype, align, orientation, rwidth, log, color, label, stacked, **kwargs)\u001b[0m\n\u001b[0;32m   6614\u001b[0m                     \u001b[1;34m\"color kwarg must have one color per data set. %d data \"\u001b[0m\u001b[1;33m\u001b[0m\u001b[1;33m\u001b[0m\u001b[0m\n\u001b[0;32m   6615\u001b[0m                     \"sets and %d colors were provided\" % (nx, len(color)))\n\u001b[1;32m-> 6616\u001b[1;33m                 \u001b[1;32mraise\u001b[0m \u001b[0mValueError\u001b[0m\u001b[1;33m(\u001b[0m\u001b[0merror_message\u001b[0m\u001b[1;33m)\u001b[0m\u001b[1;33m\u001b[0m\u001b[1;33m\u001b[0m\u001b[0m\n\u001b[0m\u001b[0;32m   6617\u001b[0m \u001b[1;33m\u001b[0m\u001b[0m\n\u001b[0;32m   6618\u001b[0m         \u001b[0mhist_kwargs\u001b[0m \u001b[1;33m=\u001b[0m \u001b[0mdict\u001b[0m\u001b[1;33m(\u001b[0m\u001b[1;33m)\u001b[0m\u001b[1;33m\u001b[0m\u001b[1;33m\u001b[0m\u001b[0m\n",
      "\u001b[1;31mValueError\u001b[0m: color kwarg must have one color per data set. 3 data sets and 1 colors were provided"
     ]
    },
    {
     "data": {
      "image/png": "[encoded data removed]",
      "text/plain": [
       "<Figure size 720x360 with 1 Axes>"
      ]
     },
     "metadata": {
      "needs_background": "light"
     },
     "output_type": "display_data"
    }
   ],
   "source": [
    "#Generate data\n",
    "N = 2000\n",
    "pis = [0.2, 0.6, 0.2]\n",
    "mus = [4.3, 6, 7.8]\n",
    "sigmas = [0.5**2, 0.7**2, 0.5**2]\n",
    "K = 3\n",
    "zs = np.random.choice(np.arange(K), size=N, p=pis)\n",
    "y = np.array([np.random.multinomial(197, sigmas, 1)[0]])\n",
    "\n",
    "#initialization\n",
    "mu_init = [2, 4, 5]\n",
    "sigma_init = [2., 2., 2.]\n",
    "pi_init = [0.33, 0.33, 0.33]\n",
    "\n",
    "#implement EM\n",
    "mu_current = mu_init\n",
    "sigma_current = sigma_init\n",
    "pi_current = pi_init\n",
    "\n",
    "log_lkhd = []\n",
    "\n",
    "total_iter = 1500\n",
    "threshold = 1e-10\n",
    "\n",
    "mu_diff = 1.\n",
    "pi_diff = 1.\n",
    "sigma_diff = 1.\n",
    "\n",
    "i = 0\n",
    "\n",
    "while i < total_iter and mu_diff > threshold and pi_diff > threshold and sigma_diff > threshold:\n",
    "    #E-step\n",
    "    r_unnormalized = np.array([(pi_current[k] *  sp.stats.norm(mu_current[k], sigma_current[k]**0.5).pdf(y)) for k in range(K)]).T\n",
    "    r = r_unnormalized / r_unnormalized.sum(axis=1).reshape((-1, 1))\n",
    "    #M-step\n",
    "    mu_next = np.array([1. / r[:, k].sum() * (r[:, k] * y).sum() for k in range(K)])\n",
    "    sigma_next = np.array([1. / r[:, k].sum() * (r[:, k] * (y - mu_next[k])**2).sum() for k in range(K)])\n",
    "    pi_next = r.sum(axis=0) / r.shape[0]\n",
    "    \n",
    "    #compute log observed likelihood\n",
    "    if i % 100 == 0:\n",
    "        print('iteration ', i)\n",
    "        ll = 0\n",
    "        for n in range(len(y)):\n",
    "            ll += np.log(np.sum([sp.stats.norm(mu_next[k], sigma_next[k]**0.5).pdf(y[n]) * pi_next[k] for k in range(K)])) \n",
    "        log_lkhd.append(ll)\n",
    "        \n",
    "    #convergence check\n",
    "    mu_diff = np.linalg.norm(mu_next - mu_current)\n",
    "    pi_diff = np.linalg.norm(pi_next - pi_current)\n",
    "    sigma_diff = np.linalg.norm(sigma_next - sigma_current)\n",
    "           \n",
    "    #update parameters\n",
    "    mu_current = mu_next\n",
    "    sigma_current = sigma_next\n",
    "    pi_current = pi_next\n",
    "    i += 1\n",
    "    \n",
    "x = np.linspace(y.min(), y.max(), 100)\n",
    "\n",
    "fig, ax = plt.subplots(1, 1, figsize=(10, 5))\n",
    "ax.hist(y, bins=60, density=True, color='gray', alpha=0.5, label='histogram of birth weights')\n",
    "ax.plot(x, pi_current[0] * sp.stats.norm(mu_current[0], sigma_current[0]**0.5).pdf(x), color='red', label='First Gaussian')\n",
    "ax.plot(x, pi_current[1] * sp.stats.norm(mu_current[1], sigma_current[1]**0.5).pdf(x), color='blue', label='Second Gaussian')\n",
    "ax.plot(x, pi_current[2] * sp.stats.norm(mu_current[2], sigma_current[2]**0.5).pdf(x), color='green', label='Third Gaussian')\n",
    "ax.set_title('GMM for Birth Weights')\n",
    "ax.legend(loc='best')\n",
    "plt.show()"
   ]
  },
  {
   "cell_type": "markdown",
   "metadata": {},
   "source": [
    "4. Explain the potential advantage of augmenting likelihood models with a latent variable (e.g. what aspects of the MLE computation becomes easier or more efficient?).\n",
    "\n",
    "***My Answer Attempt.***\n",
    "\n",
    "Some obvious benefits or advantages of using latent variables to augment your data's MLE models, are clustering, and getting more information out of your data that you otherwise would not have.\n",
    "\n"
   ]
  },
  {
   "cell_type": "markdown",
   "metadata": {},
   "source": [
    "---\n",
    "\n",
    "# Problem Description: Modeling Kidney Cancer Data\n",
    "In this problem, we will work with the US Kidney Cancer Data set, `kcancer.csv`. This is a dataset of kidney cancer frequencies across the US over 5 years on a per county basis. \n",
    "\n",
    "**In this homework, we focus on the mechanics of seting up a statistical model for this data set and performing inference on it. In the next homework, we will focus on interpreting this model and comparing it with others in context.**\n",
    "\n",
    "Let $N$ be the number of counties; let $y_j$ the number of kidney cancer cases for the $j$-th county, $n_j$ the population of the $j$-county and $\\theta_j$ be the underlying kidney cancer rate for that county. The following is a Bayesian model for our data:\n",
    "\n",
    "\\begin{aligned}\n",
    "y_j &\\sim Poisson(5 \\cdot n_j \\cdot \\theta_j), \\quad j = 1, \\ldots, N\\\\\n",
    "\\theta_j &\\sim Gamma(\\alpha, \\beta), \\quad j = 1, \\ldots, N\n",
    "\\end{aligned}\n",
    "\n",
    "where $\\alpha, \\beta$ are hyper-parameters of the model.\n",
    "\n",
    "\n",
    "Rather than arbitrarily choosing the hyperparameters $\\alpha, \\beta$, following the Bayesian philosophy, we typically put additional priors on quantities of which we are uncertain. That is, we model the kidney cancer rates using a ***hierarchical model***:\n",
    "\n",
    "\\begin{aligned}\n",
    "y_j &\\sim Poisson(5 \\cdot n_j \\cdot \\theta_j), \\quad j = 1, \\ldots, N\\\\\n",
    "\\theta_j &\\sim Ga(\\alpha, \\beta), \\quad j = 1, \\ldots, N\\\\\n",
    "\\alpha &\\sim Ga(a, b)\\\\\n",
    "\\beta &\\sim Ga(c, d)\n",
    "\\end{aligned}\n",
    "where $a, b, c, d$ are hyperparameters. \n",
    "\n",
    "In this problem, you will implement a modified Gibbs sampler to sample from the posterior of this complex model."
   ]
  },
  {
   "cell_type": "markdown",
   "metadata": {},
   "source": [
    "## Part I: The Conditional Distributions\n",
    "1. Justify our choice to use a hierarchical model. Specifically, explain the draw-backs of using MLE estimates of $\\theta_j$ to represent the underlying cancer rates of these counties (recall the discussion in Lecture #3). Explain the draw-backs of choosing specific values for the hyper-parameters of $\\alpha$ and $\\beta$ rather than putting priors on them (recall the discussion in Homework #1 about priors).<br><br>"
   ]
  },
  {
   "cell_type": "markdown",
   "metadata": {},
   "source": [
    "***My Answer Attempt.***\n",
    "\n",
    "I recall from lecture 3 that we talked about the limitations of MLE, particularly overfitting and underfitting. One way to prevent MLE from overfitting to the observations is by constraining \"unreasonable values\" by regularization. So we pick regularization parameters, such as $\\alpha$ and $\\beta$, during training to ensure that our MLE parameters are as close to 0 as possible. "
   ]
  },
  {
   "cell_type": "markdown",
   "metadata": {},
   "source": [
    "2. Verify that the conditional distributions are \n",
    "\\begin{align}\n",
    "p(\\theta_j | \\theta_{-j}, y, \\alpha, \\beta) &= Ga(\\theta_j; \\alpha + y_j, 5 n_j  + \\beta),\\\\\n",
    "p(\\alpha, \\beta | \\theta, y) &\\propto \\frac{\\beta^{N\\alpha}}{\\Gamma^N(\\alpha)} \\left[\\prod_j \\theta_j^{\\alpha - 1}\\right] e^{-\\sum_j\\beta\\theta_j - d\\beta - b\\alpha} \\alpha^{a-1} \\beta^{c-1}\n",
    "\\end{align}\n",
    "  where we use the following notation:\n",
    "\\begin{align}\n",
    "\\theta &:= \\{ \\theta_j\\}_{j=1, \\ldots, N}\\\\\n",
    "\\theta_{-j} &:= \\{ \\theta_i\\}_{i=1, \\ldots, j-1, j+1,\\ldots, N}\\\\\n",
    "y &:= \\{y_j \\}_{j=1, \\ldots, N}\\\\\n",
    "y_{-j} &:= \\{ y_i\\}_{i=1,\\ldots, j-1, j+1,\\ldots, N}\\\\\n",
    "\\end{align}\n",
    "  Unfortunately, you see that $p(\\alpha, \\beta | \\theta, y)$ doesn't resemble the pdf of a nice simple distribution; that is, it is unclear how to sample from it."
   ]
  },
  {
   "cell_type": "markdown",
   "metadata": {},
   "source": [
    "## Part II: Metropolis-Hastings-in-Gibbs\n",
    "1. When one or more conditional distributions in a Gibbs sampler do not have closed forms (this is the case for most models), we often sample from these conditionals using another MCMC method (e.g. Metropolis Hastings). That is, we modify the Gibbs sampler as follows:\n",
    "\n",
    "  **I.** Sample $\\theta_j$ using the closed form for $p(\\theta_j | \\theta_{-j}, y, \\alpha, \\beta)$.\n",
    "  \n",
    "  **II.** Sample $\\alpha, \\beta$ from $p(\\alpha, \\beta | \\theta, y)$ using a Metropolis-Hastings step (i.e. use a proposal distribution to propose a sample and the MH reject/accept mechanism to accept the new sample or keep the old).\n",
    "  \n",
    "  This algorithm is called a ***Metropolis-Hastings-in-Gibbs sampler***. <br><br>\n",
    "  \n",
    "  Note that we computed $p(\\alpha, \\beta | \\theta, y)$ only up to a constant. Show why we don't need to know the normalizing constant of $p(\\alpha, \\beta | \\theta, y)$ when we perform MH sampling.\n",
    "  \n",
    "I am unsure of the target distribution I wish to use here. "
   ]
  },
  {
   "cell_type": "code",
   "execution_count": 3,
   "metadata": {},
   "outputs": [],
   "source": [
    "def get_posterior_samples(prior_var, noise_var, x_matrix, y_matrix, x_test_matrix, samples=100):\n",
    "    '''Function to generate posterior predictive samples for Bayesian linear regression model'''\n",
    "    prior_variance = np.diag(prior_var * np.ones(x_matrix.shape[1]))\n",
    "    prior_precision = np.linalg.inv(prior_variance)\n",
    "\n",
    "    joint_precision = prior_precision + x_matrix.T.dot(x_matrix) / noise_var\n",
    "    joint_variance = np.linalg.inv(joint_precision)\n",
    "    joint_mean = joint_variance.dot(x_matrix.T.dot(y_matrix)) / noise_var\n",
    "\n",
    "    #sampling 100 points from the posterior\n",
    "    posterior_samples = np.random.multivariate_normal(joint_mean.flatten(), joint_variance, size=samples)\n",
    "\n",
    "    #take posterior predictive samples\n",
    "    posterior_predictions = np.dot(posterior_samples, x_test_matrix.T) \n",
    "    posterior_predictive_samples = posterior_predictions[np.newaxis, :, :] + np.random.normal(0, noise_var**0.5, size=(100, posterior_predictions.shape[0], posterior_predictions.shape[1]))\n",
    "    posterior_predictive_samples = posterior_predictive_samples.reshape((100 * posterior_predictions.shape[0], posterior_predictions.shape[1]))\n",
    "    return posterior_predictions, posterior_predictive_samples\n",
    "\n",
    "def MH_sampler(S, target, init, sigma_sq=0.5):\n",
    "    samples = []\n",
    "    current = init\n",
    "    accepts = 0\n",
    "    for s in range(S):\n",
    "        proposal = np.random.normal(current, sigma_sq**2)\n",
    "        U = np.random.uniform(0, 1)\n",
    "        if U < np.min((1, target(proposal) / target(current))):\n",
    "            samples.append(proposal)\n",
    "            current = proposal\n",
    "            accepts += 1\n",
    "        else:\n",
    "            samples.append(current)\n",
    "    return samples, accepts * 1. / S\n",
    "\n",
    "#visualize target distribution and samples\n",
    "def plot_samples(ax, target, samples, title):\n",
    "    x = np.linspace(-5, 25, 100)\n",
    "    ax.plot(x, target(x), color='black', alpha=0.9, label='target distribution')\n",
    "    ax.hist(samples, density=True, bins=50, color='red', alpha=0.5, label='all samples')\n",
    "    ax.set_title(title)\n",
    "    ax.legend(loc='best')\n",
    "    return ax"
   ]
  },
  {
   "cell_type": "markdown",
   "metadata": {},
   "source": [
    "2.  Implement and run a Metropolis-Hastings-in-Gibbs sampler for the kidney cancer model.\n",
    "\n",
    "  We suggest the following settings for your MH-in-Gibbs sampler, but please feel free to use your own:\n",
    "  \n",
    "  - Gibbs sweeps: 100,000\n",
    "  - $a = 9, b = 6, c = 9, d = 0.00001$\n",
    "  - Starting points: $\\alpha_0 = 1.54517349188, \\beta_0 = 133514.171939$\n",
    "  - proposal distribution: $\\mathcal{N}\\left([\\alpha, \\beta], \\left[\\begin{array}{cc} 0.1 & 0 \\\\ 0 & 1000\\end{array}\\right]\\right)$\n",
    "  - burn in: 10%\n",
    "  - thinning: 10<br><br>"
   ]
  },
  {
   "cell_type": "code",
   "execution_count": 14,
   "metadata": {},
   "outputs": [
    {
     "name": "stderr",
     "output_type": "stream",
     "text": [
      "C:\\ProgramData\\Anaconda3\\lib\\site-packages\\numpy\\lib\\histograms.py:908: RuntimeWarning: invalid value encountered in true_divide\n",
      "  return n/db/n.sum(), bin_edges\n"
     ]
    },
    {
     "data": {
      "image/png": "[encoded data removed]",
      "text/plain": [
       "<Figure size 1440x360 with 2 Axes>"
      ]
     },
     "metadata": {
      "needs_background": "light"
     },
     "output_type": "display_data"
    }
   ],
   "source": [
    "sigma_sqs = [1, 1]\n",
    "mus = [1.54517349188, 133514.171939]\n",
    "pis = [0.5, 0.5]\n",
    "target = lambda x: pis[0] * sp.stats.norm(mus[0], sigma_sqs[0]**0.5).pdf(x) + pis[1]\n",
    "\n",
    "#total number of samples\n",
    "S = 100\n",
    "#initialization of the MH sampler\n",
    "init = 1.54517349188\n",
    "#amount of samples to throw out\n",
    "burn_in = 0.1*S\n",
    "#keep every n samples\n",
    "thinning = 10\n",
    "#sample from the MH sampler\n",
    "samples, accepts = MH_sampler(S, target, init)\n",
    "\n",
    "fig, ax = plt.subplots(1, 2, figsize=(20, 5))\n",
    "ax[0] = plot_samples(ax[0], target, samples, 'all samples, S={}, init={}'.format(S, init))\n",
    "ax[1] = plot_samples(ax[1], target, samples[200:], 'target distribution vs samples after {} burn-in, S={}, init={}'.format(burn_in, S, init))\n",
    "plt.show()"
   ]
  },
  {
   "cell_type": "markdown",
   "metadata": {},
   "source": [
    "3. Check for and discuss the convergence of your sampler. If you think your sampler has converged, explain why. If you believe your sampler has not converged, explain what next steps you might take to determine which design choices were problemmatic.\n",
    "  \n",
    "  **Important Disclaimer:** Convergence in a untweaked sampler may be unlikely after only 100,000 Gibbs sweeps. We are not asking you in this homework to achieve convergence, but you must demonstrate that you know how to perform diagnostics on your sampler.<br><br>\n",
    "  \n",
    "  \n",
    "  ***My Answer Attempt.***\n",
    "  \n",
    "  To check for convergence:\n",
    "  \n",
    "  1. Large segments of the sequence of samples (chain) give similar mean, variance, and other statistics.\n",
    "  2. Low correlation\n",
    "  3. High acceptance rate of proposed steps\n",
    "  4. Multiple chains initialized\n",
    "  \n",
    "  Since I was unable to get my code functional, I was unable to view the chains initialized by my sampler."
   ]
  },
  {
   "cell_type": "markdown",
   "metadata": {},
   "source": [
    "**Optional not Required:** Tweak the settings in your sampler (e.g. number of sweeps) in order to achieve reasonable confidence that your sampler has converged. Reconsider also other design choices like, do you need to sample $\\alpha$ and $\\beta$ jointly?<br><br>\n",
    "\n",
    "**Extra Credit:** Prove the correctness of Metropolis-Hastings-in-Gibbs sampler. You need to state the definition of the correctness of an MCMC sampler and prove that Metropolis-Hastings-in-Gibbs sampler satisfy these properties."
   ]
  },
  {
   "cell_type": "code",
   "execution_count": null,
   "metadata": {},
   "outputs": [],
   "source": []
  }
 ],
 "metadata": {
  "anaconda-cloud": {},
  "kernelspec": {
   "display_name": "Python 3",
   "language": "python",
   "name": "python3"
  },
  "language_info": {
   "codemirror_mode": {
    "name": "ipython",
    "version": 3
   },
   "file_extension": ".py",
   "mimetype": "text/x-python",
   "name": "python",
   "nbconvert_exporter": "python",
   "pygments_lexer": "ipython3",
   "version": "3.8.3"
  }
 },
 "nbformat": 4,
 "nbformat_minor": 1
}
