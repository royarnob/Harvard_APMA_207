{
 "cells": [
  {
   "cell_type": "markdown",
   "metadata": {},
   "source": [
    "# Homework #0 (Due 09/10/2020, 11:59pm)\n",
    "## Review of Stastistical Modeling and Scientific Computing\n",
    "\n",
    "**AM 207: Advanced Scientific Computing**<br>\n",
    "**Instructor: Weiwei Pan**<br>\n",
    "**Fall 2020**"
   ]
  },
  {
   "cell_type": "markdown",
   "metadata": {},
   "source": [
    "**Name:** Arnob Roy"
   ]
  },
  {
   "cell_type": "markdown",
   "metadata": {},
   "source": [
    "### Instructions:\n",
    "\n",
    "**Submission Format:** Use this notebook as a template to complete your homework. Please intersperse text blocks (using Markdown cells) amongst `python` code and results -- format your submission for maximum readability. Your assignments will be graded for correctness as well as clarity of exposition and presentation -- a “right” answer by itself without an explanation or is presented with a difficult to follow format will receive no credit.\n",
    "\n",
    "**Code Check:** Before submitting, you must do a \"Restart and Run All\" under \"Kernel\" in the Jupyter or colab menu. ***Portions of your submission that contains syntactic or run-time errors will not be graded***.\n",
    "\n",
    "**Libraries and packages:** Unless a problems specifically asks you to implement from scratch, you are welcomed to use any `python` library package in the standard Anaconda distribution."
   ]
  },
  {
   "cell_type": "code",
   "execution_count": 1,
   "metadata": {},
   "outputs": [],
   "source": [
    "### Import basic libraries\n",
    "import numpy as np\n",
    "import pandas as pd\n",
    "import sklearn as sk\n",
    "from sklearn.linear_model import LinearRegression\n",
    "import matplotlib.pyplot as plt\n",
    "%matplotlib inline"
   ]
  },
  {
   "cell_type": "markdown",
   "metadata": {},
   "source": [
    "## Part I: Maximum Likelihood Estimators for Linear Regression\n",
    "### (Material covered in CS109A or equivalent)\n",
    "In this problem, you are given a dataset with a single predictor $X$ and a single outcome $y$, and your task is to fit a linear model to the data. The dataset is saved as `HW0_data.csv` in CSV (Comma Separated Values) format and can be read using the `.read_csv()` function from the `pandas` library.\n",
    "\n",
    "Assume that the outcome $y$ can be modeled by the following process:\n",
    "\\begin{aligned}\n",
    "y &= f(x) + \\epsilon = w_1x + w_0 + \\epsilon, \\quad \\epsilon \\sim \\mathcal{N}(0, 0.5)\n",
    "\\end{aligned}\n",
    "where $w_1$ and $w_0$, the *parameters* of the function $f$, are unknown constants. \n",
    "\n",
    "1. **(Model Building)** Write the analytical expression for the likelihood function $p(y|x, w_1, w_0)$, for a single observation $(x, y)$. Write the analytical expression for the likelihood function $\\prod_{n=1}^N p(y_n|x_n, w_1, w_0)$ for an entire dataset of $N$ number of observations. \n",
    "\n",
    "  *Hint: for a given $x$ and fixed parameters, what is the distribution of $y$?*\n",
    "  \n",
    "***My Answer.*** Based on my understanding, here we have a linear regression model with random variable $\\epsilon \\sim \\mathcal{N}(0,0.5)$ which represents noise. \n",
    "\n",
    "$$\n",
    "y = w_1x + w_0 + \\epsilon,\\ \\epsilon \\sim \\mathcal{N}(\\epsilon | 0, \\sigma^2)\\longrightarrow \\mu = 0,\\ \\sigma^2 = 0.5\n",
    "$$\n",
    "\n",
    "**Single Observation, i.e. $(x,y)$:**\n",
    "\\\n",
    "Based on page 4 (Adams), the distribution of $y$ given fixed parameters $x, w_1, w_0, \\sigma^2):$\n",
    "\n",
    "$$\n",
    "\\mathbb{P}(y|x, w_1, w_0, \\sigma^2)=\\dfrac{1}{\\sigma\\sqrt(2\\pi)}\\exp\\{-\\dfrac{1}{2\\sigma^2}(y-(w_1x+w_0))^2\\}\n",
    "$$\n",
    "\n",
    "**The entire dataset, i.e.  $\\{y_n\\}^N_{n=1}$:**\n",
    "\\\n",
    "The conditional distribution for all of the data points $\\{y_n\\}^N_{n=1}$ is the represented by the multiplicative function (Page 4, Adams):\n",
    "\n",
    "$$\n",
    "\\mathbb{P}(\\{y_n\\}^N_{n=1} | \\{x_n\\}^N_{n=1}, w_1, w_0, \\sigma^2)= \\prod_{n=1}^N \\dfrac{1}{\\sigma\\sqrt{2\\pi}}\\exp\\{-\\dfrac{1}{2\\sigma ^2} (y_n-(w_1x_n+w_0))^2\\}\n",
    "$$\n",
    "\n",
    "I am assuming that I have to \"derive\" or do the analytical computation using multivariable calculus, where I find the values of the fixed parameters that maximize this likelihood function in part (3) of this problem. I do know think there is any Python code requierd for this part of the problem. ATTN Grader: If possible, please leave a comment on my interpretation of the homework problem so I may improve my next homework.\n"
   ]
  },
  {
   "cell_type": "markdown",
   "metadata": {},
   "source": [
    "2. **(Defining a Learning Objective)** The Maximum Likelihood Estimators (MLE) of $w_1$ and $w_0$ are defined as\n",
    "\\begin{aligned}\n",
    "w^{\\text{MLE}}_1, w^{\\text{MLE}}_0 = \\underset{w_1, w_0}{\\mathrm{argmax}}\\; \\prod_{n=1}^N p(y_n|x_n, w_1, w_0)\n",
    "\\end{aligned}\n",
    "Show that finding $w_1$ and $w_0$ that maximizes the likelihood is equivalent to finding parameters that minimize the Mean Squared Error (MSE) of your model.<br><br>\n",
    "*Hint: show that maximizing the log likelihood is equivalent to minimizing the MSE.*\n",
    "\n",
    "***My Answer.*** I want to show that, as I minimize the mean squared error (MSE) and maximize the likelihood (MLE), I arrive at the same destination; i.e. they are equivalent after I take the derivatives and find critical points.\n",
    "\n",
    "First I find log likelihood since it is easier to work with:\n",
    "\n",
    "$$\n",
    "\\mathbb{P}(\\{y_n\\}^N_{n=1} | \\{x_n\\}^N_{n=1}, w_1, w_0, \\sigma^2)= \\prod_{n=1}^N \\dfrac{1}{\\sigma\\sqrt{2\\pi}}\\exp\\{-\\dfrac{1}{2\\sigma ^2} (y_n-(w_1x_n+w_0))^2\\}\n",
    "$$\n",
    "\n",
    "$$\n",
    "\\longrightarrow \\log \\mathbb{P}(\\{y_n\\}^N_{n=1} | \\{x_n\\}^N_{n=1}, w_1, w_0, \\sigma^2)= \\log( \\prod_{n=1}^N \\dfrac{1}{\\sigma\\sqrt{2\\pi}}\\exp\\{-\\dfrac{1}{2\\sigma ^2} (y_n-(w_1x_n+w_0))^2\\})\n",
    "$$\n",
    "\n",
    "From Lecture 1 Video:\n",
    "\n",
    "$$\n",
    "\\longrightarrow \\log \\mathbb{P}(\\{y_n\\}^N_{n=1} | \\{x_n\\}^N_{n=1}, w_1, w_0, \\sigma^2)= N \\log(\\dfrac{1}{\\sigma\\sqrt{2\\pi}})-(\\dfrac{1}{2\\sigma ^2} \\sum^N_{i=1} (y_n-(w_1x_n+w_0))^2)\n",
    "$$\n",
    "\n",
    "Finally, I consider that: $ \\epsilon \\sim \\mathcal{N}(\\epsilon | 0, \\sigma^2)\\longrightarrow \\mu = 0,\\ \\sigma^2 = 0.5$\n",
    "\n",
    "$$\n",
    "\\longrightarrow \\log \\mathbb{P}(\\{y_n\\}^N_{n=1} | \\{x_n\\}^N_{n=1}, w_1, w_0, \\sigma^2)= N \\log(\\dfrac{1}{\\sqrt{0.5}\\sqrt{2\\pi}})-(\\dfrac{1}{2\\ (0.5)} \\sum^N_{i=1} (y_n-(w_1x_n+w_0))^2)\n",
    "$$\n",
    "\n",
    "Consider maximizing log likelihood:\n",
    "\n",
    "$$\n",
    "\\longrightarrow \\arg\\max \\log \\mathbb{P}(\\{y_n\\}^N_{n=1} | \\{x_n\\}^N_{n=1}, w_1, w_0, \\sigma^2)= \\arg\\max N \\log(\\dfrac{1}{\\sqrt{0.5}\\sqrt{2\\pi}})-(\\dfrac{1}{2\\ (0.5)} \\sum^N_{i=1} (y_n-(w_1x_n+w_0))^2)\n",
    "$$\n",
    "\n",
    "$$\n",
    "\\longrightarrow \\arg\\max \\log \\mathbb{P}(\\{y_n\\}^N_{n=1} | \\{x_n\\}^N_{n=1}, w_1, w_0, \\sigma^2)= \\arg\\max N \\log(\\dfrac{1}{\\sqrt{0.5}\\sqrt{2\\pi}})-(\\dfrac{1}{1} \\sum^N_{i=1} (y_n-(w_1x_n+w_0))^2)\n",
    "$$\n",
    "\\\n",
    "Now I'll attempt to minimize the mean square error (MSE):\n",
    "\n",
    "$$\n",
    "\\arg\\min\\frac{1}{N}\\sum_{n=1}^N |y_n - \\hat{y}_n|^2 \\longrightarrow \\arg\\min\\frac{1}{N}\\sum_{n=1}^N |y_n - (w_1x_n+w_0)|^2\n",
    "$$\n",
    "\n",
    "Now let's see if these two methods of decribing our model are equivalent:\n",
    "\n",
    "Since the constant is not reflected in the derivative, it follows:\n",
    "\n",
    "$$\n",
    "\\arg\\max \\log \\mathbb{P}(\\{y_n\\}^N_{n=1} | \\{x_n\\}^N_{n=1}, w_1, w_0, \\sigma^2) \\longrightarrow \\arg\\max \\sum^N_{i=1} (y_n-(w_1x_n+w_0))^2)\n",
    "$$\n",
    "\n",
    "and\n",
    "\n",
    "$$\n",
    "\\arg\\min\\frac{1}{N}\\sum_{n=1}^N |y_n - (w_1x_n+w_0)|^2 \\longrightarrow \\arg\\min\\sum_{n=1}^N (y_n - (w_1x_n+w_0))^2 \n",
    "$$\n",
    "\n",
    "Therefore,\n",
    "\n",
    "$$\n",
    "\\arg\\max \\sum^N_{i=1} (y_n-(w_1x_n+w_0))^2) \\equiv \\arg\\min\\sum_{n=1}^N (y_n - (w_1x_n+w_0))^2 \n",
    "$$\n",
    "\n",
    "and\n",
    "\n",
    "$$\n",
    "\\longrightarrow \\arg\\max \\log \\mathbb{P}(\\{y_n\\}^N_{n=1} | \\{x_n\\}^N_{n=1}, w_1, w_0, \\sigma^2) \\equiv \\arg\\min\\frac{1}{N}\\sum_{n=1}^N |y_n - \\hat{y}_n|^2 \n",
    "$$\n",
    "\n",
    "which states that maximizing the log likelihood is equivalent to minimizing the mean squared error."
   ]
  },
  {
   "cell_type": "markdown",
   "metadata": {},
   "source": [
    "3. **(Model Fitting)** Analytically derive the formulae for MLE of $w_1$ and $w_0$. Describe what information you would need in order ***prove*** that the parameters you derived maximizes the likelihood (or minimizes the MSE)?\n",
    "\n",
    "  **Optional but Useful:** express your derivation of the MLE in matrix notation (i.e. [perform matrix calculus](https://www.math.uwaterloo.ca/~hwolkowi/matrixcookbook.pdf)).\n",
    "\n",
    "  *Hint: this part requires multivariate calculus.*\n",
    "  \n",
    "***My Answer.*** Based on Adams' paper, I will attempt to find $w_1^{MLE}$ and $w_0^{MLE}$.\n",
    "\n",
    "We are given the model,\n",
    "\n",
    "$$\n",
    "y=f(x) + \\epsilon,\\ \\epsilon\\sim\\mathcal{N}(0, 0.5)\n",
    "$$\n",
    "\n",
    "I recall that $y$ is a Gaussian random variable since its noise factor $\\epsilon$ is normally distributed, and thus we can write out the conditional distribution in the form of the likelihood function as:\n",
    "\n",
    "$$\n",
    "\\mathbb{P}(\\{y_n\\}^N_{n=1} | \\{x_n\\}^N_{n=1}, w_1, w_0, \\sigma^2)= \\prod_{n=1}^N \\dfrac{1}{\\sigma\\sqrt{2\\pi}}\\exp\\{-\\dfrac{1}{2\\sigma ^2} (y_n-(w_1x_n+w_0))^2\\}\n",
    "$$\n",
    "\n",
    "Let's consider log likelihood:\n",
    "\n",
    "$$\n",
    "\\longrightarrow \\log \\mathbb{P}(\\{y_n\\}^N_{n=1} | \\{x_n\\}^N_{n=1}, w_1, w_0, \\sigma^2)= \\log( \\prod_{n=1}^N \\dfrac{1}{\\sigma\\sqrt{2\\pi}}\\exp\\{-\\dfrac{1}{2\\sigma ^2} (y_n-(w_1x_n+w_0))^2\\})\n",
    "$$\n",
    "\n",
    "Simiplifying, similarly from the previous part of the problem:\n",
    "\n",
    "$$\n",
    "\\longrightarrow \\log \\mathbb{P}(\\{y_n\\}^N_{n=1} | \\{x_n\\}^N_{n=1}, w_1, w_0, \\sigma^2)= N \\log(\\dfrac{1}{\\sqrt{0.5}\\sqrt{2\\pi}})-(\\dfrac{1}{2\\ (0.5)} \\sum^N_{i=1} (y_n-(w_1x_n+w_0))^2)\n",
    "$$\n",
    "\n",
    "We are interested in the derivative, and with some simplifying:\n",
    "\n",
    "$$\n",
    "\\longrightarrow \\arg \\max \\log \\mathbb{P}(\\{y_n\\}^N_{n=1} | \\{x_n\\}^N_{n=1}, w_1, w_0, \\sigma^2)= \\arg\\max  N \\log(\\dfrac{1}{\\sqrt{\\pi}})-\\sum^N_{i=1} (y_n-(w_1x_n+w_0))^2\n",
    "$$\n",
    "\n",
    "Finding $w_1^{MLE}$ and $w_0^{MLE}$:\n",
    "\n",
    "$$\n",
    "\\longrightarrow \\arg\\max _{w_0} N \\log(\\dfrac{1}{\\sqrt{\\pi}})-\\sum^N_{i=1} (y_n-(w_1x_n+w_0))^2\n",
    "$$\n",
    "\n",
    "$$\n",
    "\\longrightarrow \\arg\\max _{w_1} N \\log(\\dfrac{1}{\\sqrt{\\pi}})-\\sum^N_{i=1} (y_n-(w_1x_n+w_0))^2\n",
    "$$\n",
    "\n",
    "Since the first term is a \"constant\":\n",
    "\n",
    "$$\n",
    "\\longrightarrow \\arg\\max _{w_0} \\{-\\sum^N_{i=1} (y_n-(w_1x_n+w_0))^2\\}\n",
    "$$\n",
    "\n",
    "$$\n",
    "\\longrightarrow \\arg\\max _{w_1} \\{-\\sum^N_{i=1} (y_n-(w_1x_n+w_0))^2\\}\n",
    "$$\n",
    "\n",
    "Set each derivative to 0 to find the critical points:\n",
    "\n",
    "$$\n",
    "\\longrightarrow {w_0}^{MLE}=\\arg\\max _{w_0} \\{-\\sum^N_{i=1} (y_n-(w_1x_n+w_0))^2\\}\n",
    "$$\n",
    "\n",
    "$$\n",
    "\\longrightarrow {w_1}^{MLE}=\\arg\\max _{w_1} \\{-\\sum^N_{i=1} (y_n-(w_1x_n+w_0))^2\\}\n",
    "$$\n",
    "\n",
    "From these two statements after attempting to find $w_1^{MLE}$ and $w_0^{MLE},$ I would assume that we would need to know how many samples $N$ are being taken, and the set of training data $\\{y_n\\}^{N}_{n=1}, \\{x_n\\}^{N}_{n=1}.$"
   ]
  },
  {
   "cell_type": "markdown",
   "metadata": {},
   "source": [
    "4. **(Model Evaluation)** Using the `LinearRegression` class from `sklearn.linear_model`, fit a linear regression model to the dataset in `HW0_data.csv`. When you call the `.fit()` function of `LinearRegression`, the default is to find parameters that minimize MSE.\n",
    "\n",
    "  Visualize the linear function you fitted as well as the data in one plot. \n",
    "  Visualize a histogram of the residuals.\n",
    "  Using both plots, argue for whether or not your model is appropriate for the data.\n",
    "  \n",
    "  *Hint: look at the assumptions you've made in your modeling process, which assumptions are supported by the data, which are contradicted by the data?*"
   ]
  },
  {
   "cell_type": "code",
   "execution_count": 2,
   "metadata": {},
   "outputs": [
    {
     "data": {
      "image/png": "[encoded data removed]",
      "text/plain": [
       "<Figure size 720x360 with 1 Axes>"
      ]
     },
     "metadata": {
      "needs_background": "light"
     },
     "output_type": "display_data"
    }
   ],
   "source": [
    "#Import Data\n",
    "hw0_data = pd.read_csv('HW0_data.csv')\n",
    "data_x = hw0_data[\"x\"]\n",
    "data_y = hw0_data[\"y\"]\n",
    "\n",
    "#Linear Regression and Scatter Plot based on In-Class Exercise 1\n",
    "regression = LinearRegression()\n",
    "\n",
    "regression.fit(data_x.values.reshape(-1,1), data_y.values.reshape(-1,1))\n",
    "\n",
    "ypredict = regression.predict(data_x.values.reshape(-1,1))\n",
    "\n",
    "slope_mle = np.round(regression.coef_[0][0], 2)\n",
    "\n",
    "intercept_mle = np.round(regression.intercept_[0], 2)\n",
    "\n",
    "fig, ax = plt.subplots(1, 1, figsize=(10, 5))\n",
    "\n",
    "ax.scatter(data_x, data_y, label='HW0_data.csv')\n",
    "\n",
    "ax.plot(data_x, ypredict, 'r', label='MLE Model: y = {}x + {}'.format(slope_mle, intercept_mle))\n",
    "\n",
    "ax.set_title('Visualization of the MLE model and HW 0 Data')\n",
    "\n",
    "ax.legend(loc='best')\n",
    "\n",
    "plt.show()\n"
   ]
  },
  {
   "cell_type": "code",
   "execution_count": 3,
   "metadata": {},
   "outputs": [
    {
     "name": "stdout",
     "output_type": "stream",
     "text": [
      "MSE on training data is: 152.2011359836698\n"
     ]
    },
    {
     "data": {
      "image/png": "[encoded data removed]",
      "text/plain": [
       "<Figure size 720x360 with 1 Axes>"
      ]
     },
     "metadata": {
      "needs_background": "light"
     },
     "output_type": "display_data"
    }
   ],
   "source": [
    "# Based on In-Class Exercise 1\n",
    "from sklearn.metrics import mean_squared_error\n",
    "\n",
    "training_mse = mean_squared_error(data_y.values.reshape(-1,1), ypredict)\n",
    "\n",
    "print('MSE on training data is: {}'.format(training_mse))\n",
    "\n",
    "# Compute residuals\n",
    "residuals = data_y.values.reshape(-1,1) - ypredict\n",
    "\n",
    "# Visualize residuals\n",
    "fig, ax = plt.subplots(1, 1, figsize=(10, 5)) # make a figure with one row and one column of size 10x5\n",
    "\n",
    "ax.hist(residuals, bins=30)\n",
    "\n",
    "ax.set_title('Histogram of Residuals on HW 0 Data')\n",
    "\n",
    "plt.show()"
   ]
  },
  {
   "cell_type": "markdown",
   "metadata": {},
   "source": [
    "***Note.*** I learned about the np.subtract() for NumPy at https://www.geeksforgeeks.org/numpy-subtract-in-python/. I am new to Python as I have only have completed an introductory class in Python back in my undergraduate career and have not used Python since. I am much more familiar with R, and aspects of this course are expressed in R in some notes, so I look forward to using my experience in R to learn Python for data science. This is also a reason why the first homework assignment took me much more time then expected on top of my everyday responsibilities. I will work hard to master concepts in Python for my upcoming assignments.\n",
    "\n",
    "***My Answer.***\n",
    "From the scatter plot, observations where $x<-5$ do not fit the model nicely, as well as values $x>5$. I would propose that we consider a \"quadratic\" model instead of a \"linear\" one, simply based on observing the scatter plot.\n",
    "\n",
    "Furthermore, I am not sure if the residuals are Gaussian and are independently, identically distributed ***(iid)*** simply based on observing the histogram. While it does seem as tho there are some \"outlier\" observations (e.g. that residual near -50), the curve of the histogram is not at all obviously Gaussian. Thus, I cannot verify that our assumption $\\epsilon \\sim \\mathcal{N}(0, 0.5)$ holds.\n"
   ]
  },
  {
   "cell_type": "markdown",
   "metadata": {},
   "source": [
    "5. **(Uncertainty Quantification)** Compute the 95% [Confidence Interval (CI)](https://stattrek.com/estimation/confidence-interval.aspx) of the parameters you estimated for the dataset in `HW0_data.csv` by bootstrapping (this requires you to access the model parameters of the `LinearRegression` class). How confident are you in the 'correctness' or 'reliability' of your parameter estimates given the CI's?\n",
    "\n",
    "  Compute the [Predictive Interval (PI)](https://otexts.com/fpp2/prediction-intervals.html) of a single prediction at $x=2$ by bootstrapping. How confident are you in your prediction for $x=2$ given the PI?\n",
    "  \n",
    "  *Hint: bootstrapping is the process of (1) generating multiple datasets (with equal size as the training data) that are similarly distributed as your training data by sampling your data with replacement, (2) estimating a quantity of interest repeatedly using these datasets. You can then empirically compute the percentile of interest from the bootstrap estimates of your quanity of interest.* \n",
    "  \n",
    "  *Generating samples from your training data can be done using the `.sample()` function of the `pandas` `DataFrame` class.*\n",
    "  \n",
    "  *Computing percentiles of samples can be done using the `.percentile()` function of the `numpy` library.*"
   ]
  },
  {
   "cell_type": "code",
   "execution_count": 4,
   "metadata": {},
   "outputs": [
    {
     "name": "stdout",
     "output_type": "stream",
     "text": [
      "[[5.21630524]]\n",
      "[8.86340019]\n",
      "11.553587334890086\n",
      "6.182012665109912\n",
      "6.124604506630556\n",
      "4.380595493369444\n",
      "[20.27, 20.7, 19.770000000000003, 20.32, 17.88, 20.380000000000003, 21.43, 19.939999999999998, 19.36, 17.62, 21.09, 17.43, 20.810000000000002, 19.04, 17.509999999999998, 19.950000000000003, 20.67, 19.45, 20.08, 21.26, 20.22, 19.93, 18.37, 17.43, 17.63, 20.2, 17.759999999999998, 17.85, 20.630000000000003, 19.15, 18.330000000000002, 20.26, 20.53, 17.78, 18.78, 19.18, 16.86, 21.66, 19.32, 20.880000000000003, 19.14, 21.15, 18.58, 21.75, 17.44, 20.950000000000003, 18.09, 19.4, 19.35, 20.740000000000002, 18.7, 18.33, 18.45, 18.48, 18.42, 17.310000000000002, 15.760000000000002, 16.81, 17.8, 18.98, 19.009999999999998, 18.97, 19.450000000000003, 19.200000000000003, 19.44, 20.39, 20.62, 18.21, 19.509999999999998, 17.130000000000003, 20.87, 19.05, 21.09, 19.119999999999997, 18.88, 18.740000000000002, 21.619999999999997, 20.92, 19.47, 21.79, 17.26, 19.21, 18.07, 19.17, 20.5, 19.64, 20.54, 19.53, 18.53, 20.43, 19.47, 16.69, 18.759999999999998, 20.48, 19.299999999999997, 19.14, 19.58, 20.47, 18.869999999999997, 20.14, 20.049999999999997, 20.28, 20.16, 20.21, 17.490000000000002, 18.57, 20.48, 19.86, 18.51, 20.549999999999997, 22.02, 18.509999999999998, 19.66, 18.35, 19.4, 20.240000000000002, 19.619999999999997, 20.11, 18.740000000000002, 17.05, 19.14, 19.64, 21.28, 19.14, 18.4, 20.380000000000003, 20.11, 16.58, 18.34, 19.91, 20.89, 20.22, 19.06, 20.43, 19.69, 18.4, 17.009999999999998, 21.71, 18.54, 20.2, 20.96, 19.02, 17.48, 18.77, 19.75, 20.119999999999997, 18.13, 17.21, 20.259999999999998, 18.56, 19.87, 20.71, 19.689999999999998, 16.45, 18.47, 21.270000000000003, 19.96, 18.86, 19.94, 21.14, 19.66, 20.59, 19.11, 20.85, 18.92, 20.75, 17.09, 21.67, 19.09, 18.560000000000002, 17.88, 17.75, 17.34, 17.69, 19.439999999999998, 18.979999999999997, 20.159999999999997, 18.77, 18.71, 19.33, 19.869999999999997, 21.32, 20.79, 20.25, 21.58, 17.310000000000002, 19.07, 18.96, 18.89, 19.22, 19.7, 21.96, 16.55, 20.3, 19.79, 19.270000000000003, 21.240000000000002, 18.26, 20.53, 19.25]\n",
      "21.671\n",
      "16.807\n",
      "19.373\n"
     ]
    }
   ],
   "source": [
    "#First I look for my coefficients w_1 and intercept w_0\n",
    "\n",
    "print(regression.coef_)\n",
    "print(regression.intercept_)\n",
    "\n",
    "#Confidence Interval of w_1\n",
    "regression.coef_ + (1.96)\n",
    "\n",
    "#Test 1\n",
    "dataframe1 = pd.DataFrame(data = hw0_data)\n",
    "\n",
    "i=0\n",
    "samples = 200\n",
    "newreg = LinearRegression()\n",
    "newcoef = []\n",
    "newinter = []\n",
    "newpp = []\n",
    "\n",
    "while i < samples:\n",
    "    newdf = dataframe1.sample(n=100, replace = \"TRUE\")\n",
    "    new_x = newdf[\"x\"]\n",
    "    new_y = newdf[\"y\"]\n",
    "    newreg.fit(new_x.values.reshape(-1,1), new_y.values.reshape(-1,1))\n",
    "    newcoef.append(np.round(newreg.coef_[0][0], 2))\n",
    "    newinter.append(np.round(newreg.intercept_[0], 2))\n",
    "    newpp.append((np.round(newreg.coef_[0][0], 2)*2)+np.round(newreg.intercept_[0], 2))\n",
    "    i += 1\n",
    "\n",
    "#Confidence Interval of the Bootstrapped Intercept w_0\n",
    "print(np.mean(newinter)+((1.96)*np.std(newinter)))\n",
    "print(np.mean(newinter)-((1.96)*np.std(newinter)))\n",
    "\n",
    "#Confidence Interval of the Bootstrapped Coefficient w_1\n",
    "print(np.mean(newcoef)+((1.96)*np.std(newcoef)))\n",
    "print(np.mean(newcoef)-((1.96)*np.std(newcoef)))\n",
    "\n",
    "print(newpp)\n",
    "# 97.5 th percentile\n",
    "pp_upper = np.percentile(newpp, 97.5, axis=0)\n",
    "print(pp_upper)\n",
    "\n",
    "# 2.5 th percentile\n",
    "pp_lower = np.percentile(newpp, 2.5, axis=0)\n",
    "print(pp_lower)\n",
    "\n",
    "# 50 th percentile\n",
    "pp_mean = np.mean(newpp, axis=0)\n",
    "print(pp_mean)"
   ]
  },
  {
   "cell_type": "markdown",
   "metadata": {},
   "source": [
    "After attempting to bootstrap (200 samples generated with replacement and 100 data points each) for the coefficient and intercept, my confidence intervals were:\n",
    "\n",
    "$$\n",
    "w_0: (6.23, 11.67)\n",
    "$$\n",
    "$$\n",
    "w_1:(4.36, 6.15)\n",
    "$$\n",
    "\n",
    "Based on the predictive interval of $x=2$, my 2.5th percentile was 16.48975, 50th percentile was 19.4562, and 97.5th percentile was 21.95. These predictions are somewhat close, but do not seem to \"strongly converge\" at some prediction value. E.g. There is a good distance between the 2.5th percentile and the 50th. I would not strongly recommend a predicted value for $x=2$, now that I've bootstrapped the predicted value over 200 randomly generated samples."
   ]
  },
  {
   "cell_type": "markdown",
   "metadata": {},
   "source": [
    "## Part II: Bayesian Linear Regression\n",
    "### (Material covered in CS109 B or equivalent)\n",
    "In this problem, your task is to perform Bayesian linear regression on the dataset in `HW0_data.csv`.\n",
    "\n",
    "Assume that the outcome $y$ can be modeled by the following process:\n",
    "\\begin{aligned}\n",
    "y &= f(x) + \\epsilon = w_1x + w_0 + \\epsilon, \\quad \\epsilon \\sim \\mathcal{N}(0, 0.5)\\\\\n",
    "w_0 &\\sim \\mathcal{N}(0, 1)\\\\\n",
    "w_1 &\\sim \\mathcal{N}(0, 0.5)\n",
    "\\end{aligned}\n",
    "In this model, we assume the same likelihood as in Part I, but we also include priors for $w_0$ and $w_1$: $p(w_0) = \\mathcal{N}(0, 1)$, $p(w_1) = \\mathcal{N}(0, 0.5)$"
   ]
  },
  {
   "cell_type": "markdown",
   "metadata": {},
   "source": [
    "1. **(Inference)** Analytically derive the joint posterior distribution over the parameters. That is, analytically compute<br><br>\n",
    "\\begin{aligned}\n",
    "p(w_1, w_0 | y_1, \\ldots y_n, x_1, \\ldots, x_n) = \\frac{\\left(\\prod_{n=1}^Np(y_n|x_n, w_1, w_0)\\right)p(w_1)p(w_0)}{\\prod_{n=1}^Np(y_n|x_n)}.\\\\\n",
    "\\end{aligned}\n",
    "<br>*Hint: The posterior of a model with a Gaussian (or normal) likelihood and Gaussian priors is yet again Gaussian. This derivation is included in many machine learning textbooks like Machine Learning: a Probabilistic Perspective by Murphy or Pattern Recognition and Machine Learning by Bishop. This derivation also appears online in many course notes - you are welcomed to use any and all available resources.*"
   ]
  },
  {
   "cell_type": "markdown",
   "metadata": {},
   "source": [
    "I was unable to find a source to use for the full derivation. The only source I was able to look at was from ScienceDirect: https://www.sciencedirect.com/topics/mathematics/joint-posterior-distribution#:~:text=The%20joint%20posterior%20distribution%20for%20the%20parameters%20and,normalizing%20constant%20referred%20to%20as%20the%20marginal%20likelihood.\n",
    "\n",
    "I do not have a copy of book by Murphy or Bishop at the moment."
   ]
  },
  {
   "cell_type": "markdown",
   "metadata": {},
   "source": [
    "2. **(Model Interpretation)** Visualize the ***joint posterior*** over the parameters, $p(w_1, w_0 | y, x)$ for the dataset in `HW0_data.csv` (you may use a scatter plot of samples drawn from the posterior or a contour map/heat map of the pdf). In separate plots, visualize the ***marginal posterior*** distribution over each parameter,\n",
    "\\begin{aligned}\n",
    "p(w_1 | y_1, \\ldots y_n, x_1, \\ldots, x_n) &= \\int_{w_0} p(w_1, w_0 | y_1, \\ldots y_n, x_1, \\ldots, x_n) dw_0\\\\\n",
    "p(w_0 | y_1, \\ldots y_n, x_1, \\ldots, x_n) &= \\int_{w_0} p(w_1, w_0 | y_1, \\ldots y_n, x_1, \\ldots, x_n) dw_1\\\\\n",
    "\\end{aligned}\n",
    "Is the information contained in the joint posterior $p(w_1, w_0 | y_1, \\ldots y_n, x_1, \\ldots, x_n)$ equivalent to the information contained in the two marginals $p(w_1 | y_1, \\ldots y_n, x_1, \\ldots, x_n), p(w_0 | y_1, \\ldots y_n, x_1, \\ldots, x_n)$? That is, what does each distribution tell you?\n",
    "\n",
    "  *Hint: it is not necessary to analytically derive the marginals $p(w_i | y_1, \\ldots y_n, x_1, \\ldots, x_n)$. Recall that you can perform marginalization of a variable by sampling from the joint distribution and disregarding that variable.*"
   ]
  },
  {
   "cell_type": "code",
   "execution_count": null,
   "metadata": {},
   "outputs": [],
   "source": [
    "# Credit: Ali, Inglis, Prado, Wundervald\n",
    "\n",
    "# Bayesian Linear Regression Model Applied to Bike Sharing Data\n",
    "# Import packages to be used\n",
    "import numpy as np # Basic package\n",
    "import pandas as pd # Basic package\n",
    "import os # For working directory\n",
    "from os import chdir, getcwd\n",
    "import matplotlib.pyplot as plt # Plotting\n",
    "import pymc3 as pm\n",
    "from pymc3 import Model, Normal, Gamma, InverseGamma\n",
    "\n",
    "# Import data into python\n",
    "bike=pd.read_csv('HW0_data.csv')\n",
    "# Build model\n",
    "basic_model=pm.Model()\n",
    "with basic_model:\n",
    "    mu_a=Normal('mu_a',mu=0,sd=10)\n",
    "    mu_1=Normal('mu_1',mu=0,sd=10)\n",
    "    mu_2=Normal('mu_2',mu=0,sd=10)\n",
    "    c=Normal('c',10,10)\n",
    "    d=Normal('d',10,10)\n",
    "    tau=InverseGamma('tau',c,d)\n",
    "    tau_a=Gamma('tau_a',10,10)\n",
    "    tau_1=Gamma('tau_1',10,10)\n",
    "    tau_2=Gamma('tau_2',10,10)\n",
    "    sigma_a=1/tau_a\n",
    "    sigma_1=1/tau_1\n",
    "    sigma_2=1/tau_2\n",
    "    sigma=1/tau\n",
    "    alpha=Normal('alpha',mu=mu_a,sd=sigma_a)\n",
    "    beta_1=Normal('beta_1',mu=mu_1,sd=sigma_1)\n",
    "    beta_2=Normal('beta_2',mu=mu_2,sd=sigma_2)\n",
    "    x_1=bike['x']\n",
    "    mu=beta_1*x_1\n",
    "    Y_obs=Normal('Y_obs',mu=mu,sd=sigma,observed=bike['y'])\n",
    "# No-U-Turn Sampler\n",
    "    with basic_model:\n",
    "        trace=pm.sample(2000)\n",
    "# Trace\n",
    "pm.traceplot(trace)\n",
    "pm.plot_posterior(trace) # Histogram\n",
    "pm.summary(trace)"
   ]
  },
  {
   "attachments": {
    "image.png": {
     "image/png": "[encoded data removed]"
    }
   },
   "cell_type": "markdown",
   "metadata": {},
   "source": [
    "***My Answer.***\n",
    "I attempted to use the Python code from the \"Bayesian Linear Regression\" paper by Ali, Inglis, Pado, and Wundervald; however I am getting a progress bar which is computing each of the values quite slow with a 50 minute processing time. It starts of as \"Auto-assigning NUTS sampler...\" and states \"Sampling 4 chains, 0 divergences\" and is computing out of 12000. A quick look at Windows task manager shows my CPU usage pinned at 70%, however I have not been able to figure out how to get the code to produce the visualizations quickly. Perhaps this code would have ran much better on Google's Colab with their CPUs.\n",
    "\n",
    "Also, I took the sample Python code and changed data provided along with removing the parameter beta_2. UPDATE: I re-attempted the problem and created a scatter plot below.\n",
    "\n",
    "![image.png](attachment:image.png)"
   ]
  },
  {
   "cell_type": "code",
   "execution_count": 33,
   "metadata": {},
   "outputs": [
    {
     "data": {
      "image/png": "[encoded data removed]",
      "text/plain": [
       "<Figure size 720x360 with 1 Axes>"
      ]
     },
     "metadata": {
      "needs_background": "light"
     },
     "output_type": "display_data"
    }
   ],
   "source": [
    "# Attempt 2 using code from In-Class Exercise 1\n",
    "\n",
    "from sklearn.model_selection import train_test_split\n",
    "from sklearn.linear_model import LinearRegression\n",
    "from sklearn.preprocessing import PolynomialFeatures\n",
    "from sklearn.metrics import mean_squared_error\n",
    "\n",
    "def get_posterior_samples(w0_prior_var, w1_prior_var, noise_var, x_matrix, y_matrix, x_test_matrix, samples=100):\n",
    "  ''' Function to generate samples from the posterior and posterior predictive of a Bayesian linear model '''\n",
    "  #define the variances of the normal priors for w_0 and w_1\n",
    "  #note that rather than treating the normal priors for w_0 and w_1 separately,\n",
    "  #we can jointly express this prior as a bivariate normal distribution with a diagonal covariance matrix\n",
    "  prior_variance = np.diag([w0_prior_var, w1_prior_var])\n",
    "  #define the inverse of the prior variance, this is called the precision\n",
    "  prior_precision = np.linalg.inv(prior_variance)\n",
    "\n",
    "  #this 'epsilon' offsett is sometimes needed to ensure numerical stability of the matrix inverse operation\n",
    "  epsilon = 1e-5\n",
    "\n",
    "  #compute the posterior precision matrix\n",
    "  posterior_precision = prior_precision + x_matrix.T.dot(x_matrix) / noise_var\n",
    "  #invert the precision matrix to get the posterior covariance matrix\n",
    "  posterior_variance = np.linalg.inv(posterior_precision + epsilon * np.ones(x_matrix.shape[1])) \n",
    "  #compute hte posterior mean\n",
    "  posterior_mean = posterior_variance.dot(x_matrix.T.dot(y_matrix)) / noise_var\n",
    "\n",
    "  #sampling 100 points from the posterior distribution over w_0 and w_1\n",
    "  posterior_samples = np.random.multivariate_normal(posterior_mean.flatten(), posterior_variance, size=samples)\n",
    "\n",
    "  #take posterior predictive samples\n",
    "  posterior_predictions = np.dot(posterior_samples, x_test_matrix.T) \n",
    "  posterior_predictive_samples = posterior_predictions[np.newaxis, :, :] + np.random.normal(0, noise_var**0.5, size=(100, posterior_predictions.shape[0], posterior_predictions.shape[1]))\n",
    "  posterior_predictive_samples = posterior_predictive_samples.reshape((100 * posterior_predictions.shape[0], posterior_predictions.shape[1]))\n",
    "\n",
    "  return posterior_samples, posterior_predictions, posterior_predictive_samples\n",
    "\n",
    "noise_variance = 0.5\n",
    "\n",
    "w0_prior_var = 1\n",
    "w1_prior_var = 0.5\n",
    "\n",
    "samples = 100\n",
    "\n",
    "poly = PolynomialFeatures(1)\n",
    "x_train_poly = poly.fit_transform(data_x.values.reshape((-1, 1)))\n",
    "\n",
    "\n",
    "posterior_samples, posterior_predictions, posterior_predictive_samples = get_posterior_samples(w0_prior_var, w1_prior_var, noise_variance, x_train_poly, data_y.values.reshape((-1, 1)), x_train_poly, samples)\n",
    "\n",
    "# Visualize the posterior samples\n",
    "fig, ax = plt.subplots(1, 1, figsize=(10, 5))\n",
    "ax.scatter(posterior_samples[:, 0], posterior_samples[:, 1], label='HW0_data')\n",
    "ax.set_title('Samples from the Posterior Distribution over w_0 and w_1')\n",
    "ax.legend(loc='best')\n",
    "ax.set_xlabel('w_0')\n",
    "ax.set_ylabel('w_1')\n",
    "plt.show()\n"
   ]
  },
  {
   "cell_type": "markdown",
   "metadata": {},
   "source": [
    "3. **(Prediction)** In Bayesian linear regression, we obtain a distribution over possible parameters given the data, $p(w_1, w_0 | y_1, \\ldots y_n, x_1, \\ldots, x_n)$, rather than a single ***point-estimate*** of the 'best' parameters. This means that when we predict an outcome for, say, $x=2$ we get a distribution over possible values of $y$ rather than a single $y$. The distribution over the predicted $y$ for a given $x$ is called the ***posterior predictive***, and is denoted $p(y|x)$.\n",
    "\n",
    "  Visualize the posterior predictive $p(y|x)$ at $x=2$ for the dataset in `HW0_data.csv`as a histogram. \n",
    "\n",
    "  *Hint: randomly sample possible parameters from the posterior $p(w_1, w_0 | y_1, \\ldots y_n, x_1, \\ldots, x_n)$. Each sample represents a linear function $f(x)$. Make a prediction at $x=2$ using each $f(x)$.*"
   ]
  },
  {
   "cell_type": "code",
   "execution_count": 48,
   "metadata": {},
   "outputs": [
    {
     "data": {
      "image/png": "[encoded data removed]",
      "text/plain": [
       "<Figure size 720x360 with 1 Axes>"
      ]
     },
     "metadata": {
      "needs_background": "light"
     },
     "output_type": "display_data"
    }
   ],
   "source": [
    "bayespp = posterior_samples[:, 0]+posterior_samples[:, 1]*2\n",
    "\n",
    "fig, ax = plt.subplots(1, 1, figsize=(10, 5)) # make a figure with one row and one column of size 10x5\n",
    "\n",
    "ax.hist(bayespp, bins=30)\n",
    "\n",
    "ax.set_title('Histogram of Posterior Predictives at x=2; HW 0 Data')\n",
    "\n",
    "plt.show()"
   ]
  },
  {
   "cell_type": "markdown",
   "metadata": {},
   "source": [
    "## Part III: Comparison\n",
    "\n",
    "You've now modeled the same set of data using non-Bayesian and Bayesian regression models. In both paradigms it's possible to identify a 'best' set of model parameters (in the non-Bayesian approach, we compute the MLE; in the Bayesian approach, we can compute the mean or mode of the posterior). In both paradigms it is possible to get a sense of the uncertainty we have about our estimates of the parameter and our predictions. \n",
    "\n",
    "1. Compute the 95 percentile interval of the marginal posterior distributions $p(w_i | y_1, \\ldots y_n, x_1, \\ldots, x_n)$  for the dataset in `HW0_data.csv` (you can either do this analytically, or empirically using samples from $p(w_i | y_1, \\ldots y_n, x_1, \\ldots, x_n)$). Compare these intervals to the CI's you computed in Part I. Which interval is wider? What does this say about the uncertainty of each model over the parameters?\n",
    "\n",
    "***My Answer.***\n",
    "Although I used code from in-class exercise 1, I got a weird interval of (-31.34405, 62.42174)."
   ]
  },
  {
   "cell_type": "code",
   "execution_count": 47,
   "metadata": {},
   "outputs": [
    {
     "name": "stdout",
     "output_type": "stream",
     "text": [
      "62.34217494967994\n",
      "-31.344053368253103\n"
     ]
    }
   ],
   "source": [
    "part3a = np.percentile(posterior_predictive_samples, 95, axis=0)\n",
    "\n",
    "print(np.mean(part3a)+(1.96)*np.std(part3a))\n",
    "print(np.mean(part3a)-(1.96)*np.std(part3a))"
   ]
  },
  {
   "cell_type": "markdown",
   "metadata": {},
   "source": [
    "2. Compute the 95 percentile interval of posterior predictive at $x=2$ for the dataset in `HW0_data.csv` (you can either do this analytically, or empirically using samples from $p(y| x=2)$). Compare this interval to the PI you computed in Part I. Which interval is wider? What does this say about the uncertainty of each model over the prediction?\n",
    "\n",
    "***My Answer.***\n",
    "Similarly to (a), although I used code from in-class exercise 1, I got a weird interval of (-27.485197, 66.2010309). This interval seems much wider than what I got in (a). I would still assume that a linear mondel is not appropriate for this data set since uncertainty seems too high."
   ]
  },
  {
   "cell_type": "code",
   "execution_count": 44,
   "metadata": {},
   "outputs": [
    {
     "name": "stdout",
     "output_type": "stream",
     "text": [
      "66.20103090162448\n",
      "-27.485197416308566\n"
     ]
    }
   ],
   "source": [
    "part3b = np.percentile(bayespp, 95, axis=0)\n",
    "\n",
    "print(np.mean(part3b)+(1.96)*np.std(part3a))\n",
    "print(np.mean(part3b)-(1.96)*np.std(part3a))"
   ]
  }
 ],
 "metadata": {
  "kernelspec": {
   "display_name": "Python 3",
   "language": "python",
   "name": "python3"
  },
  "language_info": {
   "codemirror_mode": {
    "name": "ipython",
    "version": 3
   },
   "file_extension": ".py",
   "mimetype": "text/x-python",
   "name": "python",
   "nbconvert_exporter": "python",
   "pygments_lexer": "ipython3",
   "version": "3.8.3"
  }
 },
 "nbformat": 4,
 "nbformat_minor": 2
}
