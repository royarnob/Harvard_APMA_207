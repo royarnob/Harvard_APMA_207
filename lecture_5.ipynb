{
 "cells": [
  {
   "cell_type": "markdown",
   "metadata": {
    "slideshow": {
     "slide_type": "slide"
    }
   },
   "source": [
    "# Lecture #5: Sampling for Posterior Simulation\n",
    "## AM 207: Advanced Scientific Computing\n",
    "### Stochastic Methods for Data Analysis, Inference and Optimization\n",
    "### Fall, 2020"
   ]
  },
  {
   "cell_type": "markdown",
   "metadata": {
    "slideshow": {
     "slide_type": "slide"
    }
   },
   "source": [
    "<img src=\"fig/logos.jpg\" style=\"height:150px;\">"
   ]
  },
  {
   "cell_type": "code",
   "execution_count": 2,
   "metadata": {
    "slideshow": {
     "slide_type": "skip"
    }
   },
   "outputs": [],
   "source": [
    "### Import basic libraries\n",
    "import numpy as np\n",
    "import scipy as sp\n",
    "import pandas as pd\n",
    "import sklearn as sk\n",
    "from sklearn.linear_model import LinearRegression\n",
    "import matplotlib.pyplot as plt\n",
    "%matplotlib inline"
   ]
  },
  {
   "cell_type": "markdown",
   "metadata": {
    "slideshow": {
     "slide_type": "slide"
    }
   },
   "source": [
    "## Outline\n",
    "1. Basics of Sampling\n",
    "2. Inverse CDF Sampling\n",
    "3. Rejection Sampling\n",
    "4. Gibbs Sampling"
   ]
  },
  {
   "cell_type": "markdown",
   "metadata": {
    "slideshow": {
     "slide_type": "slide"
    }
   },
   "source": [
    "# Basics of Sampling"
   ]
  },
  {
   "cell_type": "markdown",
   "metadata": {
    "slideshow": {
     "slide_type": "slide"
    }
   },
   "source": [
    "## Motivation\n",
    "\n",
    "Note that nearly *every* computation for Bayesian models requires us being able to obtain samples from the posterior:\n",
    "\n",
    "1. Generating synethtic data from the posterior predictive require us to sample from the model parameters from the posterior, and then sample data given each of these parameters samples.\n",
    "\n",
    "2. Empirically computing the posterior predictive mean requires samples from the posterior.\n",
    "\n",
    "3. Evaluating the fit of the Bayesian model, i.e. empirically computing the marginal data log-likelihood, requires us to average the likelihood of the data over parameter samples from the posterior.\n",
    "\n",
    "This is why Bayesian inference relies crucially on the tractability of the posterior. And yet, the posterior of most Bayesian models do not have nice simple closed forms! So how to we sample from these posteriors?"
   ]
  },
  {
   "cell_type": "markdown",
   "metadata": {
    "slideshow": {
     "slide_type": "slide"
    }
   },
   "source": [
    "## What is Sampling?\n",
    "\n",
    "Given a distribution $p(x)$ over a space $\\mathbb{R}^D$, ***sampling*** $x \\sim p(x)$ means to generate a random $x\\in \\mathbb{R}^D$, such that the asymptotic frequencies of the samples generated is described by the pdf $p(x)$.\n",
    "\n",
    "A ***sampler*** is an algorithm or procedure that produces numbers with a certain distribution $p(x)$.\n",
    "\n",
    "In practice, \"random numbers\" are simulated using deterministic algorithms called ***pseudo number generators***. A pseudo number generator takes an initial value, the ***random seed***, and produces an array of random looking numbers (from a uniform distribution).\n",
    "\n",
    "**Note:** for a given pseudo number generator, if the random seed is fixed then the random number output will also be fixed."
   ]
  },
  {
   "cell_type": "markdown",
   "metadata": {
    "slideshow": {
     "slide_type": "slide"
    }
   },
   "source": [
    "## Simulating a Uniform Random Variable: Linear Congruence\n",
    "\n",
    "Fix an integer $c > N$ and fix integers $a, b > 0$. \n",
    "1. seed: set an integer $0\\leq s_0 < c$\n",
    "2. iterate $N$ times: $$s_n = (as_{n-1} + b)_{\\text{mod } c}$$\n",
    "\n",
    "Output is an array of random integers $[s_0, \\ldots, s_N]$ in $[0, c]$. \n",
    "\n",
    "For an array of random real numbers in $[0, 1]$, we compute $\\left[\\frac{s_0}{c}, \\ldots, \\frac{s_N}{c}\\right]$. \n",
    "\n",
    "We'll see that **the simulation of all random variables is based on the simulation of the uniform distribution over $[0, 1]$**!\n",
    "\n",
    "**Note:** the apparent randomness of the output is sensitive to choices of $a, b, c$."
   ]
  },
  {
   "cell_type": "code",
   "execution_count": 2,
   "metadata": {
    "slideshow": {
     "slide_type": "slide"
    }
   },
   "outputs": [
    {
     "data": {
      "text/plain": [
       "array([0.38, 0.23, 0.58, 0.43, 0.78, 0.63, 0.98, 0.83, 0.18, 0.03])"
      ]
     },
     "execution_count": 2,
     "metadata": {},
     "output_type": "execute_result"
    }
   ],
   "source": [
    "#parameters of linear congruence algorithm\n",
    "c = 100\n",
    "a = 11\n",
    "b = 5\n",
    "#total number of simulations\n",
    "N = 10\n",
    "#random seed\n",
    "s_current = 3\n",
    "#array of random numbers\n",
    "random_numbers = []\n",
    "\n",
    "#run the linear congruence algorithm N times\n",
    "for n in range(N):\n",
    "    s_next = (a * s_current + b) % c\n",
    "    random_numbers.append(s_next)\n",
    "    s_current = s_next\n",
    "    \n",
    "#convert random integers to random real values in [0, 1]    \n",
    "random_numbers = np.array(random_numbers) * 1.\n",
    "random_numbers /= c\n",
    "#print\n",
    "random_numbers"
   ]
  },
  {
   "cell_type": "markdown",
   "metadata": {
    "slideshow": {
     "slide_type": "slide"
    }
   },
   "source": [
    "# Inverse CDF Sampling"
   ]
  },
  {
   "cell_type": "markdown",
   "metadata": {
    "slideshow": {
     "slide_type": "slide"
    }
   },
   "source": [
    "## The Cumulative Distribution Function\n",
    "\n",
    "Recall that the ***cumulative distribution function (CDF)*** of a real-valued random variable $X$ with continuous pdf $f_X$ is defined as\n",
    "$$\n",
    "F_X(a) = \\mathbb{P}[X \\leq a] = \\int_{-\\infty}^a f_X(t) dt\n",
    "$$\n",
    "<img src=\"fig/cdf.jpg\" style=\"height:300px\">"
   ]
  },
  {
   "cell_type": "markdown",
   "metadata": {
    "slideshow": {
     "slide_type": "slide"
    }
   },
   "source": [
    "## Inverse CDF Sampling: An Intuition\n",
    "The idea behind Inverse CDF Sampling is that while it is sometimes difficult to generate values for $X$ with the relative frequency described by pdf, $f_X$, it can be easier to generate values for $X$ using the CDF. \n",
    "\n",
    "The intuition is as follows:\n",
    "\n",
    "1. While the support of the pdf and CDF can be unbounded, the range of the CDF is bounded between 0 and 1.<br><br>\n",
    "2. The CDF for a continuous single-variable pdf is an invertible function (on the support of the pdf). That is, each value between 0 and 1 corresponds to a unique value of the random variable $X$.<br><br>\n",
    "3. Values of $X$ that lie under peaks of the pdf occupy larger portions of the interval [0, 1]. That is, the range of the CDF, [0, 1], can be subdivided to exactly reflect the areas of high probability mass and low probability mass under the pdf. \n",
    "\n",
    "So if we uniformly sample values in the range of the CDF, [0, 1] and find the corresponding $X$ values for these samples (using the inverse function of the CDF), we obtain samples of $X$. "
   ]
  },
  {
   "cell_type": "markdown",
   "metadata": {
    "slideshow": {
     "slide_type": "slide"
    }
   },
   "source": [
    "## Inverse CDF Sampling: An Intuition\n",
    "<img src=\"fig/inverse_cdf.jpg\" style=\"height:350px\">"
   ]
  },
  {
   "cell_type": "markdown",
   "metadata": {
    "slideshow": {
     "slide_type": "slide"
    }
   },
   "source": [
    "## Inverse CDF Sampling: Algorithm\n",
    "\n",
    "We use a random variable $U$ with uniform distribution over $[0, 1]$ to simulate a univariate random variable $X$ with pdf $f_X$, where:\n",
    "- we know the analytical form of the CDF of $X$, $F_X$.\n",
    "- we know the analytical form of the inverse of the CDF of $X$, $F^{-1}_X$.\n",
    "\n",
    "To simulate $X$, we repeat for $N$ number of samples:\n",
    "1. sample \n",
    "$$U_n \\sim U(0, 1)$$\n",
    "2. compute \n",
    "$$X_n = F^{-1}_X(U_n)$$\n",
    "\n",
    "**Question:** How do we simulate multivariate random variables? What if we don't have the analytical form of $F^{-1}_X$?"
   ]
  },
  {
   "cell_type": "markdown",
   "metadata": {
    "slideshow": {
     "slide_type": "slide"
    }
   },
   "source": [
    "## Inverse CDF Sampling: Proof of Correctness\n",
    "\n",
    "**Theorem:**  Let $F_X$ be the continuous and strictly increasing CDF of a real-valued random variable $X$. Let $F_X^{−1} : [0,1] \\to \\mathbb{R}$ be the inverse function of $F_X$. Let $U \\sim U(0,1)$, then the random variable $Y = F_X^{−1}(U)$ has CDF $F_X$.\n",
    "\n",
    "***Proof:*** Recall that the CDF of $Y$ is defined by $F_Y(x) = \\mathbb{P}[Y \\leq x]$. Now, we can write\n",
    "\n",
    "\\begin{aligned}\n",
    "F_Y(x) &= \\mathbb{P}[Y \\leq x]&\\\\ \n",
    "&= \\mathbb{P}[F_X^{−1}(U) \\leq x],&(\\text{since $Y = F_X(U)$})\\\\\n",
    "&= \\mathbb{P}[F_X(F_X^{−1}(U)) \\leq F_X(x)],&(\\text{since $F_X$ is strictly increasing})\\\\\n",
    "&= \\mathbb{P}[U \\leq F_X(x)],&(\\text{since $F_X^{-1}$ is the inverse of $F_X$})\\\\\n",
    "&= F_X(x)& (\\text{since $0\\leq F_X\\leq 1$})\n",
    "\\end{aligned}"
   ]
  },
  {
   "cell_type": "markdown",
   "metadata": {
    "slideshow": {
     "slide_type": "slide"
    }
   },
   "source": [
    "## Simulating an Exponential Random Variable\n",
    "We'll use a uniform random variable $U\\sim U(0, 1)$ to simulate a exponential variable $X\\sim Exp(\\lambda)$. Recall that the exponential CDF is\n",
    "$$\n",
    "F_X(x) = 1 - e^{-\\lambda x}.\n",
    "$$\n",
    "\n",
    "The inverse of the CDF can be found by solving for the input, $x$, of the CDF\n",
    "\\begin{aligned}\n",
    "y &= 1 - e^{-\\lambda x}\\\\\n",
    "e^{-\\lambda x} &= 1 - y\\\\\n",
    "-\\lambda x &= \\log(1 - y)\\\\\n",
    "x &= -\\frac{1}{\\lambda}\\log(1 - y)\n",
    "\\end{aligned}\n",
    "where we take $\\log$ to be base $e$.\n",
    "\n",
    "Thus, $F_X^{-1}(y) = -\\frac{1}{\\lambda}\\log(1 - y)$."
   ]
  },
  {
   "cell_type": "code",
   "execution_count": 3,
   "metadata": {
    "slideshow": {
     "slide_type": "skip"
    }
   },
   "outputs": [],
   "source": [
    "N = 500\n",
    "lam = 0.5\n",
    "#get the exponential pmf function from scipy.stats\n",
    "exp_pmf = sp.stats.expon(scale=1./lam).pdf\n",
    "#inverse cdf of exponential\n",
    "inverse_cdf = lambda y: -1. / lam * np.log(1 -  y)\n",
    "#inverse cdf samples\n",
    "U = np.random.uniform(0, 1, size=N)\n",
    "samples = inverse_cdf(U)"
   ]
  },
  {
   "cell_type": "markdown",
   "metadata": {
    "slideshow": {
     "slide_type": "slide"
    }
   },
   "source": [
    "## Simulating an Exponential Random Variable"
   ]
  },
  {
   "cell_type": "code",
   "execution_count": 4,
   "metadata": {
    "slideshow": {
     "slide_type": "fragment"
    }
   },
   "outputs": [
    {
     "data": {
      "image/png": "[encoded data removed]",
      "text/plain": [
       "<Figure size 720x360 with 1 Axes>"
      ]
     },
     "metadata": {
      "needs_background": "light"
     },
     "output_type": "display_data"
    }
   ],
   "source": [
    "#plot true pdf and samples\n",
    "fig, ax = plt.subplots(1, 1, figsize=(10, 5))\n",
    "x = np.linspace(0, 10, 100)\n",
    "ax.plot(x, exp_pmf(x), color='black', label='exponential pdf')\n",
    "ax.hist(samples, bins=50, density=True, color='blue', alpha=0.3, label='histogram of samples')\n",
    "ax.set_title('exponential pdf vs simulation by inverse cdf')\n",
    "ax.set_xlim([0, 10])\n",
    "ax.legend(loc='best')\n",
    "plt.show()   "
   ]
  },
  {
   "cell_type": "markdown",
   "metadata": {
    "slideshow": {
     "slide_type": "slide"
    }
   },
   "source": [
    "## Simulating a Bernoulli Random Variable\n",
    "\n",
    "The CDF of a discrete random variable $X$ with $K$ possible outputs is a step function:\n",
    "\n",
    "<img src=\"fig/bernoulli_cdf.jpg\" style=\"height:350px\">\n",
    "\n",
    "Technically this CDF is not invertible. But we can easily map the output of the CDF to values of $X$. The CDF naturally divides the interval [0, 1] into $K$ parts, each part should be mapped to a case where $X=k$. For example, the Bernoulli CDF divides up the interval into two parts, the first $[0, 1-\\theta]$ maps to naturally to $X=0$ and the second $[0, 1-\\theta]$ maps to $X=1$.\n",
    "\n",
    "Thus, to simulate a Bernoulli random variable $X \\sim Ber(\\theta)$, we\n",
    "1. sample $U\\sim U(0, 1)$\n",
    "2. if $U<1-\\theta$ we map to $X=0$, otherwise we map to $X=1$\n",
    "\n",
    "This process is easily extended to categorical variables with $K$ categories."
   ]
  },
  {
   "cell_type": "code",
   "execution_count": 5,
   "metadata": {
    "slideshow": {
     "slide_type": "skip"
    }
   },
   "outputs": [],
   "source": [
    "#Bernoulli distribution\n",
    "theta = 0.6\n",
    "#number of samples\n",
    "N = 500\n",
    "\n",
    "#simulate N number of uniform RVs\n",
    "u = np.random.uniform(0, 1, size=N)\n",
    "#for each uniform sample, determine if it is heads or tails by comparing to theta\n",
    "heads = u < theta\n",
    "tails = u >= theta\n",
    "u[heads] = 1\n",
    "u[tails] = 0"
   ]
  },
  {
   "cell_type": "markdown",
   "metadata": {
    "slideshow": {
     "slide_type": "slide"
    }
   },
   "source": [
    "## Simulating a Bernoulli Random Variable"
   ]
  },
  {
   "cell_type": "code",
   "execution_count": 6,
   "metadata": {
    "slideshow": {
     "slide_type": "fragment"
    }
   },
   "outputs": [
    {
     "data": {
      "image/png": "[encoded data removed]",
      "text/plain": [
       "<Figure size 432x288 with 1 Axes>"
      ]
     },
     "metadata": {
      "needs_background": "light"
     },
     "output_type": "display_data"
    }
   ],
   "source": [
    "#plot samples\n",
    "plt.hist(u, density=True)\n",
    "plt.title('simulated samples from a bernoulli with theta={}'.format(theta))\n",
    "plt.show()    "
   ]
  },
  {
   "cell_type": "markdown",
   "metadata": {
    "slideshow": {
     "slide_type": "slide"
    }
   },
   "source": [
    "## What Can We Simulate?\n",
    "\n",
    "We can simulate sampling from univariate continuous distributions with closed form inverse CDF's, e.g. exponential random variables. We can't simulate normal random variables since **the normal CDF does not have a closed form inverse**! We can't simulate multivariate random variables.\n",
    "\n",
    "We can simulate discrete random variables."
   ]
  },
  {
   "cell_type": "markdown",
   "metadata": {
    "slideshow": {
     "slide_type": "slide"
    }
   },
   "source": [
    "# Rejection Sampling"
   ]
  },
  {
   "cell_type": "markdown",
   "metadata": {
    "slideshow": {
     "slide_type": "slide"
    }
   },
   "source": [
    "## Rejection Sampling: An Intuition\n",
    "The idea behind Rejection Sampling is to by-pass the problem of sampling from a difficult distribution $f_X$, by:\n",
    "\n",
    "1. approximating $f_X$ (called the ***target distribution***), with a pdf $g$ (called the ***proposal distribution***) that is easy to sample\n",
    "2. sample from $g$ and reject the samples that are unlikely to be from $f_X$\n",
    "\n",
    "\n",
    "<img src=\"fig/rejection.jpg\" style=\"height:350px\">"
   ]
  },
  {
   "cell_type": "markdown",
   "metadata": {
    "slideshow": {
     "slide_type": "slide"
    }
   },
   "source": [
    "## Rejection Sampling: Algorithm\n",
    "\n",
    "We can use rejection sampling to simulate multivariate random variables and random variables for which we don't have a closed form for $F^{-1}_X$. We choose a proposal distribution $g$ such that (1) the support of $g$ covers the support of $f$ and (2) there is a constant $M > 0$ with $\\frac{f_X(y)}{g(y)} \\leq M$ for all $y$. \n",
    "\n",
    "In less high-falutin talk: we need (1) $g$ to be non-zero where ever $f$ is and $g$ must decay slower than $f$ (2) M * g is an upper bound of $f$.\n",
    "\n",
    "To simulate $X$, we repeat until $N$ samples are accepted:\n",
    "1. sample $Y_k \\sim g(Y)$\n",
    "2. sample a random height, $U_k \\sim U(0, 1)$\n",
    "3. if $U_k < \\frac{f_X(Y_k)}{Mg(Y_k)}$ then accept $Y_k$ as a sample, else reject\n",
    "\n",
    "**Question:** How long does it take to accumulate $N$ samples? What is the effect of the choice of the proposal distribution $g$ have on the sampling process? Now that we can sample from any distribution, this class is over right?"
   ]
  },
  {
   "cell_type": "markdown",
   "metadata": {
    "slideshow": {
     "slide_type": "skip"
    }
   },
   "source": [
    "## Rejection Sampling: Proof of Correctness\n",
    "\n",
    "We need to show that the accepted samples $Y$ have same distribution as $X$. In particular, we'll show that the CDF of the accepted samples is equal to $F_X$:\n",
    "$$\n",
    "\\mathbb{P}\\left[ Y \\leq a\\; \\left\\vert\\; U \\leq \\frac{f_X(Y)}{Mg(Y)}\\right. \\right] = F_X(a).\n",
    "$$\n",
    "Using Baye's rule for probabilities, we get that\n",
    "\\begin{aligned}\n",
    "\\mathbb{P}\\left[\\left.U \\leq \\frac{f_X(Y)}{Mg(Y)} \\; \\right\\vert\\; Y \\leq a  \\right] &= \\frac{\\mathbb{P}\\left[Y \\leq a,\\; U \\leq \\frac{f_X(Y)}{Mg(Y)} \\right]}{\\mathbb{P}\\left[ Y \\leq a\\right]}\\\\\n",
    "&= \\int_{-\\infty}^a \\frac{\\mathbb{P}\\left[\\left.U \\leq \\frac{f_X(Y)}{Mg(Y)} \\; \\right\\vert\\; Y \\leq y \\leq a  \\right] g(y)}{\\mathbb{P}\\left[ Y \\leq a\\right]} dy\\\\\n",
    "&= \\frac{1}{\\mathbb{P}\\left[ Y \\leq a\\right]}\\int_{-\\infty}^a \\mathbb{P}\\left[\\left.U \\leq \\frac{f_X(Y)}{Mg(Y)} \\; \\right\\vert\\; Y \\leq y \\leq a  \\right] g(y) dy\\\\\n",
    "&= \\frac{1}{\\mathbb{P}\\left[ Y \\leq a\\right]} \\int_{-\\infty}^a \\frac{f_X(y)}{Mg(y)} g(y) dy\\\\\n",
    "&= \\frac{1}{M\\mathbb{P}\\left[ Y \\leq a\\right]} \\int_{-\\infty}^a f_X(y) dy\\\\\n",
    "&= \\frac{1}{M\\mathbb{P}\\left[ Y \\leq a\\right]} \\mathbb{P}\\left[ X \\leq a\\right]\\\\\n",
    "&= \\frac{F_X(a)}{MG(a)}\n",
    "\\end{aligned}\n",
    "where $G$ is the CDF of the proposal pdf $g$.\n",
    "\n",
    "Now, we can write:\n",
    "\\begin{aligned}\n",
    "\\mathbb{P}\\left[ Y \\leq a\\; \\left\\vert\\; U \\leq \\frac{f_X(Y)}{Mg(Y)}\\right. \\right] &= \\frac{\\mathbb{P}\\left[\\left.U \\leq \\frac{f_X(Y)}{Mg(Y)} \\; \\right\\vert\\; Y \\leq a  \\right] \\mathbb{P}\\left[ Y \\leq a\\right]}{\\mathbb{P}\\left[U \\leq \\frac{f_X(Y)}{Mg(Y)}\\right]}\\\\\n",
    "&= \\frac{\\frac{F_X(a)}{MG(a)} * G(a)}{1/M}\\\\\n",
    "&= F_X(a)\n",
    "\\end{aligned}\n",
    "which is exactly what we wanted to show."
   ]
  },
  {
   "cell_type": "markdown",
   "metadata": {
    "slideshow": {
     "slide_type": "slide"
    }
   },
   "source": [
    "## Rejection Sampling: Efficiency\n",
    "\n",
    "Given a proposal $Y=y$, the probability of accepting it is \n",
    "$$\n",
    "\\mathbb{P}\\left[\\left.U\\leq \\frac{f(Y)}{Mg(Y)} \\right\\vert Y=y\\right] = \\frac{f(y)}{Mg(y)}.\n",
    "$$\n",
    "\n",
    "So the overall probability $p$ of accepting any given proposal can be computed by integrating out $y$:\n",
    "\n",
    "\\begin{aligned}\n",
    "p &= \\int_{\\mathbb{R}} \\frac{f(y)}{Mg(y)} g(y)dy \\\\\n",
    "&= \\frac{1}{M} \\int_{\\mathbb{R}} f(y) dy\\\\\n",
    "&= \\frac{1}{M}\n",
    "\\end{aligned}\n",
    "\n",
    "We see that the expected number of times it takes to draw and accept a sample $X=x$ is precisely $M$. This means that roughly $(M-1)/M$ of samples drawn from $g$ will be rejected. When $M$ is large, the rejection sampler is very inefficient."
   ]
  },
  {
   "cell_type": "markdown",
   "metadata": {
    "slideshow": {
     "slide_type": "slide"
    }
   },
   "source": [
    "## Simulating a Normal Random Variable\n",
    "\n",
    "We note that if we can simulate a standard normal variable $X\\sim \\mathcal{N}(0, 1)$, then we can simulate any normal variable $Y\\sim \\mathcal{N}(\\mu, \\sigma^2)$ by setting $Y = \\sigma* X + \\mu$. \n",
    "\n",
    "We also observe that since the standard normal distirbution is symmetric about $X=0$, we only need to simulate samples from the non-negative side of $\\mathcal{N}(0, 1)$ and then independently sample a sign (+ or -) for each sample using a Bernoulli distribution with $\\theta = 0.5$. \n",
    "\n",
    "Simulating the positive half of the normal distribution means we need to scale the normal pdf by a factor of 2, so that is integrates to 1 over the nonnegative real numbers.\n",
    "\n",
    "A natural candidate for a pdf to cover the non-negative half of the standard normal pdf is the exponential pdf."
   ]
  },
  {
   "cell_type": "code",
   "execution_count": 4,
   "metadata": {
    "slideshow": {
     "slide_type": "skip"
    }
   },
   "outputs": [],
   "source": [
    "#target distribution\n",
    "target_pdf = sp.stats.norm(loc=0, scale=1).pdf\n",
    "#proposal distirbution\n",
    "proposal_pdf = sp.stats.expon(scale=1 / 0.5).pdf\n",
    "#scaling constant\n",
    "M = 2.\n",
    "\n",
    "#total number of samples we want\n",
    "N = 500\n",
    "samples = []\n",
    "#repeat rejection sampling until total number of samples is attained\n",
    "while len(samples) < N:\n",
    "    #sample x from proposal distribution\n",
    "    proposed_sample = sp.stats.expon.rvs(scale=1 / 0.5, size=1)\n",
    "    #sample a random height at x\n",
    "    u = np.random.uniform(0, 1)\n",
    "    #accept if height is below target distribution\n",
    "    #remember that we are comparing the exponential distribution to the right half of the normal pdf\n",
    "    #so we need to scale the normal pdf by a factor of 2 to make it a proper pdf over the nonnegative numbers\n",
    "    if u < target_pdf(2 * proposed_sample) / (M * proposal_pdf(proposed_sample)):\n",
    "        #if we are accepting randomly append a negative sign to the sample\n",
    "        samples.append(proposed_sample * np.random.choice([-1, 1], size=1))\n",
    "        \n",
    "samples = np.array(samples)"
   ]
  },
  {
   "cell_type": "markdown",
   "metadata": {
    "slideshow": {
     "slide_type": "slide"
    }
   },
   "source": [
    "## Simulating a Normal Random Variable"
   ]
  },
  {
   "cell_type": "code",
   "execution_count": 5,
   "metadata": {
    "slideshow": {
     "slide_type": "fragment"
    }
   },
   "outputs": [
    {
     "data": {
      "image/png": "[encoded data removed]",
      "text/plain": [
       "<Figure size 1440x360 with 2 Axes>"
      ]
     },
     "metadata": {
      "needs_background": "light"
     },
     "output_type": "display_data"
    }
   ],
   "source": [
    "#plot samples\n",
    "fig, ax = plt.subplots(1, 2, figsize=(20, 5))\n",
    "x = np.linspace(-5, 5, 100)\n",
    "ax[0].plot(x, 2 * target_pdf(x), color='black', label='target: standard normal')\n",
    "ax[0].plot(x, M * proposal_pdf(x), color='blue', label='{} * proposal: exponential'.format(M))\n",
    "ax[0].set_title('proposal vs target distribution')\n",
    "ax[0].legend(loc='best')\n",
    "ax[1].hist(samples, bins=50, density=True, color='blue', alpha=0.4)\n",
    "ax[1].set_title('simulated samples via rejection sampling')\n",
    "plt.show()   "
   ]
  },
  {
   "cell_type": "markdown",
   "metadata": {
    "slideshow": {
     "slide_type": "slide"
    }
   },
   "source": [
    "## What Can We Simulate?\n",
    "\n",
    "We can simulate any continuous or discrete random variable as long as we can find a suitable proposal distribution.\n",
    "\n",
    "But as the dimensions of the random variable increases or for inappropriate choices of the proposal distribution, the efficiency of this sampler may be very low."
   ]
  },
  {
   "cell_type": "markdown",
   "metadata": {
    "slideshow": {
     "slide_type": "slide"
    }
   },
   "source": [
    "## Limitations of Rejection Sampling in High Dimensions\n",
    "\n",
    "Since the acceptance rate for rejection sampling is 1/M, where $M$ is a constant that bounds $\\frac{f_X(y)}{g(y)}$ for all $y$, we'd want to make $M$ as close to $1$ as possible, i.e. we want $g(y)$ to be approximately equal to $f_X(y)$. In general this is very difficult to achieve, especially in high dimensions.\n",
    "\n",
    "**Example:**\n",
    "\n",
    "Let's say our target distribution is a $D$-dimensional Gaussian $\\mathcal{N}\\left(0, \\sigma_f^2\\mathbf{I}_{D\\times D}\\right)$, where $\\mathbf{I}_{D\\times D}$ is a $D\\times D$ identity matrix. Let's fix the proposal distribution to be a $D$-dimensional Gaussian $\\mathcal{N}\\left(0, \\sigma_g^2\\mathbf{I}_{D\\times D}\\right)$, where $\\sigma_g > \\sigma_f$. We can compute the optimum value of $M$ to be $\\left(\\frac{\\sigma_g}{\\sigma_f}\\right)^D$. But this is a value that scales with $D$! For example, if $D=1,000$ and $\\frac{\\sigma_g}{\\sigma_f} = 1.01$ then the probability of accepting a sample will be $\\frac{1}{M} = 0.000047$."
   ]
  },
  {
   "cell_type": "markdown",
   "metadata": {
    "slideshow": {
     "slide_type": "slide"
    }
   },
   "source": [
    "# Gibbs Sampling"
   ]
  },
  {
   "cell_type": "markdown",
   "metadata": {
    "slideshow": {
     "slide_type": "slide"
    }
   },
   "source": [
    "## Semi-Conjugate Priors\n",
    "\n",
    "Let $Y \\sim \\mathcal{N}(\\mu, \\sigma^2)$, with both parameters unknown. We place a normal prior on $\\mu$, $\\mu\\sim\\mathcal{N}(m, s^2)$, and an gamma prior on $\\sigma^2$, $\\sigma^2\\sim IG(\\alpha, \\beta)$.\n",
    "\n",
    "The posterior $p(\\mu, \\sigma^2|Y)$ is then:\n",
    "\n",
    "\\begin{aligned}\n",
    "p(\\mu, \\sigma^2 | Y)  = \\frac{\\overbrace{\\frac{1}{\\sqrt{2\\pi \\sigma^2}} \\mathrm{exp} \\left\\{-\\frac{(Y - \\mu)^2}{2\\sigma^2}\\right\\}}^{\\text{likelihood}} \\overbrace{\\frac{1}{\\sqrt{2\\pi s^2}} \\mathrm{exp} \\left\\{-\\frac{(m - \\mu)^2}{2s^2}\\right\\}}^{\\text{prior on $\\mu$}}\\overbrace{\\frac{\\beta^\\alpha}{\\Gamma(\\alpha)} \\left( \\sigma^2\\right)^{-\\alpha -1}\\mathrm{exp} \\left\\{-\\frac{\\beta}{\\sigma^2}\\right\\}}^{\\text{prior on $\\sigma^2$}}}{p(Y)}\n",
    "\\end{aligned}\n",
    "\n",
    "Note that:\n",
    "\n",
    "1. if we condition on $\\sigma^2$ (i.e. hold it constant) then $p(\\mu| Y, \\sigma^2)$ is a normal pdf, $\\mathcal{N}\\left(\\mu; \\frac{s^2y + \\sigma^2m}{s^2 + \\sigma^2}, s^2\\sigma^2\\right)$.\n",
    "2. if we condition on $\\mu$ (i.e. hold it constant) then $p(\\sigma^2| Y, \\mu)$ is an inverse gamma pdf, $IG\\left(\\sigma^2; \\alpha + 0.5, \\frac{(y-\\mu)^2}{2} + \\beta\\right)$\n",
    "\n",
    "That is, **the conditional of the posterior are easy to sample from while the joint posterior is not**. In this case, we call the priors ***semi-conjugate*** for our likelihood."
   ]
  },
  {
   "cell_type": "markdown",
   "metadata": {
    "slideshow": {
     "slide_type": "slide"
    }
   },
   "source": [
    "## Gibbs Sampling: An Intuition\n",
    "If we start at a point $(x^{(0)}, y^{(0)})$ sampled from from the joint distribution $p(X, Y)$, we can get to the next point $(x^{(1)}, y^{(1)}) \\sim p(X, Y)$ through a \"stepping-stone\" $(x^{(1)}, y^{(0)})$, where we updated the first coordinate by $x^{(1)} \\sim p(X|Y = y^{(0)})$. From there, we update the second coordinate $y^{(1)} \\sim p(Y|X = x^{(1)})$.\n",
    "\n",
    "The initial samples may be unlikely under $p(X, Y)$, but this process will eventually lead us to a high density area in $p(X, Y)$ and we will mostly sample there.\n",
    "<img src=\"fig/gibbs.jpg\" style=\"height:350px\">"
   ]
  },
  {
   "cell_type": "markdown",
   "metadata": {
    "slideshow": {
     "slide_type": "slide"
    }
   },
   "source": [
    "## Gibbs Sampling: Algorithm\n",
    "\n",
    "To simulate $N$ samples of a $D$-dimensional multivariate random variable $X$ with pdf $f_X$, we\n",
    "1. initialization: choose any $x^{(0)} = \\left[x^{(0)}_1\\;\\; \\ldots\\;\\; x^{(0)}_D\\right]$\n",
    "2. iterate $N$ times: sample $x^{(n+1)} = \\left[x^{(n+1)}_1\\;\\; \\ldots\\;\\; x^{(n+1)}_D\\right]$ by\n",
    "\n",
    "  a. initialization: sample $X^{(n+1)}_1$ from the conditional distribution \n",
    "  \n",
    "  $$f_X\\left(X_1 \\,|\\, X_2 = x^{(n)}_2,\\;\\ldots,\\; X_D = x^{(n)}_D\\right)$$\n",
    "  \n",
    "  b. iterate from $d = 2$ througbh $d=D$: sample $x^{(n+1)}_d$ from the conditional distribution\n",
    "  \n",
    "  $$f_X\\left(X_d \\,|\\, X_1 = x^{(n+1)}_1,\\; \\ldots,\\; X_{d-1} = x^{(n+1)}_{d-1},\\; X_{d+1} = x^{(n)}_{d+1},\\; \\ldots,\\; X_D = x^{(n)}_D\\right)$$\n",
    "  \n",
    "**Claim:** When $N$ is large enough, the latter portion of the samples we obtain will be from the distribution of $X$.\n",
    "  \n",
    "**Question:** Why is this algorithm a valid sampler? That is, how do we prove that the samples we obtain are actually distributed as $f_X$? What is the effect of the initialization $x^{(0)}$?"
   ]
  },
  {
   "cell_type": "markdown",
   "metadata": {
    "slideshow": {
     "slide_type": "slide"
    }
   },
   "source": [
    "## Simulating the Posterior of a Normal-Normal-Inverse Gamma Model\n",
    "Let $Y \\sim \\mathcal{N}(\\mu, \\sigma^2)$, with both parameters unknown. We place a normal prior on $\\mu$, $\\mu\\sim\\mathcal{N}(m, s^2)$, and an gamma prior on $\\sigma^2$, $\\sigma^2\\sim IG(\\alpha, \\beta)$.\n",
    "\n",
    "1. $p(\\mu| Y, \\sigma^2)$ is a normal pdf, \n",
    "$$\\mathcal{N}\\left(\\mu; \\frac{s^2y + \\sigma^2m}{s^2 + \\sigma^2}, s^2\\sigma^2\\right).$$\n",
    "2. $p(\\sigma^2| Y, \\mu)$ is an inverse gamma pdf, \n",
    "$$IG\\left(\\sigma^2; \\alpha + 0.5, \\frac{(y-\\mu)^2}{2} + \\beta\\right).$$\n",
    "\n",
    "We choose an arbitrary initial point $(\\mu_0, \\sigma^2_0) \\in \\mathbb{R}^2$, and then sample the next point by  sampling from the conditionals $p(\\mu| Y, \\sigma^2)$ and $p(\\sigma^2| Y, \\mu)$, in order."
   ]
  },
  {
   "cell_type": "code",
   "execution_count": 9,
   "metadata": {
    "slideshow": {
     "slide_type": "skip"
    }
   },
   "outputs": [],
   "source": [
    "#total number of gibbs samples\n",
    "N = 1000\n",
    "#observation\n",
    "y = 1.\n",
    "#inverse gamma prior\n",
    "alpha = 2.\n",
    "beta = 3.\n",
    "#normal prior\n",
    "s = 1.\n",
    "m = 2.\n",
    "\n",
    "#initialize the gibbs sampler\n",
    "current_mu = 0.\n",
    "current_sigma_sq = 1. \n",
    "posterior_samples = [(current_mu, current_sigma_sq)]\n",
    "\n",
    "#run gibbs N times\n",
    "for n in range(N):\n",
    "    #sample mu from the posterior conditioned on the current sigma squared\n",
    "    next_mu = np.random.normal((s**2 * y) / (s**2 + current_sigma_sq), s**2 * current_sigma_sq)\n",
    "    #sample sigma squared from the posterior conditioned on the updated mu\n",
    "    next_sigma_sq = sp.stats.invgamma.rvs(alpha + 0.5, scale=1. / ((y - next_mu)**2 / 2. + beta), size=1)\n",
    "    #the next sample is the updated mu and sigma squared\n",
    "    current_mu = (next_mu, next_sigma_sq)\n",
    "    posterior_samples.append(current_mu)\n",
    "    \n",
    "posterior_samples = np.array(posterior_samples)[100:, :]"
   ]
  },
  {
   "cell_type": "code",
   "execution_count": 10,
   "metadata": {
    "slideshow": {
     "slide_type": "slide"
    }
   },
   "outputs": [
    {
     "data": {
      "image/png": "[encoded data removed]",
      "text/plain": [
       "<Figure size 720x360 with 1 Axes>"
      ]
     },
     "metadata": {
      "needs_background": "light"
     },
     "output_type": "display_data"
    }
   ],
   "source": [
    "#plot posterior samples via gibbs\n",
    "fig, ax = plt.subplots(1, 1, figsize=(10, 5))\n",
    "x = np.linspace(0, 10, 100)\n",
    "ax.scatter(posterior_samples[:, 0], posterior_samples[:, 1], color='blue', alpha=0.2)\n",
    "ax.set_title('posterior samples of normal-normal-inverse-gamma by Gibbs')\n",
    "ax.set_xlabel('mu')\n",
    "ax.set_ylabel('sigma squared')\n",
    "plt.show()   "
   ]
  },
  {
   "cell_type": "markdown",
   "metadata": {
    "slideshow": {
     "slide_type": "slide"
    }
   },
   "source": [
    "# Summarizing Sampling"
   ]
  },
  {
   "cell_type": "markdown",
   "metadata": {
    "slideshow": {
     "slide_type": "slide"
    }
   },
   "source": [
    "## Samplers for Simulating Random Variables\n",
    "A ***sampler*** is a procedure for producing random numbers from a specific distribution $p(X)$. We've seen that we can build up samplers for sophisticated distributions, incrementally, starting from a sampler for a uniform distribution $U(0, 1)$.\n",
    "\n",
    "1. **Linear Congruence Pseudo Random Number Generator:** simulates random numbers in $U(0, 1)$. \n",
    "  By translating and scaling we can simulate a random variable $U\\sim U(a, b)$.\n",
    "  \n",
    "2. **Inverse CDF Sampling:** transforms random samples from a uniform distribution $U(0, 1)$ into samples from a univariate distribution $p(X)$ by using the inverse CDF of $X$. \n",
    "  \n",
    "3. **Rejection Sampling:** find a proposal distribution $q(X)$ that is (1) easy to sample from and (2) approximates the target distribution $p(X)$. We then sample from $q$ and reject samples that are unlikely under $p$.\n",
    "  \n",
    "4. **Gibbs Sampling:** when complex multivariate distributions have easy conditional distributions $p(X_n | X_1, \\ldots, X_{n-1}, X_{n+1}, \\ldots, X_{N})$, we can obtain samples iteratively by updating the last sample from the conditionals, one coordinate at a time. *Eventually, these samples will be from $p(X)$*. This allows us to sample from the posterior of models with semi-conjugate priors.  "
   ]
  },
  {
   "cell_type": "markdown",
   "metadata": {
    "slideshow": {
     "slide_type": "slide"
    }
   },
   "source": [
    "## How to Evaluate a Sampler\n",
    "\n",
    "1. **Correctness:** Every sampler must come with a ***proof*** of correctness - that is, the numbers produced by the sampler have the distribution $p(X)$. Many intuitively sensible ways of sampling can fail to be correct.\n",
    "\n",
    "  **Question:** Why isn't it sufficient to \"histogram\" the samples and check that they are distributed like $p(X)$?<br><br>\n",
    "\n",
    "2. **Efficiency:** Every sampler must be analyzed for it's efficiency - that is, how many times the procedure must run before it accepts a sample. You should also be aware of how the efficiency is affected by the dimension of $X$.\n",
    "\n",
    "  **Question:** How do inverse CDF and rejection compare in terms of efficiency?<br><br>\n",
    "  \n",
    "3. **Sufficiency of repetition:** Some samplers like Gibbs comes with the guarantee that if you repeat the procedure enough times (asymptotically), you will eventually be sampling from $p(X)$. But exactly how many times is enough?"
   ]
  },
  {
   "cell_type": "markdown",
   "metadata": {
    "slideshow": {
     "slide_type": "slide"
    }
   },
   "source": [
    "## Why are We Sampling Again?\n",
    "\n",
    "Recall that the primary objects of interest in a Bayesian model are the ***posterior distribution*** over parameters and the ***posterior predictive distribution*** over observations.\n",
    "\n",
    "Evaluating the model, forming scientific hypothesis about the data and making predictions all require **sampling** from one of the two distributions.\n",
    "\n",
    "When the prior is conjugate for the likelihood, the posterior pdf can be derived in closed form. Often, such a posterior is easy to sample from (using inverse CDF or rejection sampling). However, restricting ourselves to such simple likelihoods and priors limits our ability to model complex real-life data!\n",
    "\n",
    "Our goal is to develop a set of different procedures that allow us to sample from arbitrary distributions. I.e. **samplers will make Bayesian inference more \"generic\", less \"artisenal\"**."
   ]
  },
  {
   "cell_type": "markdown",
   "metadata": {
    "slideshow": {
     "slide_type": "slide"
    }
   },
   "source": [
    "## What If We Want Posterior Point Estimates?\n",
    "\n",
    "Posterior samples allow us to approximately compute posterior point estimates, for example, we can approximate the posterior mean as\n",
    "$$\n",
    "\\mathbb{E}_{\\theta|Y}[\\theta] = \\int_\\Theta \\theta\\, p(\\theta | Y)\\,d\\theta \\approx \\frac{1}{S}\\sum_{s=1}^S \\theta_s,\\, \\theta_s \\sim p(\\theta | Y)\n",
    "$$\n",
    "\n",
    "In fact, for any function $f$ of $\\theta | Y$, we can estimate the expected vaue of $f$ by first sampling $S$ samples from the posterior $p(\\theta | Y)$ and then compute the average value of $f$ on these samples:\n",
    "$$\n",
    "\\mathbb{E}_{\\theta|Y}[f(\\theta)] = \\int_\\Theta f(\\theta)\\, p(\\theta | Y)\\,d\\theta \\approx \\frac{1}{S}\\sum_{s=1}^S f(\\theta_s),\\, \\theta_s \\sim p(\\theta | Y)\n",
    "$$\n",
    "\n",
    "**Question:** But is this estimate consistent? Unbiased? Of minimal variance?"
   ]
  }
 ],
 "metadata": {
  "celltoolbar": "Slideshow",
  "kernelspec": {
   "display_name": "Python 3",
   "language": "python",
   "name": "python3"
  },
  "language_info": {
   "codemirror_mode": {
    "name": "ipython",
    "version": 3
   },
   "file_extension": ".py",
   "mimetype": "text/x-python",
   "name": "python",
   "nbconvert_exporter": "python",
   "pygments_lexer": "ipython3",
   "version": "3.8.3"
  }
 },
 "nbformat": 4,
 "nbformat_minor": 2
}
