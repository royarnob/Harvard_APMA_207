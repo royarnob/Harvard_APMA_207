{
 "cells": [
  {
   "cell_type": "markdown",
   "metadata": {
    "slideshow": {
     "slide_type": "slide"
    }
   },
   "source": [
    "# Lecture #6: Monte Carlo Integration\n",
    "## AM 207: Advanced Scientific Computing\n",
    "### Stochastic Methods for Data Analysis, Inference and Optimization\n",
    "### Fall, 2020"
   ]
  },
  {
   "cell_type": "markdown",
   "metadata": {
    "slideshow": {
     "slide_type": "slide"
    }
   },
   "source": [
    "<img src=\"fig/logos.jpg\" style=\"height:150px;\">"
   ]
  },
  {
   "cell_type": "code",
   "execution_count": 1,
   "metadata": {
    "slideshow": {
     "slide_type": "skip"
    }
   },
   "outputs": [],
   "source": [
    "### Import basic libraries\n",
    "import numpy as np\n",
    "import scipy as sp\n",
    "import pandas as pd\n",
    "import sklearn as sk\n",
    "from sklearn.linear_model import LinearRegression\n",
    "import matplotlib.pyplot as plt\n",
    "%matplotlib inline"
   ]
  },
  {
   "cell_type": "markdown",
   "metadata": {
    "slideshow": {
     "slide_type": "slide"
    }
   },
   "source": [
    "## Outline\n",
    "1. Basics of Monte Carlo Simulation\n",
    "2. Variance Reduction: Control Variates\n",
    "3. Variance Reduction: Stratified Sampling\n",
    "4. Variance Reduction: Importance Sampling\n",
    "5. Application: Monte Carlo Estimation of Arbitrary Integrals"
   ]
  },
  {
   "cell_type": "markdown",
   "metadata": {
    "slideshow": {
     "slide_type": "slide"
    }
   },
   "source": [
    "## Motivation\n",
    "\n",
    "Posterior samples allow us to approximately compute posterior point estimates, for example, we can approximate the posterior mean as\n",
    "$$\n",
    "\\mathbb{E}_{\\theta|Y}[\\theta] = \\int_\\Theta \\theta\\, p(\\theta | Y)\\,d\\theta \\approx \\frac{1}{S}\\sum_{s=1}^S \\theta_s,\\, \\theta_s \\sim p(\\theta | Y)\n",
    "$$\n",
    "\n",
    "In fact, for any function $f$ of $\\theta | Y$, we can estimate the expected vaue of $f$ by first sampling $S$ samples from the posterior $p(\\theta | Y)$ and then compute the average value of $f$ on these samples:\n",
    "$$\n",
    "\\mathbb{E}_{\\theta|Y}[f(\\theta)] = \\int_\\Theta f(\\theta)\\, p(\\theta | Y)\\,d\\theta \\approx \\frac{1}{S}\\sum_{s=1}^S f(\\theta_s),\\, \\theta_s \\sim p(\\theta | Y)\n",
    "$$\n",
    "\n",
    "**Question:** But is this estimate consistent? Unbiased? Of minimal variance?"
   ]
  },
  {
   "cell_type": "markdown",
   "metadata": {
    "slideshow": {
     "slide_type": "slide"
    }
   },
   "source": [
    "# Basics of Monte Carlo Integration"
   ]
  },
  {
   "cell_type": "markdown",
   "metadata": {
    "slideshow": {
     "slide_type": "slide"
    }
   },
   "source": [
    "## Naive Monte Carlo Estimation of Integrals\n",
    "Let $I$ denote the integral \n",
    "$$\\mathbb{E}_{\\theta|Y}[f(\\theta)] = \\int_\\Theta f(\\theta)\\, p(\\theta | Y)\\,d\\theta$$ \n",
    "and let $\\widehat{I}$ denote the approximation \n",
    "$$\\frac{1}{S}\\sum_{s=1}^S f(\\theta_s),\\, \\theta_s \\sim p(\\theta | Y).$$ \n",
    "\n",
    "We call $\\widehat{I}$ the ***Monte Carlo estimate*** of $I$. \n",
    "\n",
    "In general, ***Monte Carlo integration*** is the process of estimating a deterministic quantity (an integral) using a procedure involving stochasticity (sampling)."
   ]
  },
  {
   "cell_type": "markdown",
   "metadata": {
    "slideshow": {
     "slide_type": "slide"
    }
   },
   "source": [
    "## The Consistency and Unbiasedness of Monte Carlo Estimators\n",
    "Recall that the **Strong Law of Large Numbers** says that the sampling mean of $S$ iid random variables converges to the theoretical mean, with probability 1, as $S\\to \\infty$. This means that \n",
    "\n",
    "$$\n",
    "\\lim_{S\\to\\infty} \\frac{1}{S}\\sum_{s=1}^S f(\\theta_s),\\, \\theta_s \\sim p(\\theta | Y) \\;= \\;\\mathbb{E}_{\\theta|Y}\\left[f(\\theta) \\right]\n",
    "$$\n",
    "\n",
    "with probability 1. Hence, the Monte Carlo Estimator $\\widehat{I}$ is ***consistent***.\n",
    "\n",
    "The expected value of $\\widehat{I}$ is\n",
    "\n",
    "$$\n",
    "\\mathbb{E}_{\\theta_S}[\\widehat{I}]\\, = \\, \\mathbb{E}_{\\theta_S}\\left[\\frac{1}{S}\\sum_{s=1}^S f(\\theta_s)\\right] = \\, \\frac{1}{S}\\sum_{s=1}^S \\mathbb{E}_{\\theta_s}\\left[f(\\theta_s)\\right] = \\frac{1}{S} \\sum_{s=1}^S I = I,\n",
    "$$\n",
    "\n",
    "where $\\theta_s \\sim p(\\theta | Y)$. Hence, the Monte Carlo Estimator $\\widehat{I}$ is ***unbiased***. "
   ]
  },
  {
   "cell_type": "markdown",
   "metadata": {
    "slideshow": {
     "slide_type": "slide"
    }
   },
   "source": [
    "## The Variance and Error of Monte Carlo Estimators\n",
    "The variance of $\\widehat{I}$ is given by \n",
    "\n",
    "$$\n",
    "\\mathrm{Var}\\left[ \\widehat{I}\\right] = \\mathrm{Var}\\left[\\frac{1}{S}\\sum_{s=1}^S f(\\theta_s)\\right] = \\frac{1}{S^2} \\sum_{s=1}^S \\mathrm{Var}\\left[ f(\\theta_s)\\right] = \\frac{\\mathrm{Var}\\left[ f(\\theta)\\right]}{S}\\,,\n",
    "$$\n",
    "\n",
    "where $\\theta_s, \\theta \\sim p(\\theta | Y)$. Plainly put, **the variance of the estimator is reduced when number of samples $S$ is large and the variance $\\sigma^2_f = \\mathrm{Var}\\left[ f(\\theta)\\right]$ of $f(\\theta)$ is low**.\n",
    "\n",
    "The **Central Limit Theorem** says that the differnece between sample mean and the theoretical mean of iid random variables will approach a normal distribution as $N \\to \\infty$. For us, this means that the error of $\\widehat{I}$ has a roughly normal distribution:\n",
    "\n",
    "$$\n",
    "p\\left(\\widehat{I} - I\\right) \\to \\mathcal{N}\\left(0, \\frac{\\sigma_f^2}{S}\\right)\\,,\\; N\\to \\infty\n",
    "$$\n",
    "\n",
    "Again, this says that, to reduced the error of $\\widehat{I}$ we can increase the number of samples $S$ or decrease the variance $\\sigma^2_f$ of $f(\\theta)$."
   ]
  },
  {
   "cell_type": "markdown",
   "metadata": {
    "slideshow": {
     "slide_type": "slide"
    }
   },
   "source": [
    "# Variance Reduction: Control Variates"
   ]
  },
  {
   "cell_type": "markdown",
   "metadata": {
    "slideshow": {
     "slide_type": "slide"
    }
   },
   "source": [
    "## A Baseline for Variance of Monte Carlo Estimates\n",
    "\n",
    "The variance of the naive Monte Carlo estimate $\\widehat{I}$ is:\n",
    "\\begin{aligned}\n",
    "\\mathrm{Var}\\left[ \\widehat{I}\\right] &= \\frac{1}{S}\\mathrm{Var}\\left[ f(\\theta)\\right]\\\\ \n",
    "&= \\frac{1}{S}\\mathbb{E}_{\\theta|Y}\\left[\\left( f(\\theta) - \\mathbb{E}_{\\theta|Y}\\left[ f(\\theta)\\right]\\right)^2\\right]\\\\\n",
    "&= \\frac{1}{S}\\mathbb{E}_{\\theta|Y}\\left[ f(\\theta)^2 \\right] - \\mathbb{E}_{\\theta|Y}\\left[ f(\\theta)\\right]^2\\\\\n",
    "&= \\frac{1}{S}\\left(\\int_\\Theta f(\\theta)^2 p(\\theta|Y)d\\theta  - I^2\\right)\n",
    "\\end{aligned}\n",
    "\n",
    "We'll compare the variance of alternative estimator to the above when checking for variance reduction.\n",
    "\n",
    "**Note:** The variance of $f(\\theta)$ depends on *both* the variance of $\\theta$ and the amount of variation in the function $f$. **Functions that change a great amount over the domain will have a high variance and functions that are flat will have a low variance.**"
   ]
  },
  {
   "cell_type": "markdown",
   "metadata": {
    "slideshow": {
     "slide_type": "slide"
    }
   },
   "source": [
    "## The General Idea of Control Variates\n",
    "Based on our realization that \"flat\" functions have lower variance, we will try to engineer \"flat\" functions that allow use to compute the integral of $f$.\n",
    "\n",
    "**Observation:** For a given function $f(X)$, if $h$ is a function of $X$ that correlates with $f$, then $f(X)-h(X)$ will have lower variance.\n",
    "\n",
    "<img src=\"fig/control.jpg\" style=\"height:350px\">"
   ]
  },
  {
   "cell_type": "markdown",
   "metadata": {
    "slideshow": {
     "slide_type": "slide"
    }
   },
   "source": [
    "## Variance of Control Variates\n",
    "\n",
    "Fix a function $f(\\theta)$, $\\theta\\sim p(\\theta|Y)$. Let $h(\\theta)$ be a function with known mean $\\mu_h = \\mathbb{E}_{\\theta|Y}[h(\\theta)]$ and such that $h(\\theta)$ is correlated with $f(\\theta)$. We call $h$ the ***control variate*** for $f$. \n",
    "\n",
    "We define the ***control variate Monte Carlo estimate*** of $\\mathbb{E}_{\\theta|Y}[f(\\theta)]$ to be\n",
    "\n",
    "$$\n",
    "\\widehat{I}_{\\text{control}} = \\frac{1}{S}\\sum^S_{s=1} f(\\theta_s) - c(h(\\theta_s) - \\mu_h)\n",
    "$$\n",
    "\n",
    "where $\\theta_s \\sim p(\\theta|Y)$, $c$ is our choice of a constant. \n",
    "\n",
    "The variance of this estimator is:\n",
    "\n",
    "$$\n",
    "\\mathrm{Var}\\left[ \\widehat{I}_{\\text{control}}\\right] = \\frac{1}{S} \\left(\\sigma^2_f + c^2 \\sigma_h^2 - 2c * \\mathbf{cov}[f(\\theta), h(\\theta)]\\right)\n",
    "$$\n",
    "\n",
    "Thus, we see that when $\\mathbf{cov}[f(\\theta), h(\\theta)] \\neq 0$ there is hope for variance reduction, i.e. $\\mathrm{Var}\\left[ \\widehat{I}_{\\text{control}}\\right] < \\mathrm{Var}\\left[ \\widehat{I}\\right]$!\n",
    "\n",
    "**Exercise:** check that $\\widehat{I}_{\\text{control}}$ is consistent and unbiased! Derive $\\mathrm{Var}\\left[ \\widehat{I}_{\\text{control}}\\right]$!"
   ]
  },
  {
   "cell_type": "markdown",
   "metadata": {
    "slideshow": {
     "slide_type": "slide"
    }
   },
   "source": [
    "## The Nitty Gritty of Control Variates\n",
    "\n",
    "Using control variate Monte Carlo requires that we:\n",
    "1. choose a control variate $h$ with known mean and who is correlated with $f$.\n",
    "2. choose a constant $c$.\n",
    "\n",
    "Typically, we want to choose an $h$ that follows to the trends of $f$ that is easy to integrate.\n",
    "\n",
    "The value of $c$ that minimizes $\\mathrm{Var}\\left[ \\widehat{I}_{\\text{control}}\\right]$ is \n",
    "$$\n",
    "c^* = \\frac{\\mathbf{cov}[f(\\theta), h(\\theta)]}{\\sigma_h^2}.\n",
    "$$\n",
    "\n",
    "In case $\\mathbf{cov}[f(\\theta), h(\\theta)]^2$ and $\\sigma_h^2$ are difficult to compute analytically, they can be empirically estimated from the samples.\n",
    "\n",
    "When we choose the optimal $c = c^*$, the variance of $\\widehat{I}_{\\text{control}}$ is\n",
    "\n",
    "$$\n",
    "\\mathrm{Var}\\left[ \\widehat{I}_{\\text{control}}\\right] = \\frac{1}{S}\\left(1 - \\frac{\\mathbf{cov}[f(\\theta), h(\\theta)]}{\\sigma_h^2\\sigma_f^2}\\right)\\sigma_f^2 \\sigma^2_{\\widehat{I}_{\\text{control}}} = \\frac{1}{S}(1 - \\rho_{f, h})\\sigma_f^2,\n",
    "$$\n",
    "\n",
    "where $\\rho_{f, h}$ is the correlation between the outputs of $f$ and $h$. Hence, the more $h$ is correlated with the ouput the greater the variance reduction."
   ]
  },
  {
   "cell_type": "markdown",
   "metadata": {
    "slideshow": {
     "slide_type": "slide"
    }
   },
   "source": [
    "## Example: Control Variates\n",
    "\n",
    "Let $f(\\theta) = -0.2 \\theta^3 + 100\\sin(\\theta)$ for $\\theta|Y \\sim U(0, 20)$. Let the control variate be $h(\\theta) = -0.2 \\theta^3$. We aim to estimate:\n",
    "$$\n",
    "\\mathbb{E}_{\\theta|Y}[f(\\theta)] = \\int_{\\Theta} f(\\theta) p(\\theta|Y) d\\theta = \\frac{1}{20} \\int_{\\Theta} f(\\theta) d\\theta.\n",
    "$$\n",
    "\n",
    "We compare the sample variance of $\\widehat{I} = \\frac{1}{S} \\sum_{s=1}^S f(\\theta_s)$ with that of the Monte Carlo estimate with the control variate: \n",
    "$$\\widehat{I}_{\\text{control}} = \\frac{1}{S} \\sum_{s=1}^S \\left(f(\\theta_s) - 1.5(h(\\theta_s) - \\mu_h)\\right),$$\n",
    "for $S = 100$ and where\n",
    "$$\n",
    "\\mu_h = \\mathbb{E}_{\\theta|Y}[h(\\theta)] = \\frac{1}{20}\\int_{0}^{20} h(\\theta) d\\theta = -400.\n",
    "$$"
   ]
  },
  {
   "cell_type": "markdown",
   "metadata": {
    "slideshow": {
     "slide_type": "slide"
    }
   },
   "source": [
    "## Example: Control Variates"
   ]
  },
  {
   "cell_type": "code",
   "execution_count": 3,
   "metadata": {
    "slideshow": {
     "slide_type": "skip"
    }
   },
   "outputs": [],
   "source": [
    "#total number of trials to run (for computing variance of estimators)\n",
    "total_trials = 500\n",
    "#total number of samples\n",
    "S = 100\n",
    "#list of monte carlo estimates\n",
    "monte_carlo = []\n",
    "#list of control variate estimates\n",
    "control_variate = []\n",
    "\n",
    "#definition of the monte carlo integrand\n",
    "f = lambda x: -0.2 * x**3 + 100 * np.sin(x)\n",
    "#definition of the control variate\n",
    "h = lambda x: -0.2 * x**3\n",
    "#definition of the control variate mc integrand\n",
    "control_mc = lambda x: f(x) - 1.0 * (h(x) + 400)\n",
    "\n",
    "#estimate the integral \n",
    "for i in range(total_trials):\n",
    "    #sample theta's\n",
    "    theta = np.random.uniform(0, 20, 100)\n",
    "    #compute the MC estimate\n",
    "    monte_carlo.append(f(theta).mean())\n",
    "    #compute the control variate MC estimate\n",
    "    control_variate.append(control_mc(theta).mean())\n",
    "    \n",
    "mc_variance = np.std(monte_carlo)**2\n",
    "control_mc_variance = np.std(control_variate)**2"
   ]
  },
  {
   "cell_type": "code",
   "execution_count": 6,
   "metadata": {
    "slideshow": {
     "slide_type": "fragment"
    }
   },
   "outputs": [
    {
     "data": {
      "image/png": "[encoded data removed]",
      "text/plain": [
       "<Figure size 720x360 with 1 Axes>"
      ]
     },
     "metadata": {
      "needs_background": "light"
     },
     "output_type": "display_data"
    }
   ],
   "source": [
    "x = np.linspace(0, 20, 100)\n",
    "fig, ax = plt.subplots(1, 1, figsize=(10, 5))\n",
    "ax.plot(x, f(x), color='black', label='f')\n",
    "ax.plot(x, h(x),linestyle=':', color='red', label='control variate')\n",
    "ax.plot(x, control_mc(x), linestyle='--', color='blue', label='control variate integrand')\n",
    "ax.set_title('Visualization of f and control variate')\n",
    "ax.set_xlabel('theta')\n",
    "ax.legend(loc='best')\n",
    "plt.show()"
   ]
  },
  {
   "cell_type": "markdown",
   "metadata": {
    "slideshow": {
     "slide_type": "slide"
    }
   },
   "source": [
    "## Example: Control Variates"
   ]
  },
  {
   "cell_type": "code",
   "execution_count": 7,
   "metadata": {
    "slideshow": {
     "slide_type": "fragment"
    }
   },
   "outputs": [
    {
     "name": "stdout",
     "output_type": "stream",
     "text": [
      "variance of monte carlo estimate: 2002.2389242017346\n",
      "variance of control variate monte carlo estimate: 51.052475302251885\n"
     ]
    }
   ],
   "source": [
    "print('variance of monte carlo estimate:', mc_variance)\n",
    "print('variance of control variate monte carlo estimate:', control_mc_variance)"
   ]
  },
  {
   "cell_type": "markdown",
   "metadata": {
    "slideshow": {
     "slide_type": "slide"
    }
   },
   "source": [
    "# Variance Reduction: Stratified Sampling"
   ]
  },
  {
   "cell_type": "markdown",
   "metadata": {
    "slideshow": {
     "slide_type": "slide"
    }
   },
   "source": [
    "## The General Idea of Stratified Sampling\n",
    "Again, based on our realization that \"flat\" functions have lower variance, we will try to partition the domain of $f$ into regions where $f$ is relatively \"flat\". We estimate the integral on each piece of the partition then sum over the pieces.\n",
    "\n",
    "<img src=\"fig/strata.jpg\" style=\"height:350px\">"
   ]
  },
  {
   "cell_type": "markdown",
   "metadata": {
    "slideshow": {
     "slide_type": "slide"
    }
   },
   "source": [
    "## The Stratified Sampling Monte Carlo Estimator\n",
    "\n",
    "Fix a function $f(\\theta)$, where $\\theta$ is a random variable over the domain $\\Theta$ whose pdf is $p(\\theta|Y)$. Then the integral for $\\mathbb{E}_{\\theta|Y}[f(\\theta)]$ can be decomposed as\n",
    "$$\n",
    "\\mathbb{E}_{\\theta|Y}[f(\\theta)] = \\int f(x)p(x) dx = \\sum_{m=1}^M \\int_{\\Theta_m} f(\\theta) p(\\theta) d\\theta\n",
    "$$\n",
    "where $\\bigcup_{m=1}^M\\Theta_m = \\Theta$ and $\\Theta_m \\cap \\Theta_{m'} = \\emptyset$ if $m\\neq m'$. \n",
    "\n",
    "To make $p(\\theta)$ a pdf over $\\Theta_{m'}$ we need to normalize it, i.e. \n",
    "$$\n",
    "\\frac{p(\\theta)}{w_m},\\quad w_m = \\int_{\\Theta_m} p(\\theta)d\\theta.\n",
    "$$\n",
    "We can then rewrite the integral for $\\mathbb{E}_{\\theta|Y}[f(\\theta)]$ again\n",
    "$$\n",
    "\\mathbb{E}_{\\theta|Y}[f(\\theta)] = \\sum_{m=1}^M \\int_{\\Theta_m} w_m f(\\theta) \\left(\\frac{p(\\theta)}{w_m}\\right) d\\theta = \\sum_{m=1}^M w_m \\mathbb{E}_{\\theta \\sim \\frac{p(\\theta)}{w_m}\\mathbb{1}_{\\Theta_m}}[f(\\theta)],\n",
    "$$\n",
    "where $\\mathbb{1}_{\\Theta_m}$ is the indicator function for the set $\\Theta_m$. \n",
    "\n",
    "Fix a total sample size $S$. Let $\\widehat{I}_m$ be the Monte Carlo estimate of $\\mathbb{E}_{\\theta \\sim \\frac{p(\\theta)}{w_m}\\mathbb{1}_{\\Theta_m}}[f(\\theta)]$ estimated with $S_m = w_m * S$ samples, the ***stratified sampling Monte Carlo estimator*** is\n",
    "$$\n",
    "\\widehat{I}_{\\text{SS}} = \\sum_{m=1}^M w_m \\widehat{I}_m.\n",
    "$$\n",
    "since $\\mathrm{Var}\\left[\\widehat{I}_m\\right]$ is lower than $\\mathrm{Var}\\left[\\widehat{I}\\right]$, we hope that $\\mathrm{Var}\\left[\\widehat{I}_{\\text{SS}}\\right]$ is also lower."
   ]
  },
  {
   "cell_type": "markdown",
   "metadata": {
    "slideshow": {
     "slide_type": "skip"
    }
   },
   "source": [
    "## The Nitty Gritty of Stratified Sampling: Variance Reduction\n",
    "\n",
    "The stratified sampling Monte Carlo is unbiased. Note that \n",
    "\n",
    "$$\n",
    "\\mathbb{E}_{\\theta|Y}[f(\\theta)] = \\sum_{m=1}^M \\mathbb{E}_{\\theta \\sim \\frac{p(\\theta)}{w_m}\\mathbb{1}_{\\Theta_m}}[f(\\theta) | \\text{strata}=m]\\; \\mathrm{Pr}[\\text{strata}=m] =  \\sum_{m=1}^M w_m\\,\\mathbb{E}_{\\theta \\sim \\frac{p(\\theta)}{w_m}\\mathbb{1}_{\\Theta_m}}[f(\\theta) | \\text{strata}=m].\n",
    "$$\n",
    "\n",
    "Since $\\widehat{I}_m$ is an unbiased estimator of $\\mathbb{E}_{\\theta \\sim \\frac{p(\\theta)}{w_m}\\mathbb{1}_{\\Theta_m}}[f(\\theta) | \\text{strata}=m]$, we have that \n",
    "\n",
    "$$\n",
    "\\mathbb{E}_{\\theta|Y}\\left[\\widehat{I}_{\\text{SS}}\\right] = w_m \\sum_{m=1}^M \\mathbb{E}_{\\theta \\sim \\frac{p(\\theta)}{w_m}\\mathbb{1}_{\\Theta_m}}\\left[\\widehat{I}_m\\right] = \\mathbb{E}_{\\theta|Y}[f(\\theta)].\n",
    "$$\n",
    "\n",
    "The variance of $\\widehat{I}_{\\text{SS}}$ can be computed as\n",
    "\n",
    "$$\n",
    "\\mathrm{Var}\\left[\\widehat{I}_{\\text{SS}}\\right] = \\sum_{m=1}^M w_m^2\\,\\mathrm{Var}\\left[ \\widehat{I}_m \\right] = \\sum_{m=1}^M w_m^2 \\frac{\\sigma^2_m}{S_m},\n",
    "$$\n",
    "\n",
    "where $\\sigma_m$ is the variance of $f(\\theta)$ over $\\Theta_m$. Again, conditioning on selecting the $m$-th stratum, we can show that \n",
    "\n",
    "$$\n",
    "\\mathrm{Var}\\left[\\widehat{I}\\right] =  \\mathrm{Var}\\left[\\widehat{I}_{\\text{SS}}\\right] + \\frac{1}{S} \\sum_{m=1}^M w_m\\left(\\mathbb{E}_{\\theta \\sim \\frac{p(\\theta)}{w_m}\\mathbb{1}_{\\Theta_m}}[f(\\theta) | \\text{strata}=m] - \\mathbb{E}_{\\theta|Y}[f(\\theta)]\\right)^2\\geq \\mathrm{Var}\\left[\\widehat{I}_{\\text{SS}}\\right],\n",
    "$$\n",
    "\n",
    "with equality holding only when the strata have identical mean."
   ]
  },
  {
   "cell_type": "markdown",
   "metadata": {
    "slideshow": {
     "slide_type": "slide"
    }
   },
   "source": [
    "## Example: Stratified Sampling\n",
    "Again, let $f(\\theta) = -0.2 \\theta^3 + 100\\sin(\\theta)$ for $\\theta|Y \\sim U(0, 20)$. We aim to estimate:\n",
    "$$\n",
    "\\mathbb{E}_{\\theta|Y}[f(\\theta)] = \\int_{\\Theta} f(\\theta) p(\\theta|Y) d\\theta = \\frac{1}{20} \\int_{\\Theta} f(\\theta) d\\theta.\n",
    "$$\n",
    "\n",
    "We compare the sample variance of $\\widehat{I} = \\frac{1}{S} \\sum_{s=1}^S f(\\theta_s)$ with that of the Monte Carlo estimate with stratified sampling: \n",
    "\n",
    "$$\n",
    "\\widehat{I}_{\\text{SS}} = \\sum_{m=1}^M \\frac{1}{S_m} \\sum_{s_m=1}^{S_m} w_m f(\\theta_{s_m}),\\; \\theta_{s_m} \\sim U(t_{m-1}, t_{m}),\n",
    "$$\n",
    "\n",
    "for sample sizes\n",
    "$$\n",
    "[13, 20, 9, 10, 15, 32],\n",
    "$$\n",
    "\n",
    "where the number $M$ of strata is 10, $w_m = \\frac{t_m - t_{m-1}}{20}$, and where the end points of the strata is given by \n",
    "\n",
    "$$\n",
    "[0, 2.75, 6.8, 8.6, 10.6, 13.6, 20.].\n",
    "$$"
   ]
  },
  {
   "cell_type": "markdown",
   "metadata": {
    "slideshow": {
     "slide_type": "slide"
    }
   },
   "source": [
    "## Example: Stratified Sampling"
   ]
  },
  {
   "cell_type": "code",
   "execution_count": 8,
   "metadata": {
    "slideshow": {
     "slide_type": "fragment"
    }
   },
   "outputs": [
    {
     "data": {
      "image/png": "[encoded data removed]",
      "text/plain": [
       "<Figure size 720x360 with 1 Axes>"
      ]
     },
     "metadata": {
      "needs_background": "light"
     },
     "output_type": "display_data"
    }
   ],
   "source": [
    "#define the end points of the strata\n",
    "strata = [0, 2.75, 6.8, 8.6, 10.6, 13.6, 20.]\n",
    "x = np.linspace(0, 20, 100)\n",
    "fig, ax = plt.subplots(1, 1, figsize=(10, 5))\n",
    "ax.plot(x, f(x), color='black', label='f')\n",
    "for stratus in strata:\n",
    "    ax.axvline(x=stratus, linestyle=':', color='red')\n",
    "ax.set_title('Visualization of f and strata')\n",
    "ax.set_xlabel('theta')\n",
    "ax.legend(loc='best')\n",
    "plt.show()"
   ]
  },
  {
   "cell_type": "markdown",
   "metadata": {
    "slideshow": {
     "slide_type": "slide"
    }
   },
   "source": [
    "## Example: Stratified Sampling"
   ]
  },
  {
   "cell_type": "code",
   "execution_count": 14,
   "metadata": {
    "slideshow": {
     "slide_type": "skip"
    }
   },
   "outputs": [],
   "source": [
    "#total number of trials to run (for computing variance of estimators)\n",
    "total_trials = 500\n",
    "#weights\n",
    "w = [(strata[m + 1] - strata[m]) / 20. for m in range(len(strata) - 1)]\n",
    "#sample sizes\n",
    "S = [int(weight * 100) for weight in w]\n",
    "\n",
    "stratified_estimates = []\n",
    "monte_carlo = []\n",
    "\n",
    "#repeat the estimate for many trials:\n",
    "for i in range(total_trials):\n",
    "    #compute the monte carlo estimate\n",
    "    theta = np.random.uniform(0, 20, size=np.sum(S))\n",
    "    monte_carlo.append(f(theta).mean())\n",
    "    \n",
    "    #compute the stratified sampling monte carlo estimate\n",
    "    sum_over_strata = 0\n",
    "    for m in range(len(strata) - 1):\n",
    "        theta = np.random.uniform(strata[m], strata[m + 1], size=S[m])\n",
    "        #compute the mc estimator for the mth stratus\n",
    "        stratus_estimate = (w[m] * f(theta)).mean()\n",
    "        sum_over_strata += stratus_estimate\n",
    "        \n",
    "    stratified_estimates.append(np.sum(sum_over_strata))\n",
    "\n",
    "mc_variance = np.std(monte_carlo)**2\n",
    "stratified_mc_variance = np.std(stratified_estimates)**2"
   ]
  },
  {
   "cell_type": "code",
   "execution_count": 13,
   "metadata": {
    "slideshow": {
     "slide_type": "fragment"
    }
   },
   "outputs": [
    {
     "name": "stdout",
     "output_type": "stream",
     "text": [
      "variance of monte carlo estimate: 1993.194946380082\n",
      "variance of control variate monte carlo estimate: 368.9644656704295\n"
     ]
    }
   ],
   "source": [
    "print('variance of monte carlo estimate:', mc_variance)\n",
    "print('variance of stratified monte carlo estimate:', stratified_mc_variance)"
   ]
  },
  {
   "cell_type": "markdown",
   "metadata": {
    "slideshow": {
     "slide_type": "slide"
    }
   },
   "source": [
    "# Variance Reduction: Importance Sampling"
   ]
  },
  {
   "cell_type": "markdown",
   "metadata": {
    "slideshow": {
     "slide_type": "slide"
    }
   },
   "source": [
    "## The General Idea of Importance Sampling\n",
    "The idea behind importance sampling is very similar to that of rejection sampling: we tackle the problem where the posterior $p(\\theta|Y)$ is typically hard to sample from. Instead, \n",
    "1. we approximate $p(\\theta|Y)$ with an easy distribution $q(\\theta)$ and sample $\\theta_1, \\ldots, \\theta_S$ from $q$. <br><br>\n",
    "2. rather than rejecting some of the samples, we evaluate $f$ on all the samples, and then weight $f(\\theta_s)$ based on how likely is $\\theta_s$ to be from $p$ vs $q$. That is, we estimate $\\mathbb{E}_{\\theta|Y}[f(\\theta)] \\approx\\frac{1}{S}\\sum_{s=1}^S \\frac{p(\\theta_s|Y)}{q(\\theta_s)}f(\\theta_s)$, $\\theta_s \\sim q(\\theta)$. **Why is this a good idea?**\n",
    "\n",
    "<img src=\"fig/importance.jpg\" style=\"height:300px\">"
   ]
  },
  {
   "cell_type": "markdown",
   "metadata": {
    "slideshow": {
     "slide_type": "slide"
    }
   },
   "source": [
    "## Variance of Importance Sampling\n",
    "\n",
    "Fix a total sample size $S$. The ***importance sampling Monte Carlo estimator*** is\n",
    "$$\n",
    "\\widehat{I}_{\\text{IS}} = \\frac{1}{S}\\sum_{s=1}^S \\frac{p(\\theta_s|Y)}{q(\\theta_s)}f(\\theta_s), \\; \\theta_s \\sim q(\\theta_s)\n",
    "$$\n",
    "We call $q$ is the ***importance distribution***, $p$ the ***nominal distribution*** and $\\frac{p(\\theta_s|Y)}{q(\\theta_s)}$ the ***importance weight***.\n",
    "\n",
    "We can show that $\\widehat{I}_{\\text{IS}}$ is unbiased and consistent using the following fact (assuming $q$ and $p$ have the same support): \n",
    "\n",
    "$$\n",
    "I = \\mathbb{E}_{\\theta \\sim p(\\theta|Y)}\\left[f(\\theta)\\right] = \\int_\\Theta \\frac{p(\\theta|Y)}{q(\\theta)}f(\\theta) q(\\theta) d\\theta= \\mathbb{E}_{\\theta \\sim q(\\theta)}\\left[\\frac{p(\\theta|Y)}{q(\\theta)}f(\\theta)\\right].\n",
    "$$\n",
    "\n",
    "We can directly calculate the variance of $\\widehat{I}_{\\text{IS}}$ to be $\\mathrm{Var}\\left[\\widehat{I}_{\\text{IS}}\\right] = \\frac{\\sigma^2_q}{S}$, \n",
    "where $\\sigma^2_q$ is the variance of $\\frac{p(\\theta_s|Y)}{q(\\theta_s)}f(\\theta_s)$:\n",
    "\n",
    "$$\n",
    "\\sigma^2_q = \\int_\\Theta f^2(\\theta)p(\\theta|Y)\\frac{p(\\theta|Y)}{q(\\theta)} d\\theta - I^2 = \\int_\\Theta\\frac{\\left(f(\\theta)p(\\theta|Y) - I q(\\theta)\\right)^2}{q(\\theta)} d\\theta.\n",
    "$$\n",
    "\n",
    "For comparison, $\\mathrm{Var}\\left[\\widehat{I}\\right] = \\frac{1}{S}\\left(\\int_\\Theta f(\\theta)^2 p(\\theta|Y)d\\theta  - I^2\\right)$. So, we hope to get a variance reduction if $\\frac{p(\\theta|Y)}{q(\\theta)} <1$ when $f(\\theta)^2 p(\\theta|Y)$ is large."
   ]
  },
  {
   "cell_type": "markdown",
   "metadata": {
    "slideshow": {
     "slide_type": "slide"
    }
   },
   "source": [
    "## The Nitty Gritty of Importance Sampling: the Design of $q$\n",
    "\n",
    "1. **(When $q=0$)** if $q(\\theta_0)=0$ but $p(\\theta_0|Y) \\neq 0$ for some $\\theta_0$ then $\\widehat{I}_{\\text{IS}}$ will be biased, since sampling from $q$ can never simulate sampling from $p$ even after reweighting.<br><br>\n",
    "\n",
    "2. **(When $q\\approx 0$)** related, if $q(\\theta_0)$ is very small (esp. when $q(\\theta_0) < p(\\theta_0|Y)$) then it is unlikely that your samples will include $\\theta_0$. Hence, $\\widehat{I}_{\\text{IS}}$ will be biased. **If you've never see snow, you can't prepare for it!**<br><br>\n",
    "\n",
    "3. **(Again, when $q\\approx 0$)** recall that $\\sigma^2_q = \\int_\\Theta\\frac{\\left(f(\\theta)p(\\theta|Y) - I q(\\theta)\\right)^2}{q(\\theta)}$. For smaller $\\sigma^2_q$, we want $\\left(f(\\theta)p(\\theta|Y) - I q(\\theta)\\right)^2\\approx 0$, i.e. $q\\propto f(\\theta)p(\\theta|Y)$. But where $q(\\theta) \\approx 0$, $\\sigma^2_q$ can be large even when $\\left(f(\\theta)p(\\theta|Y) - I q(\\theta)\\right)^2$ is small.<br><br>\n",
    "\n",
    "4. **(Heterogenous weights)** when $q$ and $p$ are very dissimlar, the weights will either be near 0 or huge. Say we have one sample with weight 0 and one with weight 999, how many samples are we effectively simulating from $p$? A way to measure the \"quality\" of the samples from $q$ in estimating $I$, is through the ***effective sample size***. \n",
    "\n",
    "  When we have $100$ samples from $q$ but ESS is 10, then essentially your IS estimate of $I$ is as good as as Monte Carlo estimate with 10 samples from $p$."
   ]
  },
  {
   "cell_type": "markdown",
   "metadata": {
    "slideshow": {
     "slide_type": "slide"
    }
   },
   "source": [
    "## Example: Importance Sampling\n",
    "\n",
    "Again, let $f(\\theta) = -0.2 \\theta^3 + 100\\sin(\\theta)$ for $\\theta|Y \\sim U(0, 20)$. We aim to estimate:\n",
    "$$\n",
    "\\mathbb{E}_{\\theta|Y}[f(\\theta)] = \\int_{\\Theta} f(\\theta) p(\\theta|Y) d\\theta = \\frac{1}{20} \\int_{\\Theta} f(\\theta) d\\theta.\n",
    "$$\n",
    "\n",
    "We compare the sample variance of $\\widehat{I} = \\frac{1}{S} \\sum_{s=1}^S f(\\theta_s)$ with that of the Monte Carlo estimate with importance sampling, with the importance distribution being $\\mathcal{N}(12, 3)$:\n",
    "$$\n",
    "\\widehat{I}_{\\text{IS}} = \\sum_{s=1}^S  \\frac{1/20 * \\mathbb{1}_{[0, 20]}}{\\mathcal{N}(\\theta_s; 12, 3)}\\, f(\\theta_{s}),\\; \\theta_{s} \\sim \\mathcal{N}(12, 3),\n",
    "$$\n",
    "for sample size $S=100$."
   ]
  },
  {
   "cell_type": "markdown",
   "metadata": {
    "slideshow": {
     "slide_type": "slide"
    }
   },
   "source": [
    "## Example: Importance Sampling"
   ]
  },
  {
   "cell_type": "code",
   "execution_count": 8,
   "metadata": {
    "slideshow": {
     "slide_type": "fragment"
    }
   },
   "outputs": [
    {
     "data": {
      "image/png": "[encoded data removed]",
      "text/plain": [
       "<Figure size 1440x360 with 2 Axes>"
      ]
     },
     "metadata": {
      "needs_background": "light"
     },
     "output_type": "display_data"
    }
   ],
   "source": [
    "#normal pdf\n",
    "normal = sp.stats.norm(loc=12, scale=3**2).pdf\n",
    "#visualize nominal and importance distributions\n",
    "x = np.linspace(0, 20, 100)\n",
    "fig, ax = plt.subplots(1, 2, figsize=(20, 5))\n",
    "ax[0].plot(x, f(x), color='black', label='nominal distribution')\n",
    "ax[0].set_xlabel('theta')\n",
    "ax[0].legend(loc='best')\n",
    "ax[1].plot(x, normal(x), color='red', label='importance distribution')\n",
    "ax[1].set_xlabel('theta')\n",
    "ax[1].legend(loc='best')\n",
    "plt.show()"
   ]
  },
  {
   "cell_type": "markdown",
   "metadata": {
    "slideshow": {
     "slide_type": "slide"
    }
   },
   "source": [
    "## Example: Importance Sampling"
   ]
  },
  {
   "cell_type": "code",
   "execution_count": 49,
   "metadata": {
    "slideshow": {
     "slide_type": "skip"
    }
   },
   "outputs": [],
   "source": [
    "#total number of trials to run (for computing variance of estimators)\n",
    "total_trials = 500\n",
    "#sample sizes\n",
    "S = 100\n",
    "\n",
    "is_estimates = []\n",
    "monte_carlo = []\n",
    "importance_weights = []\n",
    "\n",
    "#repeat the estimate for many trials:\n",
    "for i in range(total_trials):\n",
    "    #compute the monte carlo estimate\n",
    "    #sample from p\n",
    "    theta = np.random.uniform(0, 20, size=S)\n",
    "    #evaluate f at samples of p\n",
    "    monte_carlo.append(f(theta).mean())\n",
    "    \n",
    "    #compute the IS sampling monte carlo estimate\n",
    "    #sample from importance distribution q\n",
    "    theta = np.random.normal(12, 3, size=S)\n",
    "    #compute importance weight of each sample\n",
    "    weights = np.array([0 if (t < 0 or t > 20) else 1. / (20 * normal(t)) for t in theta])\n",
    "    #count the number of weights that are zero (i.e. samples that are impossible under p)\n",
    "    importance_weights.append(len(weights[weights==0]))\n",
    "    #compute the IS estimate\n",
    "    is_estimates.append((weights * f(theta)).mean())\n",
    "\n",
    "mc_variance = np.std(monte_carlo)**2\n",
    "is_mc_variance = np.std(is_estimates)**2"
   ]
  },
  {
   "cell_type": "code",
   "execution_count": 50,
   "metadata": {
    "slideshow": {
     "slide_type": "fragment"
    }
   },
   "outputs": [
    {
     "name": "stdout",
     "output_type": "stream",
     "text": [
      "variance of monte carlo estimate: 2212.2325702371\n",
      "variance of IS monte carlo estimate: 1364.0624019299828\n"
     ]
    }
   ],
   "source": [
    "print('variance of monte carlo estimate:', mc_variance)\n",
    "print('variance of IS monte carlo estimate:', is_mc_variance)"
   ]
  },
  {
   "cell_type": "code",
   "execution_count": 51,
   "metadata": {
    "slideshow": {
     "slide_type": "fragment"
    }
   },
   "outputs": [
    {
     "name": "stdout",
     "output_type": "stream",
     "text": [
      "average numnber of zero importance weight: 0.37\n"
     ]
    }
   ],
   "source": [
    "print('average numnber of zero importance weight:', np.mean(importance_weights))"
   ]
  },
  {
   "cell_type": "markdown",
   "metadata": {
    "slideshow": {
     "slide_type": "slide"
    }
   },
   "source": [
    "# Summary of Monte Carlo Integration"
   ]
  },
  {
   "cell_type": "markdown",
   "metadata": {
    "slideshow": {
     "slide_type": "slide"
    }
   },
   "source": [
    "## Monte Carlo Integration\n",
    "Last week we studied ways of ***sampling*** from an arbitrary distribution $p(\\theta)$:\n",
    "- **Inverse CDF Sampling:** when the inverse of the CDF of $p$ can be computed\n",
    "- **Rejection Sampling:** when a good substitute distribution for $p$ can be found\n",
    "- **Gibbs Sampling:** when the conditionals of a multivariate distribution are simple\n",
    "\n",
    "Samples from $p(\\theta)$ can be used to estimate the expected value of any function of $\\theta$:\n",
    "\n",
    "$$\n",
    "\\underbrace{\\mathbb{E}_{\\theta\\sim p(\\theta)}\\left[ f(\\theta)\\right]}_{I} = \\int_{\\Theta} f(\\theta) p(\\theta) d\\theta \\approx \\underbrace{\\frac{1}{S} \\sum_{s=1}^S f(\\theta_s),\\; \\theta_s \\sim p(\\theta)}_{\\widehat{I}}\n",
    "$$\n",
    "\n",
    "We call $\\widehat{I}$ the ***Monte Carlo estimate*** of $I$. We proved that:\n",
    "\n",
    "- $\\widehat{I}$ is consistent and unbiased\n",
    "- The variance of $\\widehat{I}$ is $\\frac{\\sigma_f}{S}$, where $\\sigma_f = \\mathrm{Var}\\left[f(\\theta) \\right]$\n",
    "\n",
    "What do these two properties of $\\widehat{I}$ tell us to do if we want better estimates of $I$?"
   ]
  },
  {
   "cell_type": "markdown",
   "metadata": {
    "slideshow": {
     "slide_type": "slide"
    }
   },
   "source": [
    "## Variance Reduction for Monte Carlo Integration\n",
    "\n",
    "We can reduce the variance of $\\widehat{I}$ by increasing the sample size $S$. But this is not always practical. **Why?** \n",
    "\n",
    "We studied three ways of reducing the variance of $\\widehat{I}$ by reducing the variance of the function inside the expectation:\n",
    "\n",
    "1. **Control Variates:** find a function $h$ that captures the trend of $f$:\n",
    "$$\n",
    "\\widehat{I}_{\\text{control}} = \\frac{1}{S}\\sum^S_{s=1} f(\\theta_s) - c(h(\\theta_s) - \\mu_h), \\; \\theta_s \\sim p(\\theta)\n",
    "$$\n",
    "2. **Stratified Sampling:** Split the domain $\\Theta$ into $m$ pieces (strata):\n",
    "$$\n",
    "\\widehat{I}_{\\text{SS}} = \\sum_{m=1}^M w_m \\widehat{I}_m.\n",
    "$$\n",
    "where $w_m = \\int_{\\Theta_m} p(\\theta)d\\theta$, and $\\widehat{I}_m$ is the MC estimate over the $m$-th strata\n",
    "3. **Importance Sampling:** choose a $q$ that places more weight where $f(\\theta)$ has high variance and $p$ is more likely to produce samples:\n",
    "$$\n",
    "\\widehat{I}_{\\text{IS}} = \\frac{1}{S}\\sum_{s=1}^S \\frac{p(\\theta_s|Y)}{q(\\theta_s)}f(\\theta_s),\\; \\theta_s \\sim q(\\theta).\n",
    "$$\n",
    "\n",
    "**For each method:**  What are the design choices you need to make? Where is the variance reduction coming from? Why is it hard to achieve?"
   ]
  },
  {
   "cell_type": "markdown",
   "metadata": {
    "slideshow": {
     "slide_type": "slide"
    }
   },
   "source": [
    "# Application: Monte Carlo Estimation of Arbitrary Integrals"
   ]
  },
  {
   "cell_type": "markdown",
   "metadata": {
    "slideshow": {
     "slide_type": "slide"
    }
   },
   "source": [
    "## Arbitrary Definite Integrals\n",
    "\n",
    "We formulated Monte Carlo estimation as a way to approximate the expected value of functions of random variables. However, given a function of deterministic variables, $f(x)$, we can rewrite the integral\n",
    "\n",
    "$$\n",
    "\\int_{\\Omega} f(x) dx,\n",
    "$$\n",
    "\n",
    "where $x\\in\\mathbb{R}^D$ and $\\Omega \\subseteq \\mathbb{R}^D$, like an expectation\n",
    "\n",
    "$$\n",
    "\\int_{\\Omega} f(x) dx = \\int_{\\Omega} g(x)h(x) dx,\n",
    "$$\n",
    "\n",
    "if we can factor $f$ as $f(x) = g(x)h(x)$.\n",
    "\n",
    "The rewritten integral looks a lot like the expectation of $g(X)$ where the pdf of $X$ is $h(X)$. The only problem is that $h(x)$ is not necessarily a pdf!"
   ]
  },
  {
   "cell_type": "markdown",
   "metadata": {
    "slideshow": {
     "slide_type": "slide"
    }
   },
   "source": [
    "## Rewriting an Arbitrary Definite Integral as an Expectation\n",
    "\n",
    "We want to rewrite the following expression as an expectation:\n",
    "$$\n",
    "\\int_{\\Omega} f(x) dx = \\int_{\\Omega} g(x)h(x) dx.\n",
    "$$\n",
    "Let $V$ denote the integral of $h$ over $\\Omega$:\n",
    "$$\n",
    "V = \\int_{\\Omega} h(x)dx.\n",
    "$$\n",
    "Note that, then, $\\int_{\\Omega} \\frac{1}{V}h(x)dx = 1$. Hence, $\\frac{1}{V}h(x)$ is a valid pdf over $\\Omega$. \n",
    "\n",
    "Then we can write:\n",
    "$$\n",
    "\\int_{\\Omega} f(x) dx = \\int_{\\Omega} \\left(Vg(x)\\right)\\left(\\frac{1}{V}h(x)\\right)dx.\n",
    "$$\n",
    "\n",
    "We recognize the above integral as an expectation, and hence can estimated using Monte Carlo methods:\n",
    "$$\n",
    "\\mathbb{E}_{X\\sim \\frac{1}{V}h(X)}[Vg(X)] \\approx V\\sum_{s=1}^S g(X_s),\\; X_s\\sim \\frac{1}{V}h(X).\n",
    "$$"
   ]
  },
  {
   "cell_type": "markdown",
   "metadata": {
    "slideshow": {
     "slide_type": "slide"
    }
   },
   "source": [
    "## How Do You Factor the Integrand $f$?\n",
    "\n",
    "Once we factor $f(x)$ as $f(x) = g(x)h(x)$, then we can rewrite the integral of $f$ (over $\\Omega$) as an expectation\n",
    "\n",
    "$$\n",
    "\\int_{\\Omega} f(x) dx = \\int_{\\Omega} \\left(Vg(x)\\right)\\left(\\frac{1}{V}h(x)\\right)dx = \\mathbb{E}_{X\\sim \\frac{1}{V}h(X)}[Vg(X)].\n",
    "$$\n",
    "\n",
    "But how does one choose $g$ and $h$? Two simple things to keep in mind:\n",
    "1. since we need to sample from $h$, we need to choose $h$ such that it is easily approximated by distributions from which we know how to sample.\n",
    "2. since the variance of the Monte Carlo estimator depends on $g$, we should choose $g$ to be relatively flat (so that the output of $g$ has low variance)."
   ]
  }
 ],
 "metadata": {
  "celltoolbar": "Slideshow",
  "kernelspec": {
   "display_name": "Python 3",
   "language": "python",
   "name": "python3"
  },
  "language_info": {
   "codemirror_mode": {
    "name": "ipython",
    "version": 3
   },
   "file_extension": ".py",
   "mimetype": "text/x-python",
   "name": "python",
   "nbconvert_exporter": "python",
   "pygments_lexer": "ipython3",
   "version": "3.7.4"
  }
 },
 "nbformat": 4,
 "nbformat_minor": 2
}
