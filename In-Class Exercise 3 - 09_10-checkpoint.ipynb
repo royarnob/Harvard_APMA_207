{
 "cells": [
  {
   "cell_type": "markdown",
   "metadata": {
    "colab_type": "text",
    "id": "Vlwh9scJ2pND"
   },
   "source": [
    "# DAY 3: The Beta-Binomial Model\n",
    "\n",
    "\n",
    "### AM207: Advanced Scientific Computing\n",
    "\n",
    "#### Instructor: Weiwei Pan\n",
    "\n",
    "#### Due: September 10th, 11:59pm EST"
   ]
  },
  {
   "cell_type": "markdown",
   "metadata": {
    "colab_type": "text",
    "id": "3WkhfBAkMN_a"
   },
   "source": [
    "**Names of Group Members**: _________________________"
   ]
  },
  {
   "cell_type": "markdown",
   "metadata": {
    "colab_type": "text",
    "id": "rsRzRcpjMaBZ"
   },
   "source": [
    "## Learning Goals:\n",
    "\n",
    "1. be able to apply Beta-Binomial models to determine fair rankings \n",
    "2. understand the effect of the prior and evidence in this model\n",
    "3. be able to interpret the prior and posterior as real-life beliefs"
   ]
  },
  {
   "cell_type": "markdown",
   "metadata": {
    "colab_type": "text",
    "id": "8HWxh6FY2pNH"
   },
   "source": [
    "### Load necessary libraries"
   ]
  },
  {
   "cell_type": "code",
   "execution_count": 8,
   "metadata": {
    "colab": {},
    "colab_type": "code",
    "executionInfo": {
     "elapsed": 242,
     "status": "ok",
     "timestamp": 1599759788524,
     "user": {
      "displayName": "Arnob Roy",
      "photoUrl": "https://lh3.googleusercontent.com/a-/AOh14GjueGA4Au65rRSEiAabhDS3fvJoPa63oYrxK0d3=s64",
      "userId": "12041806227534191136"
     },
     "user_tz": 240
    },
    "id": "map2N7G-2pNI"
   },
   "outputs": [],
   "source": [
    "import numpy as np\n",
    "import pandas as pd\n",
    "import scipy as sp\n",
    "from scipy.stats import mode\n",
    "from sklearn import linear_model\n",
    "import matplotlib\n",
    "import matplotlib.pyplot as plt\n",
    "%matplotlib inline"
   ]
  },
  {
   "cell_type": "markdown",
   "metadata": {
    "colab_type": "text",
    "id": "5Ta0C3pH2pNQ"
   },
   "source": [
    "### We include auxiliary functions here that we will need to use later "
   ]
  },
  {
   "cell_type": "code",
   "execution_count": 7,
   "metadata": {
    "colab": {},
    "colab_type": "code",
    "executionInfo": {
     "elapsed": 289,
     "status": "ok",
     "timestamp": 1599759787645,
     "user": {
      "displayName": "Arnob Roy",
      "photoUrl": "https://lh3.googleusercontent.com/a-/AOh14GjueGA4Au65rRSEiAabhDS3fvJoPa63oYrxK0d3=s64",
      "userId": "12041806227534191136"
     },
     "user_tz": 240
    },
    "id": "aXfC50q42pNR"
   },
   "outputs": [],
   "source": [
    "def movie_stats(names_df,\n",
    "                ratings_df,\n",
    "                movie_name=None,\n",
    "                movie_name_contains=None,\n",
    "                verbose=False):\n",
    "    '''--------  movie_stats\n",
    "    A function that extracts the total number of ratings and number of likes for a movie\n",
    "    Input: \n",
    "         movie_name (an optional parameter containing the exact name of the movie)\n",
    "         movie_name_contains (an optional parameter containing part of the movie name)\n",
    "    Returns: \n",
    "         total_ratings (the total number of ratings for a movie)\n",
    "         likes (the total number of likes for a movie)\n",
    "    '''\n",
    "    \n",
    "    #If given an exact movie name:\n",
    "    if movie_name is not None:        \n",
    "        #Find the index of the movie, by name, in the \"names\" dataframe\n",
    "        movie_index = names_df[names_df['movie_name'] == movie_name].index[0]\n",
    "        #Get the id for the movie in the \"names\" dataframe\n",
    "        movie_id = names_df.loc[movie_index, 'movie_id']\n",
    "        #Get all ratings for the movie, by id, in the \"ratings\" dataframe\n",
    "        ratings_for_movie = ratings_df[ratings_df['movie_id'] == movie_id]\n",
    "        #Count the total number of ratings\n",
    "        total_ratings = len(ratings_for_movie)\n",
    "        #Count the likes (the 1's)\n",
    "        likes = ratings_for_movie['rating'].sum()\n",
    "    \n",
    "    #Otherwise, if given a partial movie name:\n",
    "    elif movie_name_contains is not None:\n",
    "        #Find the index of the movie, by name, in the \"names\" dataframe\n",
    "        movie_index = names_df[names_df['movie_name'].str.contains(movie_name_contains,case=False)].index[0]\n",
    "        if verbose: print(names_df['movie_name'][movie_index])\n",
    "        #Get the id for the movie in the \"names\" dataframe\n",
    "        movie_id = names_df.loc[movie_index, 'movie_id']\n",
    "        #Get all ratings for the movie, by id, in the \"ratings\" dataframe\n",
    "        ratings_for_movie = ratings_df[ratings_df['movie_id'] == movie_id]\n",
    "        #Count the total number of ratings\n",
    "        total_ratings = len(ratings_for_movie)\n",
    "        #Count the likes (the 1's)\n",
    "        likes = ratings_for_movie['rating'].sum()\n",
    "    \n",
    "    else:\n",
    "        total_ratings = 0.\n",
    "        likes = 0.\n",
    "    \n",
    "    return float(total_ratings), likes\n",
    "\n",
    "\n",
    "def generate_list_top_movies(names_df, ratings_df, n_movies=25):\n",
    "    '''--------  generate_list_top_movies\n",
    "    A function that makes a list of movie names and their ratings info,\n",
    "    based on like-percentage only\n",
    "    Input: \n",
    "         names_df (a dataframe containing the names of the movie)\n",
    "         ratings_df (a dataframe containing the movie ratings)\n",
    "         n_movies (an optional parameter indicating the number of movies to return)\n",
    "    Returns: \n",
    "         top_movies (the top movies ranked by like-percentage)\n",
    "    '''\n",
    "\n",
    "    likability = []\n",
    "\n",
    "    #Iterate through all the movie names\n",
    "    for name in names_df['movie_name'].values:\n",
    "        #Get ratings info for movie\n",
    "        total_ratings, likes = movie_stats(names_df, ratings_df, movie_name=name)\n",
    "        #Add movie info to our list\n",
    "        likability.append((name, likes, total_ratings, likes / total_ratings))\n",
    "\n",
    "    #Sort our list of movie info by like-percentage, in descending order\n",
    "    sorted_likability = sorted(likability, key=lambda t: t[3], reverse=True)  \n",
    "    #Get the movies with top 25 like-percentage\n",
    "    top_movies = sorted_likability[:n_movies]\n",
    "\n",
    "    #Print results of ranking\n",
    "    print('Top %d Movies' % n_movies)\n",
    "    print('****************************')\n",
    "    for movie, likes, total_ratings, likable in top_movies:\n",
    "        print(movie, ':', likable, '({}/{})'.format(likes, total_ratings))\n",
    "    return top_movies\n",
    "\n",
    "\n",
    "def plot_beta_prior(a, b, color, ax):\n",
    "    '''--------  plot_beta_prior\n",
    "    A function to visualize a beta pdf on a set of axes\n",
    "    Input: \n",
    "         a (parameter controlling shape of beta prior)\n",
    "         b (parameter controlling shape of beta prior)\n",
    "         color (color of beta pdf)\n",
    "         ax (axes on which to plot pdf)\n",
    "    Returns: \n",
    "         ax (axes with plot of beta pdf)\n",
    "    '''\n",
    "    \n",
    "    #Create a beta-distributed random variable with shape a, b\n",
    "    rv = sp.stats.beta(a, b)\n",
    "    #Create values from 0 to 1\n",
    "    x = np.linspace(0, 1, 100)\n",
    "    #Plot the beta pdf for values from 0 to 1\n",
    "    ax.plot(x, rv.pdf(x), '-', lw=2, color=color, label='a=' + str(a) + ', b=' + str(b))\n",
    "    #Set title, legend etc\n",
    "    ax.set_title('Beta prior with a=' + str(a) + ', b=' + str(b))\n",
    "    ax.legend(loc='best')\n",
    "    \n",
    "    return ax\n",
    "\n",
    "\n",
    "def sample_posterior(a, b, likes, ratings, n_samples):\n",
    "    '''--------  sample_posterior\n",
    "    A function that samples points from the posterior over a movie's \n",
    "    likability, given a binomial likelihood function and beta prior\n",
    "    Input: \n",
    "         a (parameter controlling shape of beta prior)\n",
    "         b (parameter controlling shape of beta prior)\n",
    "         likes (the number of likes in likelihood)\n",
    "         ratings (total number of ratings in likelihood)\n",
    "         n_samples (number of samples to take from posterior)\n",
    "    Returns: \n",
    "         post_samples (a array of points from the posterior)\n",
    "    '''\n",
    "    #Samples points from a beta distribution \n",
    "    #(the posterior of a binomial likelihood and a beta prior is a beta distribution!)\n",
    "    post_samples = np.random.beta(a + likes, b + ratings - likes, n_samples)\n",
    "    return post_samples\n",
    "\n",
    "\n",
    "def find_mode(values, num_bins):\n",
    "    '''--------  find_mode\n",
    "    A function that approximates the mode of a distribution given a sample from the distribution\n",
    "    Input: \n",
    "         values (samples from the distribution)\n",
    "         num_bins (number of bins to use in approximating histogram)\n",
    "    Returns: \n",
    "         mode (the approximate mode of the distribution)\n",
    "    '''\n",
    "    \n",
    "    #Make an approximation (histogram) of the distribution using the samples\n",
    "    bins, edges = np.histogram(values, bins=num_bins)\n",
    "    #Find the bin in the histogram with the max height\n",
    "    max_height_index = np.argmax(bins)\n",
    "    #Find the sample corresponding to the bin with the max height (the mode)\n",
    "    mode = (edges[max_height_index] + edges[max_height_index + 1]) / 2.\n",
    "    \n",
    "    return mode"
   ]
  },
  {
   "cell_type": "markdown",
   "metadata": {
    "colab_type": "text",
    "id": "N_oMLFJK2pNz"
   },
   "source": [
    "# Application: building a ranking system of movies based on ratings\n",
    "\n",
    "The objective is to build a ranking system to recommend movies using ratings from users.\n",
    "\n",
    "One way of recommending movies is to give a list of movies that are generally agreed upon to be good. But how do we measure the \"goodness\" or \"likability\" of a movie?"
   ]
  },
  {
   "cell_type": "markdown",
   "metadata": {
    "colab_type": "text",
    "id": "YJkeCDq42pN1"
   },
   "source": [
    "### Read the data and explore\n",
    "\n",
    "The dataset for this problem is contained in `ratings_df` (below). This dataset contains ratings from 100 users for 1000 movies. The first two columns contain the user and movie IDs. The last column contains a 1 if the user liked the movie, and 0 otherwise. Not every movie is rated by every user (i.e. some movies have more ratings than others).\n",
    "\n",
    "The names of the movies corresponding to the IDs are provided in `names.df` (below).\n",
    "\n",
    "Let's first read in the data in the csv file and get acquainted with our data."
   ]
  },
  {
   "cell_type": "code",
   "execution_count": 5,
   "metadata": {
    "colab": {
     "base_uri": "https://localhost:8080/",
     "height": 204
    },
    "colab_type": "code",
    "executionInfo": {
     "elapsed": 425,
     "status": "ok",
     "timestamp": 1599759780632,
     "user": {
      "displayName": "Arnob Roy",
      "photoUrl": "https://lh3.googleusercontent.com/a-/AOh14GjueGA4Au65rRSEiAabhDS3fvJoPa63oYrxK0d3=s64",
      "userId": "12041806227534191136"
     },
     "user_tz": 240
    },
    "id": "uRYetwF52pN3",
    "outputId": "67a68b92-89a3-42e5-8159-91b713107f94"
   },
   "outputs": [
    {
     "data": {
      "text/html": [
       "<div>\n",
       "<style scoped>\n",
       "    .dataframe tbody tr th:only-of-type {\n",
       "        vertical-align: middle;\n",
       "    }\n",
       "\n",
       "    .dataframe tbody tr th {\n",
       "        vertical-align: top;\n",
       "    }\n",
       "\n",
       "    .dataframe thead th {\n",
       "        text-align: right;\n",
       "    }\n",
       "</style>\n",
       "<table border=\"1\" class=\"dataframe\">\n",
       "  <thead>\n",
       "    <tr style=\"text-align: right;\">\n",
       "      <th></th>\n",
       "      <th>user_id</th>\n",
       "      <th>movie_id</th>\n",
       "      <th>rating</th>\n",
       "    </tr>\n",
       "  </thead>\n",
       "  <tbody>\n",
       "    <tr>\n",
       "      <th>0</th>\n",
       "      <td>22.0</td>\n",
       "      <td>377.0</td>\n",
       "      <td>0.0</td>\n",
       "    </tr>\n",
       "    <tr>\n",
       "      <th>1</th>\n",
       "      <td>62.0</td>\n",
       "      <td>257.0</td>\n",
       "      <td>0.0</td>\n",
       "    </tr>\n",
       "    <tr>\n",
       "      <th>2</th>\n",
       "      <td>95.0</td>\n",
       "      <td>546.0</td>\n",
       "      <td>0.0</td>\n",
       "    </tr>\n",
       "    <tr>\n",
       "      <th>3</th>\n",
       "      <td>38.0</td>\n",
       "      <td>95.0</td>\n",
       "      <td>1.0</td>\n",
       "    </tr>\n",
       "    <tr>\n",
       "      <th>4</th>\n",
       "      <td>63.0</td>\n",
       "      <td>277.0</td>\n",
       "      <td>1.0</td>\n",
       "    </tr>\n",
       "  </tbody>\n",
       "</table>\n",
       "</div>"
      ],
      "text/plain": [
       "   user_id  movie_id  rating\n",
       "0     22.0     377.0     0.0\n",
       "1     62.0     257.0     0.0\n",
       "2     95.0     546.0     0.0\n",
       "3     38.0      95.0     1.0\n",
       "4     63.0     277.0     1.0"
      ]
     },
     "execution_count": 5,
     "metadata": {
      "tags": []
     },
     "output_type": "execute_result"
    }
   ],
   "source": [
    "# read in the movie ratings data from a csv file\n",
    "ratings_df = pd.read_csv('https://raw.githubusercontent.com/onefishy/am207/master/Labs/datasets/ratings.txt', delimiter=',')\n",
    "# print out the first 5 rows of the dataframe\n",
    "ratings_df.head()"
   ]
  },
  {
   "cell_type": "code",
   "execution_count": 6,
   "metadata": {
    "colab": {
     "base_uri": "https://localhost:8080/",
     "height": 204
    },
    "colab_type": "code",
    "executionInfo": {
     "elapsed": 271,
     "status": "ok",
     "timestamp": 1599759782383,
     "user": {
      "displayName": "Arnob Roy",
      "photoUrl": "https://lh3.googleusercontent.com/a-/AOh14GjueGA4Au65rRSEiAabhDS3fvJoPa63oYrxK0d3=s64",
      "userId": "12041806227534191136"
     },
     "user_tz": 240
    },
    "id": "Kb_E4m5V2pN9",
    "outputId": "d1f8db82-66b3-4599-a765-6fc254f4fad6",
    "scrolled": true
   },
   "outputs": [
    {
     "data": {
      "text/html": [
       "<div>\n",
       "<style scoped>\n",
       "    .dataframe tbody tr th:only-of-type {\n",
       "        vertical-align: middle;\n",
       "    }\n",
       "\n",
       "    .dataframe tbody tr th {\n",
       "        vertical-align: top;\n",
       "    }\n",
       "\n",
       "    .dataframe thead th {\n",
       "        text-align: right;\n",
       "    }\n",
       "</style>\n",
       "<table border=\"1\" class=\"dataframe\">\n",
       "  <thead>\n",
       "    <tr style=\"text-align: right;\">\n",
       "      <th></th>\n",
       "      <th>movie_id</th>\n",
       "      <th>movie_name</th>\n",
       "    </tr>\n",
       "  </thead>\n",
       "  <tbody>\n",
       "    <tr>\n",
       "      <th>0</th>\n",
       "      <td>1</td>\n",
       "      <td>Toy Story (1995)</td>\n",
       "    </tr>\n",
       "    <tr>\n",
       "      <th>1</th>\n",
       "      <td>2</td>\n",
       "      <td>GoldenEye (1995)</td>\n",
       "    </tr>\n",
       "    <tr>\n",
       "      <th>2</th>\n",
       "      <td>3</td>\n",
       "      <td>Four Rooms (1995)</td>\n",
       "    </tr>\n",
       "    <tr>\n",
       "      <th>3</th>\n",
       "      <td>4</td>\n",
       "      <td>Get Shorty (1995)</td>\n",
       "    </tr>\n",
       "    <tr>\n",
       "      <th>4</th>\n",
       "      <td>5</td>\n",
       "      <td>Copycat (1995)</td>\n",
       "    </tr>\n",
       "  </tbody>\n",
       "</table>\n",
       "</div>"
      ],
      "text/plain": [
       "   movie_id         movie_name\n",
       "0         1   Toy Story (1995)\n",
       "1         2   GoldenEye (1995)\n",
       "2         3  Four Rooms (1995)\n",
       "3         4  Get Shorty (1995)\n",
       "4         5     Copycat (1995)"
      ]
     },
     "execution_count": 6,
     "metadata": {
      "tags": []
     },
     "output_type": "execute_result"
    }
   ],
   "source": [
    "# read in the movie names form a csv file\n",
    "names_df = pd.read_csv('https://raw.githubusercontent.com/onefishy/am207/master/Labs/datasets/movie_names.txt')\n",
    "# print out the first 5 rows of the dataframe\n",
    "names_df.head()"
   ]
  },
  {
   "cell_type": "markdown",
   "metadata": {
    "colab_type": "text",
    "id": "M_vCh_Nw2pOC"
   },
   "source": [
    "### Rank movies based on number of positive ratings (\"likes\")\n",
    "\n",
    "Let's compare the number of total ratings and \"likes\" for a couple of movies.\n",
    "\n",
    "**Exercise 1:** Examine the number of total ratings and \"likes\" for the following movies:\n",
    "* `Batman Forever (1995)`\n",
    "* `Unhook the Stars (1996)`\n",
    "* `Shawshank Redemption, The (1994)`\n",
    "\n",
    "To help you, the following helper function `compute_n_ratings_and_likes` takes a movie name, and returns total number of ratings, and total number of positive ratings (\"likes\").\n",
    "\n",
    "Based on the total number of \"likes\", which of the following movies would you recommend? Is this a fair ranking system?"
   ]
  },
  {
   "cell_type": "code",
   "execution_count": 13,
   "metadata": {
    "colab": {},
    "colab_type": "code",
    "executionInfo": {
     "elapsed": 223,
     "status": "ok",
     "timestamp": 1599759825331,
     "user": {
      "displayName": "Arnob Roy",
      "photoUrl": "https://lh3.googleusercontent.com/a-/AOh14GjueGA4Au65rRSEiAabhDS3fvJoPa63oYrxK0d3=s64",
      "userId": "12041806227534191136"
     },
     "user_tz": 240
    },
    "id": "RRDIckrn2pOD"
   },
   "outputs": [],
   "source": [
    "# call the following function to extract the information\n",
    "def compute_movie_stats(movie_name=None, movie_name_contains=None):\n",
    "    total_ratings, likes = movie_stats(names_df, ratings_df,\n",
    "        movie_name=movie_name, movie_name_contains=movie_name_contains, verbose=True)\n",
    "    print('total number of ratings:', total_ratings)\n",
    "    print('number of likes:', likes,'\\n')\n",
    "    return total_ratings, likes"
   ]
  },
  {
   "cell_type": "code",
   "execution_count": 21,
   "metadata": {
    "colab": {
     "base_uri": "https://localhost:8080/",
     "height": 221
    },
    "colab_type": "code",
    "executionInfo": {
     "elapsed": 315,
     "status": "ok",
     "timestamp": 1599760274780,
     "user": {
      "displayName": "Arnob Roy",
      "photoUrl": "https://lh3.googleusercontent.com/a-/AOh14GjueGA4Au65rRSEiAabhDS3fvJoPa63oYrxK0d3=s64",
      "userId": "12041806227534191136"
     },
     "user_tz": 240
    },
    "id": "KobPoO2y2pOI",
    "outputId": "59b6c949-0252-405b-8a18-b24d08447f41"
   },
   "outputs": [
    {
     "name": "stdout",
     "output_type": "stream",
     "text": [
      "Batman Forever (1995)\n",
      "total number of ratings: 10.0\n",
      "number of likes: 1.0 \n",
      "\n",
      "Unhook the Stars (1996)\n",
      "total number of ratings: 1.0\n",
      "number of likes: 1.0 \n",
      "\n",
      "Shawshank Redemption, The (1994)\n",
      "total number of ratings: 39.0\n",
      "number of likes: 39.0 \n",
      "\n"
     ]
    }
   ],
   "source": [
    "# Example: print the number of ratings and likes for Batman\n",
    "_, _ = compute_movie_stats(movie_name_contains='batman')\n",
    "_, _ = compute_movie_stats(movie_name_contains='Unhook')\n",
    "_, _ = compute_movie_stats(movie_name_contains='Shawshank')"
   ]
  },
  {
   "cell_type": "markdown",
   "metadata": {
    "colab_type": "text",
    "id": "JJgAe5Ly2pOQ"
   },
   "source": [
    "### Rank movies based on percentage of likes\n",
    "\n",
    "Now, instead of using the total number of likes, we use the total percentage of likes to rank the movies. Each movie will have a *score* associated:\n",
    "$$ score =\\frac{ n_{likes}}{ n_{ratings}} \\in [0,1]$$\n",
    "Note that this percentage is the the MLE of the probability of a user liking a movie in a binomial model for the data. That is, we model the number of likes $n_{likes}$ as\n",
    "\n",
    "$$\n",
    "n_{likes} \\sim Bin(n_{ratings}, \\theta).\n",
    "$$\n",
    "\n",
    "Thus, $\\theta_{\\mathrm{MLE}} = \\frac{ n_{likes}}{ n_{ratings}}$.\n",
    "\n",
    "**Exercise 2:** Print out the top 25 movies ranked by the like-percentage. Do you feel like this list best represents the most \"popular\" or \"beloved\" movies in the database? Is this a fair ranking system?"
   ]
  },
  {
   "cell_type": "code",
   "execution_count": 22,
   "metadata": {
    "colab": {
     "base_uri": "https://localhost:8080/",
     "height": 476
    },
    "colab_type": "code",
    "executionInfo": {
     "elapsed": 1580,
     "status": "ok",
     "timestamp": 1599760557178,
     "user": {
      "displayName": "Arnob Roy",
      "photoUrl": "https://lh3.googleusercontent.com/a-/AOh14GjueGA4Au65rRSEiAabhDS3fvJoPa63oYrxK0d3=s64",
      "userId": "12041806227534191136"
     },
     "user_tz": 240
    },
    "id": "UDR-NqPN2pOR",
    "outputId": "22872fef-6e93-4bec-e4ca-66e66921b253"
   },
   "outputs": [
    {
     "name": "stdout",
     "output_type": "stream",
     "text": [
      "Top 25 Movies\n",
      "****************************\n",
      "French Twist (Gazon maudit) (1995) : 1.0 (2.0/2.0)\n",
      "Exotica (1994) : 1.0 (2.0/2.0)\n",
      "Three Colors: Red (1994) : 1.0 (12.0/12.0)\n",
      "Three Colors: White (1994) : 1.0 (8.0/8.0)\n",
      "Shawshank Redemption, The (1994) : 1.0 (39.0/39.0)\n",
      "Brother Minister: The Assassination of Malcolm X (1994) : 1.0 (1.0/1.0)\n",
      "Carlito's Way (1993) : 1.0 (4.0/4.0)\n",
      "Robert A. Heinlein's The Puppet Masters (1994) : 1.0 (2.0/2.0)\n",
      "Horseman on the Roof, The (Hussard sur le toit, Le) (1995) : 1.0 (2.0/2.0)\n",
      "Wallace & Gromit: The Best of Aardman Animation (1996) : 1.0 (6.0/6.0)\n",
      "Maya Lin: A Strong Clear Vision (1994) : 1.0 (1.0/1.0)\n",
      "Unhook the Stars (1996) : 1.0 (1.0/1.0)\n",
      "Wrong Trousers, The (1993) : 1.0 (14.0/14.0)\n",
      "Godfather: Part II, The (1974) : 1.0 (18.0/18.0)\n",
      "Ridicule (1996) : 1.0 (5.0/5.0)\n",
      "Pillow Book, The (1995) : 1.0 (2.0/2.0)\n",
      "When the Cats Away (Chacun cherche son chat) (1996) : 1.0 (3.0/3.0)\n",
      "unknown : 1.0 (2.0/2.0)\n",
      "Once Upon a Time... When We Were Colored (1995) : 1.0 (2.0/2.0)\n",
      "Assignment, The (1997) : 1.0 (1.0/1.0)\n",
      "Wonderland (1997) : 1.0 (2.0/2.0)\n",
      "Incognito (1997) : 1.0 (1.0/1.0)\n",
      "Blues Brothers 2000 (1998) : 1.0 (2.0/2.0)\n",
      "Fear of a Black Hat (1993) : 1.0 (2.0/2.0)\n",
      "To Catch a Thief (1955) : 1.0 (6.0/6.0)\n"
     ]
    }
   ],
   "source": [
    "# Generate top-list of movies\n",
    "top_25_movies = generate_list_top_movies(names_df, ratings_df, n_movies=25)"
   ]
  },
  {
   "cell_type": "markdown",
   "metadata": {
    "colab_type": "text",
    "id": "Ojlujx-Y2pOY"
   },
   "source": [
    "### Exploring the effect of prior beliefs\n",
    "\n",
    "Recall that we can bias our models (if we don't like their results) by building in some prior beliefs about the model parameters. In this case, our model parameter is \"the likability of a movie\". So let's encode some prior beliefs for what we think are reasonable values for \"likability\". To keep things simple, we will restrict ourselves to using beta priors to model our beliefs about \"likability\".\n",
    "\n",
    "We have built for you a few helpful functions: one to help you visualize the pdf for various beta priors, one for approximating the posterior using samples, and one for calculating the mode of a distribution (given by some sampled values)."
   ]
  },
  {
   "cell_type": "markdown",
   "metadata": {
    "colab_type": "text",
    "id": "e9jIn2lJ2pOZ"
   },
   "source": [
    "First, let's explore the shapes of various beta pdfs and let's interpret these shapes as prior beliefs.\n",
    "\n",
    "**Exercise 3:** The following is a set of five different beta distributions. Describe in words what prior belief about the movie corresponds to each prior. Which beta prior encodes an appropriate belief about likability? Why?"
   ]
  },
  {
   "cell_type": "code",
   "execution_count": 23,
   "metadata": {
    "colab": {
     "base_uri": "https://localhost:8080/",
     "height": 297
    },
    "colab_type": "code",
    "executionInfo": {
     "elapsed": 1164,
     "status": "ok",
     "timestamp": 1599760882012,
     "user": {
      "displayName": "Arnob Roy",
      "photoUrl": "https://lh3.googleusercontent.com/a-/AOh14GjueGA4Au65rRSEiAabhDS3fvJoPa63oYrxK0d3=s64",
      "userId": "12041806227534191136"
     },
     "user_tz": 240
    },
    "id": "NOcZpnId2pOa",
    "outputId": "af316705-70fc-4812-8eb4-b5030a5ccff2"
   },
   "outputs": [
    {
     "data": {
      "image/png": "[encoded data removed]",
      "text/plain": [
       "<Figure size 1440x288 with 5 Axes>"
      ]
     },
     "metadata": {
      "needs_background": "light",
      "tags": []
     },
     "output_type": "display_data"
    }
   ],
   "source": [
    "# A list of beta distribution shapes to try out \n",
    "# (feel free to change the parameters of the beta distribution to explore their effects)\n",
    "beta_shapes = [(1, 1), (0.5, 0.5), (2, 2), (4, 2), (2, 4)]\n",
    "\n",
    "# Length of the list of shapes\n",
    "n = len(beta_shapes)\n",
    "\n",
    "# Plot all the beta pdfs in a row\n",
    "fig, ax = plt.subplots(1, n, figsize=(20, 4))\n",
    "\n",
    "# Start the index of the current subplot at 0\n",
    "ax_ind = 0\n",
    "\n",
    "# Iterate through all the shapes\n",
    "for a, b in beta_shapes:\n",
    "    # Plot the beta pdf for a particular shape\n",
    "    plot_beta_prior(a, b, 'blue', ax[ax_ind])\n",
    "\n",
    "    # Increment the subplot index\n",
    "    ax_ind += 1\n",
    "    \n",
    "plt.tight_layout()    \n",
    "plt.show() "
   ]
  },
  {
   "cell_type": "markdown",
   "metadata": {
    "colab_type": "text",
    "id": "R1Aqz6AM2pOf"
   },
   "source": [
    "\n",
    "Let's then look at the effect of the priors on the posterior of likability for a specific movie.\n",
    "\n",
    "**Exercise 4:** For a couple of movies, print out the posterior of the Beta-Binomial model for each of five priors in Exercise 3. \n",
    "\n",
    "Describe what belief about the movie corresponds to each posterior.\n",
    "\n",
    "Describe the effect of the prior on the posterior distribution. \n",
    "\n",
    "Compare the posteriors for a couple of movies (e.g. \"Shawshank Redemption\", \"French Twist\"), explain why the posteriors for these movies look different when the same priors are used. Relate your answers to the concepts from lecture."
   ]
  },
  {
   "cell_type": "code",
   "execution_count": 26,
   "metadata": {
    "colab": {
     "base_uri": "https://localhost:8080/",
     "height": 34
    },
    "colab_type": "code",
    "executionInfo": {
     "elapsed": 316,
     "status": "ok",
     "timestamp": 1599761829458,
     "user": {
      "displayName": "Arnob Roy",
      "photoUrl": "https://lh3.googleusercontent.com/a-/AOh14GjueGA4Au65rRSEiAabhDS3fvJoPa63oYrxK0d3=s64",
      "userId": "12041806227534191136"
     },
     "user_tz": 240
    },
    "id": "clTqR1aE2pOg",
    "outputId": "7d21853a-ccfa-4e1c-f6b3-4ee5a0e6ba12"
   },
   "outputs": [
    {
     "name": "stdout",
     "output_type": "stream",
     "text": [
      "French Twist (Gazon maudit) (1995): 1.0 (2.0/2.0)\n"
     ]
    }
   ],
   "source": [
    "# Example: Get the name of the first movie in the previous top-25 list\n",
    "movie_name = top_25_movies[0][0]\n",
    "\n",
    "# Get the ratings info for the first movie in the top 25 list\n",
    "likes = top_25_movies[0][1]\n",
    "total_ratings = top_25_movies[0][2]\n",
    "likability = top_25_movies[0][3]\n",
    "\n",
    "# Print movie info\n",
    "print('{}: {} ({}/{})'.format(movie_name, likability, likes, total_ratings))"
   ]
  },
  {
   "cell_type": "code",
   "execution_count": null,
   "metadata": {
    "colab": {
     "base_uri": "https://localhost:8080/",
     "height": 271
    },
    "colab_type": "code",
    "executionInfo": {
     "elapsed": 2018,
     "status": "ok",
     "timestamp": 1597885705632,
     "user": {
      "displayName": "Weiwei Pan",
      "photoUrl": "https://lh3.googleusercontent.com/a-/AOh14GiatfQpWWEvrdZoStaftACenTKNsz5wkQ4mU43OSw=s64",
      "userId": "10234662099878317233"
     },
     "user_tz": 240
    },
    "id": "KZ8ISP6h2pOl",
    "outputId": "6568682e-81f3-4c1e-f7cd-b4f8dbecaca7"
   },
   "outputs": [
    {
     "data": {
      "image/png": "[encoded data removed]",
      "text/plain": [
       "<Figure size 1440x288 with 5 Axes>"
      ]
     },
     "metadata": {
      "needs_background": "light",
      "tags": []
     },
     "output_type": "display_data"
    }
   ],
   "source": [
    "# Number of samples to use when approximating our posterior\n",
    "n_samples = 10000\n",
    "\n",
    "# Plot the posterior corresponding to each prior\n",
    "fig, ax = plt.subplots(1, n, figsize=(20, 4))\n",
    "\n",
    "# Start the index of the current subplot at 0\n",
    "ax_ind = 0\n",
    "\n",
    "# Iterate through all the shapes\n",
    "for a, b in beta_shapes:   \n",
    "    # Draw samples from the posterior corresponding to a particular beta prior\n",
    "    post_samples = sample_posterior(a, b, likes, total_ratings, n_samples)\n",
    "\n",
    "    # Approximate the posterior with a histogram of these samples\n",
    "    ax[ax_ind].hist(post_samples, bins=30, color='red', alpha=0.5)\n",
    "\n",
    "    # Find the approximate mode of the posterior\n",
    "    mode = find_mode(post_samples, 30)\n",
    "\n",
    "    # Plot the mode as a vertical line\n",
    "    ax[ax_ind].axvline(x=mode, linewidth=3, label='Posterior mode')\n",
    "    \n",
    "    # Set title, legends etc\n",
    "    ax[ax_ind].set_title('Posterior, with Beta prior (a={}, b={})'.format(a, b))\n",
    "    ax[ax_ind].legend(loc='best')\n",
    "\n",
    "    # Increment the subplot index\n",
    "    ax_ind += 1\n",
    "\n",
    "plt.tight_layout()\n",
    "plt.show() "
   ]
  },
  {
   "cell_type": "code",
   "execution_count": 32,
   "metadata": {
    "colab": {
     "base_uri": "https://localhost:8080/",
     "height": 1000
    },
    "colab_type": "code",
    "executionInfo": {
     "elapsed": 1633,
     "status": "ok",
     "timestamp": 1599762798858,
     "user": {
      "displayName": "Arnob Roy",
      "photoUrl": "https://lh3.googleusercontent.com/a-/AOh14GjueGA4Au65rRSEiAabhDS3fvJoPa63oYrxK0d3=s64",
      "userId": "12041806227534191136"
     },
     "user_tz": 240
    },
    "id": "naDms2XFR5Mo",
    "outputId": "ddc750dd-49b4-48fa-bf8a-f956d3899396"
   },
   "outputs": [
    {
     "name": "stdout",
     "output_type": "stream",
     "text": [
      "Top 200 Movies\n",
      "****************************\n",
      "French Twist (Gazon maudit) (1995) : 1.0 (2.0/2.0)\n",
      "Exotica (1994) : 1.0 (2.0/2.0)\n",
      "Three Colors: Red (1994) : 1.0 (12.0/12.0)\n",
      "Three Colors: White (1994) : 1.0 (8.0/8.0)\n",
      "Shawshank Redemption, The (1994) : 1.0 (39.0/39.0)\n",
      "Brother Minister: The Assassination of Malcolm X (1994) : 1.0 (1.0/1.0)\n",
      "Carlito's Way (1993) : 1.0 (4.0/4.0)\n",
      "Robert A. Heinlein's The Puppet Masters (1994) : 1.0 (2.0/2.0)\n",
      "Horseman on the Roof, The (Hussard sur le toit, Le) (1995) : 1.0 (2.0/2.0)\n",
      "Wallace & Gromit: The Best of Aardman Animation (1996) : 1.0 (6.0/6.0)\n",
      "Maya Lin: A Strong Clear Vision (1994) : 1.0 (1.0/1.0)\n",
      "Unhook the Stars (1996) : 1.0 (1.0/1.0)\n",
      "Wrong Trousers, The (1993) : 1.0 (14.0/14.0)\n",
      "Godfather: Part II, The (1974) : 1.0 (18.0/18.0)\n",
      "Ridicule (1996) : 1.0 (5.0/5.0)\n",
      "Pillow Book, The (1995) : 1.0 (2.0/2.0)\n",
      "When the Cats Away (Chacun cherche son chat) (1996) : 1.0 (3.0/3.0)\n",
      "unknown : 1.0 (2.0/2.0)\n",
      "Once Upon a Time... When We Were Colored (1995) : 1.0 (2.0/2.0)\n",
      "Assignment, The (1997) : 1.0 (1.0/1.0)\n",
      "Wonderland (1997) : 1.0 (2.0/2.0)\n",
      "Incognito (1997) : 1.0 (1.0/1.0)\n",
      "Blues Brothers 2000 (1998) : 1.0 (2.0/2.0)\n",
      "Fear of a Black Hat (1993) : 1.0 (2.0/2.0)\n",
      "To Catch a Thief (1955) : 1.0 (6.0/6.0)\n",
      "East of Eden (1955) : 1.0 (8.0/8.0)\n",
      "Thin Man, The (1934) : 1.0 (8.0/8.0)\n",
      "Third Man, The (1949) : 1.0 (9.0/9.0)\n",
      "Local Hero (1983) : 1.0 (10.0/10.0)\n",
      "Cool Hand Luke (1967) : 1.0 (20.0/20.0)\n",
      "Killing Fields, The (1984) : 1.0 (14.0/14.0)\n",
      "Daytrippers, The (1996) : 1.0 (1.0/1.0)\n",
      "Traveller (1997) : 1.0 (1.0/1.0)\n",
      "Ponette (1996) : 1.0 (1.0/1.0)\n",
      "White Man's Burden (1995) : 1.0 (1.0/1.0)\n",
      "Boxing Helena (1993) : 1.0 (1.0/1.0)\n",
      "Fatal Instinct (1993) : 1.0 (1.0/1.0)\n",
      "True Crime (1995) : 1.0 (2.0/2.0)\n",
      "Stalingrad (1993) : 1.0 (2.0/2.0)\n",
      "Daniel Defoe's Robinson Crusoe (1996) : 1.0 (1.0/1.0)\n",
      "For Whom the Bell Tolls (1943) : 1.0 (4.0/4.0)\n",
      "Spellbound (1945) : 1.0 (3.0/3.0)\n",
      "My Man Godfrey (1936) : 1.0 (5.0/5.0)\n",
      "Giant (1956) : 1.0 (5.0/5.0)\n",
      "39 Steps, The (1935) : 1.0 (7.0/7.0)\n",
      "Davy Crockett, King of the Wild Frontier (1955) : 1.0 (2.0/2.0)\n",
      "So Dear to My Heart (1949) : 1.0 (1.0/1.0)\n",
      "Paths of Glory (1957) : 1.0 (4.0/4.0)\n",
      "The Innocent (1994) : 1.0 (1.0/1.0)\n",
      "Paris Is Burning (1990) : 1.0 (3.0/3.0)\n",
      "Glory (1989) : 1.0 (17.0/17.0)\n",
      "Touch of Evil (1958) : 1.0 (1.0/1.0)\n",
      "Manchurian Candidate, The (1962) : 1.0 (17.0/17.0)\n",
      "High Noon (1952) : 1.0 (11.0/11.0)\n",
      "Blood For Dracula (Andy Warhol's Dracula) (1974) : 1.0 (1.0/1.0)\n",
      "Dark City (1998) : 1.0 (3.0/3.0)\n",
      "Wonderful, Horrible Life of Leni Riefenstahl, The (1993) : 1.0 (1.0/1.0)\n",
      "Substance of Fire, The (1996) : 1.0 (1.0/1.0)\n",
      "Carrington (1995) : 1.0 (2.0/2.0)\n",
      "In the Bleak Midwinter (1995) : 1.0 (2.0/2.0)\n",
      "Go Fish (1994) : 1.0 (2.0/2.0)\n",
      "Burnt By the Sun (1994) : 1.0 (3.0/3.0)\n",
      "Red Corner (1997) : 1.0 (4.0/4.0)\n",
      "Man of the Year (1995) : 1.0 (1.0/1.0)\n",
      "Crooklyn (1994) : 1.0 (1.0/1.0)\n",
      "Boys Life (1995) : 1.0 (2.0/2.0)\n",
      "Manhattan Murder Mystery (1993) : 1.0 (2.0/2.0)\n",
      "Menace II Society (1993) : 1.0 (4.0/4.0)\n",
      "Thirty-Two Short Films About Glenn Gould (1993) : 1.0 (4.0/4.0)\n",
      "Great Day in Harlem, A (1994) : 1.0 (1.0/1.0)\n",
      "Meet John Doe (1941) : 1.0 (3.0/3.0)\n",
      "Shaggy Dog, The (1959) : 1.0 (2.0/2.0)\n",
      "Murder, My Sweet (1944) : 1.0 (1.0/1.0)\n",
      "Perfect Candidate, A (1996) : 1.0 (2.0/2.0)\n",
      "Two or Three Things I Know About Her (1966) : 1.0 (2.0/2.0)\n",
      "Night on Earth (1991) : 1.0 (4.0/4.0)\n",
      "Whole Wide World, The (1996) : 1.0 (1.0/1.0)\n",
      "Hearts and Minds (1996) : 1.0 (1.0/1.0)\n",
      "Dangerous Beauty (1998) : 1.0 (2.0/2.0)\n",
      "Primary Colors (1998) : 1.0 (1.0/1.0)\n",
      "Lost in Space (1998) : 1.0 (2.0/2.0)\n",
      "Mercury Rising (1998) : 1.0 (1.0/1.0)\n",
      "Two Bits (1995) : 1.0 (1.0/1.0)\n",
      "Flower of My Secret, The (Flor de mi secreto, La) (1995) : 1.0 (1.0/1.0)\n",
      "Brassed Off (1996) : 1.0 (3.0/3.0)\n",
      "What's Love Got to Do with It (1993) : 1.0 (3.0/3.0)\n",
      "Charade (1963) : 1.0 (2.0/2.0)\n",
      "Big Blue, The (Grand bleu, Le) (1988) : 1.0 (2.0/2.0)\n",
      "Before Sunrise (1995) : 1.0 (6.0/6.0)\n",
      "To Live (Huozhe) (1994) : 1.0 (2.0/2.0)\n",
      "Funny Face (1957) : 1.0 (2.0/2.0)\n",
      "Clean Slate (1994) : 1.0 (2.0/2.0)\n",
      "Raiders of the Lost Ark (1981) : 0.9591836734693877 (47.0/49.0)\n",
      "Vertigo (1958) : 0.9565217391304348 (22.0/23.0)\n",
      "Casablanca (1942) : 0.9565217391304348 (22.0/23.0)\n",
      "Taxi Driver (1976) : 0.9444444444444444 (17.0/18.0)\n",
      "Henry V (1989) : 0.9411764705882353 (16.0/17.0)\n",
      "Close Shave, A (1995) : 0.9411764705882353 (16.0/17.0)\n",
      "Treasure of the Sierra Madre, The (1948) : 0.9375 (15.0/16.0)\n",
      "Hoop Dreams (1994) : 0.9333333333333333 (14.0/15.0)\n",
      "Alien (1979) : 0.9333333333333333 (28.0/30.0)\n",
      "Magnificent Seven, The (1954) : 0.9333333333333333 (14.0/15.0)\n",
      "Chinatown (1974) : 0.9333333333333333 (14.0/15.0)\n",
      "Usual Suspects, The (1995) : 0.9310344827586207 (27.0/29.0)\n",
      "12 Angry Men (1957) : 0.9285714285714286 (13.0/14.0)\n",
      "Maltese Falcon, The (1941) : 0.9285714285714286 (13.0/14.0)\n",
      "This Is Spinal Tap (1984) : 0.9230769230769231 (24.0/26.0)\n",
      "Sling Blade (1996) : 0.9230769230769231 (12.0/13.0)\n",
      "Secret of Roan Inish, The (1994) : 0.9230769230769231 (12.0/13.0)\n",
      "Dead Man Walking (1995) : 0.9166666666666666 (33.0/36.0)\n",
      "Dr. Strangelove or: How I Learned to Stop Worrying and Love the Bomb (1963) : 0.9166666666666666 (22.0/24.0)\n",
      "Citizen Kane (1941) : 0.9130434782608695 (21.0/23.0)\n",
      "Adventures of Robin Hood, The (1938) : 0.9090909090909091 (10.0/11.0)\n",
      "Shadowlands (1993) : 0.9090909090909091 (10.0/11.0)\n",
      "Lawrence of Arabia (1962) : 0.9047619047619048 (19.0/21.0)\n",
      "Muriel's Wedding (1994) : 0.9 (9.0/10.0)\n",
      "Forbidden Planet (1956) : 0.9 (9.0/10.0)\n",
      "Bananas (1971) : 0.9 (9.0/10.0)\n",
      "Searching for Bobby Fischer (1993) : 0.8947368421052632 (17.0/19.0)\n",
      "Silence of the Lambs, The (1991) : 0.8936170212765957 (42.0/47.0)\n",
      "Babe (1995) : 0.8888888888888888 (24.0/27.0)\n",
      "Glengarry Glen Ross (1992) : 0.8888888888888888 (8.0/9.0)\n",
      "Cinema Paradiso (1988) : 0.8888888888888888 (16.0/18.0)\n",
      "In the Company of Men (1997) : 0.8888888888888888 (8.0/9.0)\n",
      "Butch Cassidy and the Sundance Kid (1969) : 0.8888888888888888 (24.0/27.0)\n",
      "Boot, Das (1981) : 0.8888888888888888 (16.0/18.0)\n",
      "Ran (1985) : 0.8888888888888888 (8.0/9.0)\n",
      "2001: A Space Odyssey (1968) : 0.8857142857142857 (31.0/35.0)\n",
      "Young Frankenstein (1974) : 0.8846153846153846 (23.0/26.0)\n",
      "Amadeus (1984) : 0.8823529411764706 (30.0/34.0)\n",
      "Fried Green Tomatoes (1991) : 0.8823529411764706 (15.0/17.0)\n",
      "Graduate, The (1967) : 0.88 (22.0/25.0)\n",
      "It's a Wonderful Life (1946) : 0.88 (22.0/25.0)\n",
      "Gandhi (1982) : 0.88 (22.0/25.0)\n",
      "Fargo (1996) : 0.8793103448275862 (51.0/58.0)\n",
      "Three Colors: Blue (1993) : 0.875 (7.0/8.0)\n",
      "Raise the Red Lantern (1991) : 0.875 (7.0/8.0)\n",
      "Empire Strikes Back, The (1980) : 0.8717948717948718 (34.0/39.0)\n",
      "Harold and Maude (1971) : 0.8666666666666667 (13.0/15.0)\n",
      "Star Wars (1977) : 0.8656716417910447 (58.0/67.0)\n",
      "Apocalypse Now (1979) : 0.8636363636363636 (19.0/22.0)\n",
      "Bridge on the River Kwai, The (1957) : 0.8636363636363636 (19.0/22.0)\n",
      "Braveheart (1995) : 0.8620689655172413 (25.0/29.0)\n",
      "Dead Poets Society (1989) : 0.8620689655172413 (25.0/29.0)\n",
      "Godfather, The (1972) : 0.8571428571428571 (36.0/42.0)\n",
      "Manon of the Spring (Manon des sources) (1986) : 0.8571428571428571 (6.0/7.0)\n",
      "Day the Earth Stood Still, The (1951) : 0.8571428571428571 (12.0/14.0)\n",
      "Some Like It Hot (1959) : 0.8571428571428571 (12.0/14.0)\n",
      "Notorious (1946) : 0.8571428571428571 (6.0/7.0)\n",
      "Bringing Up Baby (1938) : 0.8571428571428571 (6.0/7.0)\n",
      "My Left Foot (1989) : 0.8571428571428571 (12.0/14.0)\n",
      "Rob Roy (1995) : 0.8571428571428571 (6.0/7.0)\n",
      "M (1931) : 0.8571428571428571 (6.0/7.0)\n",
      "Swimming with Sharks (1995) : 0.8571428571428571 (6.0/7.0)\n",
      "Schindler's List (1993) : 0.8529411764705882 (29.0/34.0)\n",
      "Return of the Jedi (1983) : 0.8518518518518519 (46.0/54.0)\n",
      "GoodFellas (1990) : 0.8518518518518519 (23.0/27.0)\n",
      "Postino, Il (1994) : 0.85 (17.0/20.0)\n",
      "African Queen, The (1951) : 0.85 (17.0/20.0)\n",
      "Terminator 2: Judgment Day (1991) : 0.8484848484848485 (28.0/33.0)\n",
      "Pulp Fiction (1994) : 0.8478260869565217 (39.0/46.0)\n",
      "Professional, The (1994) : 0.8461538461538461 (11.0/13.0)\n",
      "Mr. Smith Goes to Washington (1939) : 0.8461538461538461 (11.0/13.0)\n",
      "To Kill a Mockingbird (1962) : 0.84 (21.0/25.0)\n",
      "One Flew Over the Cuckoo's Nest (1975) : 0.8387096774193549 (26.0/31.0)\n",
      "Terminator, The (1984) : 0.8378378378378378 (31.0/37.0)\n",
      "Priest (1994) : 0.8333333333333334 (5.0/6.0)\n",
      "Big Night (1996) : 0.8333333333333334 (15.0/18.0)\n",
      "Desperate Measures (1998) : 0.8333333333333334 (5.0/6.0)\n",
      "Desperate Measures (1998) : 0.8333333333333334 (5.0/6.0)\n",
      "Bronx Tale, A (1993) : 0.8333333333333334 (5.0/6.0)\n",
      "Apartment, The (1960) : 0.8333333333333334 (5.0/6.0)\n",
      "Cat on a Hot Tin Roof (1958) : 0.8333333333333334 (5.0/6.0)\n",
      "Secret Garden, The (1993) : 0.8333333333333334 (5.0/6.0)\n",
      "Lost Horizon (1937) : 0.8333333333333334 (5.0/6.0)\n",
      "Thin Blue Line, The (1988) : 0.8333333333333334 (5.0/6.0)\n",
      "Quiet Man, The (1952) : 0.8333333333333334 (5.0/6.0)\n",
      "Nosferatu (Nosferatu, eine Symphonie des Grauens) (1922) : 0.8333333333333334 (5.0/6.0)\n",
      "Kundun (1997) : 0.8333333333333334 (5.0/6.0)\n",
      "Fugitive, The (1993) : 0.8260869565217391 (38.0/46.0)\n",
      "North by Northwest (1959) : 0.8260869565217391 (19.0/23.0)\n",
      "Reservoir Dogs (1992) : 0.8235294117647058 (14.0/17.0)\n",
      "True Romance (1993) : 0.8181818181818182 (9.0/11.0)\n",
      "Fish Called Wanda, A (1988) : 0.8181818181818182 (27.0/33.0)\n",
      "Alice in Wonderland (1951) : 0.8181818181818182 (9.0/11.0)\n",
      "American Werewolf in London, An (1981) : 0.8181818181818182 (9.0/11.0)\n",
      "Man Who Would Be King, The (1975) : 0.8181818181818182 (9.0/11.0)\n",
      "Wizard of Oz, The (1939) : 0.8148148148148148 (22.0/27.0)\n",
      "Jaws (1975) : 0.8148148148148148 (22.0/27.0)\n",
      "Sense and Sensibility (1995) : 0.8148148148148148 (22.0/27.0)\n",
      "Crimson Tide (1995) : 0.8125 (13.0/16.0)\n",
      "Singin' in the Rain (1952) : 0.8125 (13.0/16.0)\n",
      "Monty Python and the Holy Grail (1974) : 0.8055555555555556 (29.0/36.0)\n",
      "What's Eating Gilbert Grape (1993) : 0.8 (8.0/10.0)\n",
      "Moll Flanders (1996) : 0.8 (4.0/5.0)\n",
      "Blues Brothers, The (1980) : 0.8 (20.0/25.0)\n",
      "Citizen Ruth (1996) : 0.8 (4.0/5.0)\n",
      "Shall We Dance? (1996) : 0.8 (4.0/5.0)\n",
      "Ice Storm, The (1997) : 0.8 (4.0/5.0)\n",
      "Titanic (1997) : 0.8 (24.0/30.0)\n",
      "Titanic (1997): 0.8 (24.0/30.0)\n"
     ]
    }
   ],
   "source": [
    "top_movies = generate_list_top_movies(names_df, ratings_df, n_movies=200)\n",
    "\n",
    "# change to 200 movies\n",
    "movie_name = top_movies[199][0]\n",
    "\n",
    "# Get the ratings info for the 200th (Titantic) movie in the top 200 list\n",
    "likes = top_movies[199][1]\n",
    "total_ratings = top_movies[199][2]\n",
    "likability = top_movies[199][3]\n",
    "\n",
    "# Print movie info\n",
    "print('{}: {} ({}/{})'.format(movie_name, likability, likes, total_ratings))"
   ]
  },
  {
   "cell_type": "code",
   "execution_count": 33,
   "metadata": {
    "colab": {
     "base_uri": "https://localhost:8080/",
     "height": 297
    },
    "colab_type": "code",
    "executionInfo": {
     "elapsed": 1470,
     "status": "ok",
     "timestamp": 1599762803064,
     "user": {
      "displayName": "Arnob Roy",
      "photoUrl": "https://lh3.googleusercontent.com/a-/AOh14GjueGA4Au65rRSEiAabhDS3fvJoPa63oYrxK0d3=s64",
      "userId": "12041806227534191136"
     },
     "user_tz": 240
    },
    "id": "xmoYO2JwSwYV",
    "outputId": "a8be601b-2ef5-4b66-80d1-ee2430b7fd55"
   },
   "outputs": [
    {
     "data": {
      "image/png": "[encoded data removed]",
      "text/plain": [
       "<Figure size 1440x288 with 5 Axes>"
      ]
     },
     "metadata": {
      "needs_background": "light",
      "tags": []
     },
     "output_type": "display_data"
    }
   ],
   "source": [
    "# Number of samples to use when approximating our posterior\n",
    "n_samples = 10000\n",
    "\n",
    "# Plot the posterior corresponding to each prior\n",
    "fig, ax = plt.subplots(1, n, figsize=(20, 4))\n",
    "\n",
    "# Start the index of the current subplot at 0\n",
    "ax_ind = 0\n",
    "\n",
    "# Iterate through all the shapes\n",
    "for a, b in beta_shapes:   \n",
    "    # Draw samples from the posterior corresponding to a particular beta prior\n",
    "    post_samples = sample_posterior(a, b, likes, total_ratings, n_samples)\n",
    "\n",
    "    # Approximate the posterior with a histogram of these samples\n",
    "    ax[ax_ind].hist(post_samples, bins=30, color='red', alpha=0.5)\n",
    "\n",
    "    # Find the approximate mode of the posterior\n",
    "    mode = find_mode(post_samples, 30)\n",
    "\n",
    "    # Plot the mode as a vertical line\n",
    "    ax[ax_ind].axvline(x=mode, linewidth=3, label='Posterior mode')\n",
    "    \n",
    "    # Set title, legends etc\n",
    "    ax[ax_ind].set_title('Posterior, with Beta prior (a={}, b={})'.format(a, b))\n",
    "    ax[ax_ind].legend(loc='best')\n",
    "\n",
    "    # Increment the subplot index\n",
    "    ax_ind += 1\n",
    "\n",
    "plt.tight_layout()\n",
    "plt.show() "
   ]
  },
  {
   "cell_type": "markdown",
   "metadata": {
    "colab_type": "text",
    "id": "KmbEnwDk2pOq"
   },
   "source": [
    "### Implement a ranking system that takes prior beliefs into account\n",
    "\n",
    "Let's **choose** a reasonable beta prior and build a list of top 25 movies that you would recommend to a new user based on the **posterior mode**.\n",
    "\n",
    "**Exercise 6:**\n",
    "In what important ways is our top 25 list using the posterior mode different from our top 25 list using the like-percent?\n",
    "\n",
    "Describe the possible benefits of using the posterior mode to rank movies instead of the like-percentage. \n",
    "\n",
    "Describe the possible draw-backs of using the posterior mode to rank movies. "
   ]
  },
  {
   "cell_type": "code",
   "execution_count": null,
   "metadata": {
    "colab": {
     "base_uri": "https://localhost:8080/",
     "height": 476
    },
    "colab_type": "code",
    "executionInfo": {
     "elapsed": 10302,
     "status": "ok",
     "timestamp": 1592914113509,
     "user": {
      "displayName": "Weiwei Pan",
      "photoUrl": "https://lh3.googleusercontent.com/a-/AOh14GiatfQpWWEvrdZoStaftACenTKNsz5wkQ4mU43OSw=s64",
      "userId": "10234662099878317233"
     },
     "user_tz": 240
    },
    "id": "02znKQf92pOs",
    "outputId": "88df8dab-6328-4fbd-c8cc-78644441fcfc"
   },
   "outputs": [
    {
     "name": "stdout",
     "output_type": "stream",
     "text": [
      "Top 25 Movies\n",
      "****************************\n",
      "Shawshank Redemption, The (1994) : 0.9785929704960366 (39.0/39.0)\n",
      "Godfather: Part II, The (1974) : 0.9586987844292337 (18.0/18.0)\n",
      "Cool Hand Luke (1967) : 0.9515282719607348 (20.0/20.0)\n",
      "Manchurian Candidate, The (1962) : 0.9438806571011833 (17.0/17.0)\n",
      "Glory (1989) : 0.9410470946670859 (17.0/17.0)\n",
      "Killing Fields, The (1984) : 0.9400033472238027 (14.0/14.0)\n",
      "Raiders of the Lost Ark (1981) : 0.9393412701020862 (47.0/49.0)\n",
      "Wrong Trousers, The (1993) : 0.9363181786261152 (14.0/14.0)\n",
      "Three Colors: Red (1994) : 0.9323707036936865 (12.0/12.0)\n",
      "Third Man, The (1949) : 0.924365309059088 (9.0/9.0)\n",
      "Three Colors: White (1994) : 0.9227382743084804 (8.0/8.0)\n",
      "Casablanca (1942) : 0.9144565784994227 (22.0/23.0)\n",
      "Vertigo (1958) : 0.9090587541322404 (22.0/23.0)\n",
      "Taxi Driver (1976) : 0.9078363191432738 (17.0/18.0)\n",
      "Local Hero (1983) : 0.9070367950093909 (10.0/10.0)\n",
      "High Noon (1952) : 0.9063832679515831 (11.0/11.0)\n",
      "Dr. Strangelove or: How I Learned to Stop Worrying and Love the Bomb (1963) : 0.9040354644144142 (22.0/24.0)\n",
      "Henry V (1989) : 0.903364418168656 (16.0/17.0)\n",
      "This Is Spinal Tap (1984) : 0.902985927645866 (24.0/26.0)\n",
      "Before Sunrise (1995) : 0.9016880217204024 (6.0/6.0)\n",
      "East of Eden (1955) : 0.8993504936435632 (8.0/8.0)\n",
      "Alien (1979) : 0.8986206075907722 (28.0/30.0)\n",
      "Usual Suspects, The (1995) : 0.8976278871644642 (27.0/29.0)\n",
      "Thin Man, The (1934) : 0.893644416267841 (8.0/8.0)\n",
      "Wallace & Gromit: The Best of Aardman Animation (1996) : 0.8898479786414519 (6.0/6.0)\n"
     ]
    }
   ],
   "source": [
    "# Step 1: Choose a beta prior that encodes a reasonable belief about likability \n",
    "a = 2 \n",
    "b = 2\n",
    "\n",
    "# Step 2: Make a list of movie names and their ratings info\n",
    "likability = []\n",
    "\n",
    "# Step 3: Iterate through all the movie names\n",
    "for name in names_df['movie_name'].values:\n",
    "    # Step 3a: Get ratings info for movie\n",
    "    total_ratings, likes = movie_stats(names_df, ratings_df, movie_name=name)\n",
    "\n",
    "    # Step 3b: Approximate the posterior given the ratings info and the prior\n",
    "    post_samples = sample_posterior(a, b, likes, total_ratings, n_samples)\n",
    "\n",
    "    # Step 3c: Approximate posterior mode\n",
    "    mode = find_mode(post_samples, 30)\n",
    "\n",
    "    # Step 3d: Add movie info to our list\n",
    "    likability.append((name, likes, total_ratings, mode))\n",
    "\n",
    "# Step 4: Sort our list of movie info by like-percentage, in descending order\n",
    "sorted_likability = sorted(likability, key=lambda t: t[3], reverse=True)  \n",
    "\n",
    "# Step 5: Get the movies with top 25 like-percentage\n",
    "top_25_movies = sorted_likability[:25]\n",
    "\n",
    "# Step 6: Print results of ranking\n",
    "print('Top 25 Movies')\n",
    "print('****************************')\n",
    "for movie, likes, total_ratings, likable in top_25_movies:\n",
    "    print(movie, ':', likable, '({}/{})'.format(likes, total_ratings))"
   ]
  },
  {
   "cell_type": "markdown",
   "metadata": {
    "colab_type": "text",
    "id": "4yTNbsEd2pOz"
   },
   "source": [
    "---"
   ]
  }
 ],
 "metadata": {
  "anaconda-cloud": {},
  "colab": {
   "collapsed_sections": [],
   "name": "Beta Binomial Model - In Class 9/10.ipynb",
   "provenance": [
    {
     "file_id": "1a7mupWXyqlJxWjdF3m0Iohslnz1BGduS",
     "timestamp": 1599759365605
    },
    {
     "file_id": "1zow966jzS7yxJIGpls-f7r2Qj_QTakL6",
     "timestamp": 1597881785934
    },
    {
     "file_id": "1Hyy2lq4hhjzYP7ZgWGON8S20QaLUJbee",
     "timestamp": 1588800219820
    }
   ]
  },
  "kernelspec": {
   "display_name": "Python 3",
   "language": "python",
   "name": "python3"
  },
  "language_info": {
   "codemirror_mode": {
    "name": "ipython",
    "version": 3
   },
   "file_extension": ".py",
   "mimetype": "text/x-python",
   "name": "python",
   "nbconvert_exporter": "python",
   "pygments_lexer": "ipython3",
   "version": "3.8.3"
  }
 },
 "nbformat": 4,
 "nbformat_minor": 1
}
